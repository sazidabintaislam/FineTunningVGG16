{
  "nbformat": 4,
  "nbformat_minor": 0,
  "metadata": {
    "kernelspec": {
      "display_name": "Python 3",
      "language": "python",
      "name": "python3"
    },
    "language_info": {
      "codemirror_mode": {
        "name": "ipython",
        "version": 3
      },
      "file_extension": ".py",
      "mimetype": "text/x-python",
      "name": "python",
      "nbconvert_exporter": "python",
      "pygments_lexer": "ipython3",
      "version": "3.8.5"
    },
    "colab": {
      "name": "VGG16_finetune5.ipynb",
      "provenance": [],
      "collapsed_sections": [],
      "include_colab_link": true
    },
    "accelerator": "GPU"
  },
  "cells": [
    {
      "cell_type": "markdown",
      "metadata": {
        "id": "view-in-github",
        "colab_type": "text"
      },
      "source": [
        "<a href=\"https://colab.research.google.com/github/sazidabintaislam/FineTunningVGG16/blob/main/VGG16_finetune5.ipynb\" target=\"_parent\"><img src=\"https://colab.research.google.com/assets/colab-badge.svg\" alt=\"Open In Colab\"/></a>"
      ]
    },
    {
      "cell_type": "code",
      "metadata": {
        "colab": {
          "base_uri": "https://localhost:8080/"
        },
        "id": "WBFTCDlpLz1r",
        "outputId": "b848ec0f-50b8-4fd3-edab-fb001727a20a"
      },
      "source": [
        "from google.colab import drive\n",
        "drive.mount('/content/drive')"
      ],
      "execution_count": 21,
      "outputs": [
        {
          "output_type": "stream",
          "text": [
            "Drive already mounted at /content/drive; to attempt to forcibly remount, call drive.mount(\"/content/drive\", force_remount=True).\n"
          ],
          "name": "stdout"
        }
      ]
    },
    {
      "cell_type": "code",
      "metadata": {
        "id": "irChVjbrEdBN"
      },
      "source": [
        "#this code is inspired from this link: https://www.pyimagesearch.com/2019/06/03/fine-tuning-with-keras-and-deep-learning/"
      ],
      "execution_count": 22,
      "outputs": []
    },
    {
      "cell_type": "code",
      "metadata": {
        "id": "dnrlHOOA6fnU"
      },
      "source": [
        "# define and move to dataset directory\n",
        "import os\n",
        "# import the needed packages\n",
        "import matplotlib.pyplot as plt\n",
        "import matplotlib.image as img\n",
        "import tensorflow.keras as keras\n",
        "import numpy as np\n",
        "from keras import backend as K\n",
        "from keras.models import Sequential\n",
        "from keras.preprocessing.image import ImageDataGenerator\n",
        "from keras.layers import Conv2D, MaxPooling2D\n",
        "from sklearn.metrics import classification_report, confusion_matrix\n",
        "import matplotlib.pyplot as plt\n",
        "from keras.layers import Dense, Dropout, Activation, Flatten, BatchNormalization\n",
        "from datetime import datetime\n",
        "import itertools \n",
        "from tensorflow.keras.callbacks import EarlyStopping"
      ],
      "execution_count": 23,
      "outputs": []
    },
    {
      "cell_type": "code",
      "metadata": {
        "id": "4HQk9o8X6fnb"
      },
      "source": [
        "trainPath = '/content/drive/MyDrive/snake_background_CNN2/train'\n",
        "valPath = '/content/drive/MyDrive/snake_background_CNN2/valid'\n",
        "testPath = '/content/drive/MyDrive/snake_background_CNN2/test'"
      ],
      "execution_count": 24,
      "outputs": []
    },
    {
      "cell_type": "code",
      "metadata": {
        "id": "rImyDYgs6fnc"
      },
      "source": [
        "trainAug = ImageDataGenerator(\n",
        "    rotation_range=40,\n",
        "    zoom_range=0.30,\n",
        "    width_shift_range=0.2,\n",
        "    height_shift_range=0.2,\n",
        "    shear_range=0.15,\n",
        "    horizontal_flip=True,\n",
        "    fill_mode=\"nearest\")\n",
        "# initialize the validation/testing data augmentation object (which\n",
        "# we'll be adding mean subtraction to)\n",
        "valAug = ImageDataGenerator()\n",
        "# define the ImageNet mean subtraction (in RGB order) and set the\n",
        "# the mean subtraction value for each of the data augmentation\n",
        "# objects\n",
        "testAug=ImageDataGenerator()\n",
        "mean = np.array([123.68, 116.779, 103.939], dtype=\"float32\")\n",
        "trainAug.mean = mean\n",
        "valAug.mean = mean\n",
        "testAug.mean = mean"
      ],
      "execution_count": 25,
      "outputs": []
    },
    {
      "cell_type": "code",
      "metadata": {
        "colab": {
          "base_uri": "https://localhost:8080/"
        },
        "id": "iUyOR9BQ6fnc",
        "outputId": "440c1bba-9445-4fb7-cef8-58c244081229"
      },
      "source": [
        "# initialize the training generator\n",
        "batch_size = 32\n",
        "trainGen = trainAug.flow_from_directory(\n",
        "    trainPath,\n",
        "    class_mode=\"categorical\",\n",
        "    target_size=(224, 224),\n",
        "    color_mode=\"rgb\",\n",
        "    shuffle=True,\n",
        "    batch_size=batch_size)\n",
        "# initialize the validation generator\n",
        "valGen = valAug.flow_from_directory(\n",
        "    valPath,\n",
        "    class_mode=\"categorical\",\n",
        "    target_size=(224, 224),\n",
        "    color_mode=\"rgb\",\n",
        "    shuffle=False,\n",
        "    batch_size=batch_size)\n",
        "# initialize the testing generator\n",
        "testGen = testAug.flow_from_directory(\n",
        "    testPath,\n",
        "    class_mode=\"categorical\",\n",
        "    target_size=(224, 224),\n",
        "    color_mode=\"rgb\",\n",
        "    shuffle=False,\n",
        "    batch_size=batch_size)"
      ],
      "execution_count": 26,
      "outputs": [
        {
          "output_type": "stream",
          "text": [
            "Found 2572 images belonging to 2 classes.\n",
            "Found 501 images belonging to 2 classes.\n",
            "Found 200 images belonging to 2 classes.\n"
          ],
          "name": "stdout"
        }
      ]
    },
    {
      "cell_type": "code",
      "metadata": {
        "colab": {
          "base_uri": "https://localhost:8080/"
        },
        "id": "grVn1svT6fnd",
        "outputId": "e1d9d5db-a2ca-4730-bb52-8de859868254"
      },
      "source": [
        "# load the VGG16 network, ensuring the head FC layer sets are left\n",
        "# off\n",
        "#VGG16 = keras.applications.vgg16\n",
        "\n",
        "from keras.layers import Input\n",
        "from keras.applications import VGG16\n",
        "from keras.models import Model\n",
        "from keras.optimizers import SGD\n",
        "\n",
        "baseModel = VGG16(weights=\"imagenet\", include_top=False, input_tensor=Input(shape=(224, 224, 3)))\n",
        "# construct the head of the model that will be placed on top of the\n",
        "# the base model\n",
        "\n",
        "# Freeze four convolution blocks\n",
        "for layer in baseModel.layers[:15]:\n",
        "    layer.trainable = False\n",
        "    \n",
        "headModel = baseModel.output\n",
        "headModel = Flatten(name=\"flatten\")(headModel)\n",
        "#headModel = Dense(512, activation=\"relu\")(headModel)\n",
        "#headModel = Dropout(0.5)(headModel)\n",
        "headModel = Dense(256, activation=\"relu\")(headModel)\n",
        "headModel = Dropout(0.5)(headModel)\n",
        "headModel = Dense(2, activation=\"softmax\")(headModel)\n",
        "# place the head FC model on top of the base model (this will become\n",
        "# the actual model we will train)\n",
        "model = Model(inputs=baseModel.input, outputs=headModel)\n",
        "\n",
        "model.summary() \n",
        "\n",
        "# Make sure you have frozen the correct layers\n",
        "for i, layer in enumerate(model.layers):\n",
        "    print(i, layer.name, layer.trainable)\n",
        "    "
      ],
      "execution_count": 27,
      "outputs": [
        {
          "output_type": "stream",
          "text": [
            "Model: \"model_2\"\n",
            "_________________________________________________________________\n",
            "Layer (type)                 Output Shape              Param #   \n",
            "=================================================================\n",
            "input_3 (InputLayer)         [(None, 224, 224, 3)]     0         \n",
            "_________________________________________________________________\n",
            "block1_conv1 (Conv2D)        (None, 224, 224, 64)      1792      \n",
            "_________________________________________________________________\n",
            "block1_conv2 (Conv2D)        (None, 224, 224, 64)      36928     \n",
            "_________________________________________________________________\n",
            "block1_pool (MaxPooling2D)   (None, 112, 112, 64)      0         \n",
            "_________________________________________________________________\n",
            "block2_conv1 (Conv2D)        (None, 112, 112, 128)     73856     \n",
            "_________________________________________________________________\n",
            "block2_conv2 (Conv2D)        (None, 112, 112, 128)     147584    \n",
            "_________________________________________________________________\n",
            "block2_pool (MaxPooling2D)   (None, 56, 56, 128)       0         \n",
            "_________________________________________________________________\n",
            "block3_conv1 (Conv2D)        (None, 56, 56, 256)       295168    \n",
            "_________________________________________________________________\n",
            "block3_conv2 (Conv2D)        (None, 56, 56, 256)       590080    \n",
            "_________________________________________________________________\n",
            "block3_conv3 (Conv2D)        (None, 56, 56, 256)       590080    \n",
            "_________________________________________________________________\n",
            "block3_pool (MaxPooling2D)   (None, 28, 28, 256)       0         \n",
            "_________________________________________________________________\n",
            "block4_conv1 (Conv2D)        (None, 28, 28, 512)       1180160   \n",
            "_________________________________________________________________\n",
            "block4_conv2 (Conv2D)        (None, 28, 28, 512)       2359808   \n",
            "_________________________________________________________________\n",
            "block4_conv3 (Conv2D)        (None, 28, 28, 512)       2359808   \n",
            "_________________________________________________________________\n",
            "block4_pool (MaxPooling2D)   (None, 14, 14, 512)       0         \n",
            "_________________________________________________________________\n",
            "block5_conv1 (Conv2D)        (None, 14, 14, 512)       2359808   \n",
            "_________________________________________________________________\n",
            "block5_conv2 (Conv2D)        (None, 14, 14, 512)       2359808   \n",
            "_________________________________________________________________\n",
            "block5_conv3 (Conv2D)        (None, 14, 14, 512)       2359808   \n",
            "_________________________________________________________________\n",
            "block5_pool (MaxPooling2D)   (None, 7, 7, 512)         0         \n",
            "_________________________________________________________________\n",
            "flatten (Flatten)            (None, 25088)             0         \n",
            "_________________________________________________________________\n",
            "dense_5 (Dense)              (None, 256)               6422784   \n",
            "_________________________________________________________________\n",
            "dropout_3 (Dropout)          (None, 256)               0         \n",
            "_________________________________________________________________\n",
            "dense_6 (Dense)              (None, 2)                 514       \n",
            "=================================================================\n",
            "Total params: 21,137,986\n",
            "Trainable params: 13,502,722\n",
            "Non-trainable params: 7,635,264\n",
            "_________________________________________________________________\n",
            "0 input_3 False\n",
            "1 block1_conv1 False\n",
            "2 block1_conv2 False\n",
            "3 block1_pool False\n",
            "4 block2_conv1 False\n",
            "5 block2_conv2 False\n",
            "6 block2_pool False\n",
            "7 block3_conv1 False\n",
            "8 block3_conv2 False\n",
            "9 block3_conv3 False\n",
            "10 block3_pool False\n",
            "11 block4_conv1 False\n",
            "12 block4_conv2 False\n",
            "13 block4_conv3 False\n",
            "14 block4_pool False\n",
            "15 block5_conv1 True\n",
            "16 block5_conv2 True\n",
            "17 block5_conv3 True\n",
            "18 block5_pool True\n",
            "19 flatten True\n",
            "20 dense_5 True\n",
            "21 dropout_3 True\n",
            "22 dense_6 True\n"
          ],
          "name": "stdout"
        }
      ]
    },
    {
      "cell_type": "code",
      "metadata": {
        "colab": {
          "base_uri": "https://localhost:8080/"
        },
        "id": "9F85mgpE6fne",
        "outputId": "ae21a781-6f10-46ce-e3d8-541a5ee4fc57"
      },
      "source": [
        "# compile our model (this needs to be done after our setting our\n",
        "# layers to being non-trainable\n",
        "\n",
        "totalTrain=2572\n",
        "totalVal=501\n",
        "print(\"compiling model...\")\n",
        "opt = SGD(lr=1e-4, momentum=0.9)\n",
        "model.compile(loss=\"binary_crossentropy\", optimizer=opt,metrics=[\"acc\"])\n",
        "# train the head of the network for a few epochs (all other layers\n",
        "# are frozen) -- this will allow the new FC layers to start to become\n",
        "# initialized with actual \"learned\" values versus pure random\n",
        "print(\"training head...\")\n",
        "H = model.fit(\n",
        "    x=trainGen,\n",
        "    steps_per_epoch=totalTrain // batch_size,\n",
        "    validation_data=valGen,\n",
        "    validation_steps=totalVal // batch_size,\n",
        "    epochs=50)"
      ],
      "execution_count": 16,
      "outputs": [
        {
          "output_type": "stream",
          "text": [
            "compiling model...\n",
            "training head...\n",
            "Epoch 1/50\n",
            "80/80 [==============================] - 1043s 13s/step - loss: 2.5785 - acc: 0.5995 - val_loss: 0.7479 - val_acc: 0.5688\n",
            "Epoch 2/50\n",
            "80/80 [==============================] - 168s 2s/step - loss: 0.6003 - acc: 0.6743 - val_loss: 0.6219 - val_acc: 0.6479\n",
            "Epoch 3/50\n",
            "80/80 [==============================] - 168s 2s/step - loss: 0.5706 - acc: 0.6802 - val_loss: 0.6032 - val_acc: 0.6333\n",
            "Epoch 4/50\n",
            "80/80 [==============================] - 170s 2s/step - loss: 0.5100 - acc: 0.7404 - val_loss: 0.5256 - val_acc: 0.7229\n",
            "Epoch 5/50\n",
            "80/80 [==============================] - 170s 2s/step - loss: 0.4790 - acc: 0.7620 - val_loss: 0.5107 - val_acc: 0.6875\n",
            "Epoch 6/50\n",
            "80/80 [==============================] - 173s 2s/step - loss: 0.4436 - acc: 0.7827 - val_loss: 0.5726 - val_acc: 0.6583\n",
            "Epoch 7/50\n",
            "80/80 [==============================] - 172s 2s/step - loss: 0.4170 - acc: 0.8149 - val_loss: 0.4377 - val_acc: 0.7479\n",
            "Epoch 8/50\n",
            "80/80 [==============================] - 170s 2s/step - loss: 0.4382 - acc: 0.8004 - val_loss: 0.5170 - val_acc: 0.6979\n",
            "Epoch 9/50\n",
            "80/80 [==============================] - 169s 2s/step - loss: 0.3712 - acc: 0.8451 - val_loss: 0.5645 - val_acc: 0.7042\n",
            "Epoch 10/50\n",
            "80/80 [==============================] - 168s 2s/step - loss: 0.3488 - acc: 0.8446 - val_loss: 0.5761 - val_acc: 0.6667\n",
            "Epoch 11/50\n",
            "80/80 [==============================] - 169s 2s/step - loss: 0.3403 - acc: 0.8600 - val_loss: 0.6316 - val_acc: 0.6938\n",
            "Epoch 12/50\n",
            "80/80 [==============================] - 168s 2s/step - loss: 0.3140 - acc: 0.8669 - val_loss: 0.3603 - val_acc: 0.8354\n",
            "Epoch 13/50\n",
            "80/80 [==============================] - 168s 2s/step - loss: 0.3063 - acc: 0.8687 - val_loss: 0.5131 - val_acc: 0.7188\n",
            "Epoch 14/50\n",
            "80/80 [==============================] - 168s 2s/step - loss: 0.3014 - acc: 0.8738 - val_loss: 0.7336 - val_acc: 0.6792\n",
            "Epoch 15/50\n",
            "80/80 [==============================] - 168s 2s/step - loss: 0.3076 - acc: 0.8770 - val_loss: 0.4564 - val_acc: 0.7729\n",
            "Epoch 16/50\n",
            "80/80 [==============================] - 168s 2s/step - loss: 0.2620 - acc: 0.8850 - val_loss: 0.4176 - val_acc: 0.7521\n",
            "Epoch 17/50\n",
            "80/80 [==============================] - 168s 2s/step - loss: 0.2462 - acc: 0.8969 - val_loss: 0.5984 - val_acc: 0.7354\n",
            "Epoch 18/50\n",
            "80/80 [==============================] - 167s 2s/step - loss: 0.2663 - acc: 0.8952 - val_loss: 0.4337 - val_acc: 0.8188\n",
            "Epoch 19/50\n",
            "80/80 [==============================] - 167s 2s/step - loss: 0.2380 - acc: 0.9050 - val_loss: 0.4800 - val_acc: 0.8062\n",
            "Epoch 20/50\n",
            "80/80 [==============================] - 169s 2s/step - loss: 0.2323 - acc: 0.9089 - val_loss: 0.3408 - val_acc: 0.8479\n",
            "Epoch 21/50\n",
            "80/80 [==============================] - 169s 2s/step - loss: 0.2110 - acc: 0.9209 - val_loss: 0.3108 - val_acc: 0.8750\n",
            "Epoch 22/50\n",
            "80/80 [==============================] - 169s 2s/step - loss: 0.2251 - acc: 0.9092 - val_loss: 0.3783 - val_acc: 0.8542\n",
            "Epoch 23/50\n",
            "80/80 [==============================] - 168s 2s/step - loss: 0.2124 - acc: 0.9171 - val_loss: 0.3193 - val_acc: 0.8583\n",
            "Epoch 24/50\n",
            "80/80 [==============================] - 169s 2s/step - loss: 0.1916 - acc: 0.9212 - val_loss: 0.2137 - val_acc: 0.9167\n",
            "Epoch 25/50\n",
            "80/80 [==============================] - 169s 2s/step - loss: 0.2028 - acc: 0.9170 - val_loss: 0.3082 - val_acc: 0.8813\n",
            "Epoch 26/50\n",
            "80/80 [==============================] - 169s 2s/step - loss: 0.1946 - acc: 0.9286 - val_loss: 0.2169 - val_acc: 0.9125\n",
            "Epoch 27/50\n",
            "80/80 [==============================] - 170s 2s/step - loss: 0.1921 - acc: 0.9261 - val_loss: 0.5414 - val_acc: 0.8104\n",
            "Epoch 28/50\n",
            "80/80 [==============================] - 169s 2s/step - loss: 0.1979 - acc: 0.9209 - val_loss: 0.2425 - val_acc: 0.9021\n",
            "Epoch 29/50\n",
            "80/80 [==============================] - 168s 2s/step - loss: 0.1805 - acc: 0.9246 - val_loss: 0.4068 - val_acc: 0.8562\n",
            "Epoch 30/50\n",
            "80/80 [==============================] - 167s 2s/step - loss: 0.1715 - acc: 0.9348 - val_loss: 0.3447 - val_acc: 0.8833\n",
            "Epoch 31/50\n",
            "80/80 [==============================] - 168s 2s/step - loss: 0.1848 - acc: 0.9226 - val_loss: 0.1730 - val_acc: 0.9375\n",
            "Epoch 32/50\n",
            "80/80 [==============================] - 167s 2s/step - loss: 0.1779 - acc: 0.9284 - val_loss: 0.2935 - val_acc: 0.8917\n",
            "Epoch 33/50\n",
            "80/80 [==============================] - 167s 2s/step - loss: 0.1766 - acc: 0.9249 - val_loss: 0.2547 - val_acc: 0.8979\n",
            "Epoch 34/50\n",
            "80/80 [==============================] - 169s 2s/step - loss: 0.1723 - acc: 0.9289 - val_loss: 0.2910 - val_acc: 0.8958\n",
            "Epoch 35/50\n",
            "80/80 [==============================] - 168s 2s/step - loss: 0.1699 - acc: 0.9334 - val_loss: 0.2432 - val_acc: 0.9146\n",
            "Epoch 36/50\n",
            "80/80 [==============================] - 168s 2s/step - loss: 0.1393 - acc: 0.9433 - val_loss: 0.1443 - val_acc: 0.9458\n",
            "Epoch 37/50\n",
            "80/80 [==============================] - 169s 2s/step - loss: 0.1404 - acc: 0.9457 - val_loss: 0.2853 - val_acc: 0.8979\n",
            "Epoch 38/50\n",
            "80/80 [==============================] - 169s 2s/step - loss: 0.1620 - acc: 0.9404 - val_loss: 0.2088 - val_acc: 0.9167\n",
            "Epoch 39/50\n",
            "80/80 [==============================] - 168s 2s/step - loss: 0.1404 - acc: 0.9529 - val_loss: 0.1304 - val_acc: 0.9438\n",
            "Epoch 40/50\n",
            "80/80 [==============================] - 169s 2s/step - loss: 0.1465 - acc: 0.9443 - val_loss: 0.1656 - val_acc: 0.9292\n",
            "Epoch 41/50\n",
            "80/80 [==============================] - 168s 2s/step - loss: 0.1324 - acc: 0.9474 - val_loss: 0.1266 - val_acc: 0.9542\n",
            "Epoch 42/50\n",
            "80/80 [==============================] - 167s 2s/step - loss: 0.1395 - acc: 0.9537 - val_loss: 0.1351 - val_acc: 0.9417\n",
            "Epoch 43/50\n",
            "80/80 [==============================] - 167s 2s/step - loss: 0.1415 - acc: 0.9478 - val_loss: 0.1121 - val_acc: 0.9625\n",
            "Epoch 44/50\n",
            "80/80 [==============================] - 167s 2s/step - loss: 0.1223 - acc: 0.9525 - val_loss: 0.0994 - val_acc: 0.9688\n",
            "Epoch 45/50\n",
            "80/80 [==============================] - 167s 2s/step - loss: 0.1150 - acc: 0.9549 - val_loss: 0.1461 - val_acc: 0.9396\n",
            "Epoch 46/50\n",
            "80/80 [==============================] - 162s 2s/step - loss: 0.1396 - acc: 0.9488 - val_loss: 0.1124 - val_acc: 0.9563\n",
            "Epoch 47/50\n",
            "80/80 [==============================] - 160s 2s/step - loss: 0.1135 - acc: 0.9545 - val_loss: 0.1842 - val_acc: 0.9229\n",
            "Epoch 48/50\n",
            "80/80 [==============================] - 159s 2s/step - loss: 0.1462 - acc: 0.9434 - val_loss: 0.1104 - val_acc: 0.9583\n",
            "Epoch 49/50\n",
            "80/80 [==============================] - 158s 2s/step - loss: 0.1098 - acc: 0.9595 - val_loss: 0.1668 - val_acc: 0.9250\n",
            "Epoch 50/50\n",
            "80/80 [==============================] - 157s 2s/step - loss: 0.1215 - acc: 0.9531 - val_loss: 0.1960 - val_acc: 0.9146\n"
          ],
          "name": "stdout"
        }
      ]
    },
    {
      "cell_type": "code",
      "metadata": {
        "id": "vtplowoW6fne",
        "colab": {
          "base_uri": "https://localhost:8080/"
        },
        "outputId": "ccf5d1f2-0ef1-48ec-980a-69d092cc070d"
      },
      "source": [
        "target_names = []\n",
        "for key in trainGen.class_indices:\n",
        "    target_names.append(key)\n",
        "    \n",
        "print(target_names)\n"
      ],
      "execution_count": 17,
      "outputs": [
        {
          "output_type": "stream",
          "text": [
            "['background', 'snake']\n"
          ],
          "name": "stdout"
        }
      ]
    },
    {
      "cell_type": "code",
      "metadata": {
        "id": "9fv7cPST6fnf",
        "colab": {
          "base_uri": "https://localhost:8080/",
          "height": 573
        },
        "outputId": "d82f6a4f-1b3d-4cc7-ffef-670e93bcfcf5"
      },
      "source": [
        "############################################\n",
        "#Plot the Graph\n",
        "\n",
        "acc = H.history['acc']\n",
        "val_acc = H.history['val_acc']\n",
        "loss = H.history['loss']\n",
        "val_loss = H.history['val_loss']\n",
        "epochs = range(1, len(acc) + 1)\n",
        "\n",
        "# Accuracy Curves\n",
        "\n",
        "plt.figure(1)\n",
        "# summarize history for accuracy\n",
        "plt.plot(H.history['acc'])\n",
        "plt.plot(H.history['val_acc'])\n",
        "plt.title('model accuracy of snake Vs Backgroud')\n",
        "plt.ylabel('accuracy')\n",
        "plt.xlabel('epoch')\n",
        "plt.legend(['train', 'validation'], loc='best')\n",
        "plt.savefig('acc.png')\n",
        "plt.show()\n",
        "\n",
        "plt.figure(2)\n",
        "# summarize history for loss\n",
        "plt.plot(H.history['loss'])\n",
        "plt.plot(H.history['val_loss'])\n",
        "plt.title('model loss of snake Vs Backgroud')\n",
        "plt.ylabel('loss')\n",
        "plt.xlabel('epoch')\n",
        "plt.legend(['train', 'validation'], loc='best')\n",
        "plt.savefig('loss.png')\n",
        "plt.show()"
      ],
      "execution_count": 18,
      "outputs": [
        {
          "output_type": "display_data",
          "data": {
            "image/png": "[encoded data removed]",
            "text/plain": [
              "<Figure size 432x288 with 1 Axes>"
            ]
          },
          "metadata": {
            "tags": [],
            "needs_background": "light"
          }
        },
        {
          "output_type": "display_data",
          "data": {
            "image/png": "[encoded data removed]",
            "text/plain": [
              "<Figure size 432x288 with 1 Axes>"
            ]
          },
          "metadata": {
            "tags": [],
            "needs_background": "light"
          }
        }
      ]
    },
    {
      "cell_type": "code",
      "metadata": {
        "id": "ptPpnqCh6fnf",
        "colab": {
          "base_uri": "https://localhost:8080/"
        },
        "outputId": "98b17da8-674a-4305-e0f2-7416a92d9fbd"
      },
      "source": [
        "# reset the testing generator and evaluate the network after\n",
        "# fine-tuning just the network head\n",
        "print(\"evaluating after fine-tuning network head...\")\n",
        "\n",
        "totalTest=200\n",
        "testGen.reset()\n",
        "predIdxs = model.predict(x=testGen, steps=(totalTest // batch_size) + 1)\n",
        "predIdxs = np.argmax(predIdxs, axis=1)\n",
        "print(classification_report(testGen.classes, predIdxs,\n",
        "    target_names=testGen.class_indices.keys()))"
      ],
      "execution_count": 19,
      "outputs": [
        {
          "output_type": "stream",
          "text": [
            "evaluating after fine-tuning network head...\n",
            "              precision    recall  f1-score   support\n",
            "\n",
            "  background       0.96      0.72      0.82       100\n",
            "       snake       0.78      0.97      0.86       100\n",
            "\n",
            "    accuracy                           0.84       200\n",
            "   macro avg       0.87      0.84      0.84       200\n",
            "weighted avg       0.87      0.84      0.84       200\n",
            "\n"
          ],
          "name": "stdout"
        }
      ]
    },
    {
      "cell_type": "code",
      "metadata": {
        "id": "KDyxk1Ry6fng",
        "colab": {
          "base_uri": "https://localhost:8080/",
          "height": 313
        },
        "outputId": "b9e1ced1-032a-49b2-811a-a262e281c5df"
      },
      "source": [
        "def plot_confusion_matrix(cm, classes, normalize=False, title='Confusion matrix of snake Vs background', cmap=plt.cm.Blues):\n",
        "    \"\"\"\n",
        "    This function prints and plots the confusion matrix.\n",
        "    Normalization can be applied by setting `normalize=True`.\n",
        "    \"\"\"\n",
        "    #plt.figure(figsize=(8,8))\n",
        "\n",
        "    plt.imshow(cm, interpolation='nearest', cmap=cmap)\n",
        "    plt.title(title)\n",
        "    #plt.colorbar()\n",
        "\n",
        "    tick_marks = np.arange(len(classes))\n",
        "    plt.xticks(tick_marks, classes)\n",
        "    plt.yticks(tick_marks, classes)\n",
        "\n",
        "    if normalize:\n",
        "        cm = cm.astype('float') / cm.sum(axis=1)[:, np.newaxis]\n",
        "        cm = np.around(cm, decimals=2)\n",
        "        cm[np.isnan(cm)] = 0.0\n",
        "        print(\"Normalized confusion matrix\")\n",
        "    else:\n",
        "        print('Confusion matrix, without normalization')\n",
        "    thresh = cm.max() / 2.\n",
        "    for i, j in itertools.product(range(cm.shape[0]), range(cm.shape[1])):\n",
        "        plt.text(j, i, cm[i, j],\n",
        "                 horizontalalignment=\"center\",\n",
        "                 color=\"white\" if cm[i, j] > thresh else \"black\")\n",
        "    #plt.tight_layout()\n",
        "    plt.ylabel('True label')\n",
        "    plt.xlabel('Predicted label')\n",
        "   \n",
        "\n",
        "#thresh = cm.max() / 2.\n",
        "#Matplotlib’s matshow\n",
        "cm = confusion_matrix(testGen.classes, predIdxs)\n",
        "\n",
        "plt.figure(3)\n",
        "plot_confusion_matrix(cm, target_names, title='Confusion matrix of snake Vs Backgroud')\n",
        "#print(cm)\n",
        "plt.savefig('snake_VGG16.png')\n",
        "plt.show()"
      ],
      "execution_count": 20,
      "outputs": [
        {
          "output_type": "stream",
          "text": [
            "Confusion matrix, without normalization\n"
          ],
          "name": "stdout"
        },
        {
          "output_type": "display_data",
          "data": {
            "image/png": "[encoded data removed]",
            "text/plain": [
              "<Figure size 432x288 with 1 Axes>"
            ]
          },
          "metadata": {
            "tags": [],
            "needs_background": "light"
          }
        }
      ]
    },
    {
      "cell_type": "code",
      "metadata": {
        "id": "spmBp5tG6fnh"
      },
      "source": [
        ""
      ],
      "execution_count": 20,
      "outputs": []
    }
  ]
}