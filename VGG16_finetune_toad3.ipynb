{
  "nbformat": 4,
  "nbformat_minor": 0,
  "metadata": {
    "accelerator": "GPU",
    "colab": {
      "name": "VGG16_finetune_toad3.ipynb",
      "provenance": [],
      "collapsed_sections": [],
      "include_colab_link": true
    },
    "kernelspec": {
      "display_name": "Python 3",
      "language": "python",
      "name": "python3"
    },
    "language_info": {
      "codemirror_mode": {
        "name": "ipython",
        "version": 3
      },
      "file_extension": ".py",
      "mimetype": "text/x-python",
      "name": "python",
      "nbconvert_exporter": "python",
      "pygments_lexer": "ipython3",
      "version": "3.8.5"
    }
  },
  "cells": [
    {
      "cell_type": "markdown",
      "metadata": {
        "id": "view-in-github",
        "colab_type": "text"
      },
      "source": [
        "<a href=\"https://colab.research.google.com/github/sazidabintaislam/FineTunningVGG16/blob/main/VGG16_finetune_toad3.ipynb\" target=\"_parent\"><img src=\"https://colab.research.google.com/assets/colab-badge.svg\" alt=\"Open In Colab\"/></a>"
      ]
    },
    {
      "cell_type": "code",
      "metadata": {
        "colab": {
          "base_uri": "https://localhost:8080/"
        },
        "id": "WBFTCDlpLz1r",
        "outputId": "ce55607a-a8cf-48b3-a603-c46fabd31a06"
      },
      "source": [
        "from google.colab import drive\n",
        "drive.mount('/content/drive')"
      ],
      "execution_count": 6,
      "outputs": [
        {
          "output_type": "stream",
          "text": [
            "Drive already mounted at /content/drive; to attempt to forcibly remount, call drive.mount(\"/content/drive\", force_remount=True).\n"
          ],
          "name": "stdout"
        }
      ]
    },
    {
      "cell_type": "code",
      "metadata": {
        "id": "irChVjbrEdBN"
      },
      "source": [
        "#this code is inspired from this link: https://www.pyimagesearch.com/2019/06/03/fine-tuning-with-keras-and-deep-learning/"
      ],
      "execution_count": 7,
      "outputs": []
    },
    {
      "cell_type": "code",
      "metadata": {
        "id": "dnrlHOOA6fnU"
      },
      "source": [
        "# define and move to dataset directory\n",
        "import os\n",
        "# import the needed packages\n",
        "import matplotlib.pyplot as plt\n",
        "import matplotlib.image as img\n",
        "import tensorflow.keras as keras\n",
        "import numpy as np\n",
        "from keras import backend as K\n",
        "from keras.models import Sequential\n",
        "from keras.preprocessing.image import ImageDataGenerator\n",
        "from keras.layers import Conv2D, MaxPooling2D\n",
        "from sklearn.metrics import classification_report, confusion_matrix\n",
        "import matplotlib.pyplot as plt\n",
        "from keras.layers import Dense, Dropout, Activation, Flatten, BatchNormalization\n",
        "from datetime import datetime\n",
        "import itertools \n",
        "from tensorflow.keras.callbacks import EarlyStopping"
      ],
      "execution_count": 8,
      "outputs": []
    },
    {
      "cell_type": "code",
      "metadata": {
        "id": "4HQk9o8X6fnb"
      },
      "source": [
        "trainPath = '/content/drive/MyDrive/toad_background_CNN2/train'\n",
        "valPath = '/content/drive/MyDrive/toad_background_CNN2/valid'\n",
        "testPath = '/content/drive/MyDrive/toad_background_CNN2/test'"
      ],
      "execution_count": 9,
      "outputs": []
    },
    {
      "cell_type": "code",
      "metadata": {
        "id": "rImyDYgs6fnc"
      },
      "source": [
        "trainAug = ImageDataGenerator(\n",
        "    rotation_range=40,\n",
        "    zoom_range=0.30,\n",
        "    width_shift_range=0.2,\n",
        "    height_shift_range=0.2,\n",
        "    shear_range=0.15,\n",
        "    horizontal_flip=True,\n",
        "    fill_mode=\"nearest\")\n",
        "# initialize the validation/testing data augmentation object (which\n",
        "# we'll be adding mean subtraction to)\n",
        "valAug = ImageDataGenerator()\n",
        "# define the ImageNet mean subtraction (in RGB order) and set the\n",
        "# the mean subtraction value for each of the data augmentation\n",
        "# objects\n",
        "testAug=ImageDataGenerator()\n",
        "mean = np.array([123.68, 116.779, 103.939], dtype=\"float32\")\n",
        "trainAug.mean = mean\n",
        "valAug.mean = mean\n",
        "testAug.mean = mean"
      ],
      "execution_count": 10,
      "outputs": []
    },
    {
      "cell_type": "code",
      "metadata": {
        "colab": {
          "base_uri": "https://localhost:8080/"
        },
        "id": "iUyOR9BQ6fnc",
        "outputId": "c8e4f076-707c-4e6b-fd6c-be305f7b1219"
      },
      "source": [
        "# initialize the training generator\n",
        "batch_size = 32\n",
        "trainGen = trainAug.flow_from_directory(\n",
        "    trainPath,\n",
        "    class_mode=\"categorical\",\n",
        "    target_size=(224, 224),\n",
        "    color_mode=\"rgb\",\n",
        "    shuffle=True,\n",
        "    batch_size=batch_size)\n",
        "# initialize the validation generator\n",
        "valGen = valAug.flow_from_directory(\n",
        "    valPath,\n",
        "    class_mode=\"categorical\",\n",
        "    target_size=(224, 224),\n",
        "    color_mode=\"rgb\",\n",
        "    shuffle=False,\n",
        "    batch_size=batch_size)\n",
        "# initialize the testing generator\n",
        "testGen = testAug.flow_from_directory(\n",
        "    testPath,\n",
        "    class_mode=\"categorical\",\n",
        "    target_size=(224, 224),\n",
        "    color_mode=\"rgb\",\n",
        "    shuffle=False,\n",
        "    batch_size=batch_size)"
      ],
      "execution_count": 11,
      "outputs": [
        {
          "output_type": "stream",
          "text": [
            "Found 2121 images belonging to 2 classes.\n",
            "Found 500 images belonging to 2 classes.\n",
            "Found 200 images belonging to 2 classes.\n"
          ],
          "name": "stdout"
        }
      ]
    },
    {
      "cell_type": "code",
      "metadata": {
        "colab": {
          "base_uri": "https://localhost:8080/"
        },
        "id": "grVn1svT6fnd",
        "outputId": "a2225b77-d3fc-43ea-c9fa-607e909d71d8"
      },
      "source": [
        "# load the VGG16 network, ensuring the head FC layer sets are left\n",
        "# off\n",
        "#VGG16 = keras.applications.vgg16\n",
        "\n",
        "from keras.layers import Input\n",
        "from keras.applications import VGG16\n",
        "from keras.models import Model\n",
        "from keras.optimizers import Adam\n",
        "\n",
        "baseModel = VGG16(weights=\"imagenet\", include_top=False, input_tensor=Input(shape=(224, 224, 3)))\n",
        "# construct the head of the model that will be placed on top of the\n",
        "# the base model\n",
        "\n",
        "# Freeze four convolution blocks\n",
        "for layer in baseModel.layers:\n",
        "    layer.trainable = False\n",
        "    \n",
        "headModel = baseModel.output\n",
        "headModel = Flatten(name=\"flatten\")(headModel)\n",
        "headModel = Dense(512, activation=\"relu\")(headModel)\n",
        "headModel = Dropout(0.5)(headModel)\n",
        "headModel = Dense(256, activation=\"relu\")(headModel)\n",
        "headModel = Dropout(0.5)(headModel)\n",
        "headModel = Dense(2, activation=\"softmax\")(headModel)\n",
        "# place the head FC model on top of the base model (this will become\n",
        "# the actual model we will train)\n",
        "model = Model(inputs=baseModel.input, outputs=headModel)\n",
        "\n",
        "model.summary() \n",
        "\n",
        "# Make sure you have frozen the correct layers\n",
        "for i, layer in enumerate(model.layers):\n",
        "    print(i, layer.name, layer.trainable)\n",
        "    "
      ],
      "execution_count": 12,
      "outputs": [
        {
          "output_type": "stream",
          "text": [
            "Model: \"model_1\"\n",
            "_________________________________________________________________\n",
            "Layer (type)                 Output Shape              Param #   \n",
            "=================================================================\n",
            "input_3 (InputLayer)         [(None, 224, 224, 3)]     0         \n",
            "_________________________________________________________________\n",
            "block1_conv1 (Conv2D)        (None, 224, 224, 64)      1792      \n",
            "_________________________________________________________________\n",
            "block1_conv2 (Conv2D)        (None, 224, 224, 64)      36928     \n",
            "_________________________________________________________________\n",
            "block1_pool (MaxPooling2D)   (None, 112, 112, 64)      0         \n",
            "_________________________________________________________________\n",
            "block2_conv1 (Conv2D)        (None, 112, 112, 128)     73856     \n",
            "_________________________________________________________________\n",
            "block2_conv2 (Conv2D)        (None, 112, 112, 128)     147584    \n",
            "_________________________________________________________________\n",
            "block2_pool (MaxPooling2D)   (None, 56, 56, 128)       0         \n",
            "_________________________________________________________________\n",
            "block3_conv1 (Conv2D)        (None, 56, 56, 256)       295168    \n",
            "_________________________________________________________________\n",
            "block3_conv2 (Conv2D)        (None, 56, 56, 256)       590080    \n",
            "_________________________________________________________________\n",
            "block3_conv3 (Conv2D)        (None, 56, 56, 256)       590080    \n",
            "_________________________________________________________________\n",
            "block3_pool (MaxPooling2D)   (None, 28, 28, 256)       0         \n",
            "_________________________________________________________________\n",
            "block4_conv1 (Conv2D)        (None, 28, 28, 512)       1180160   \n",
            "_________________________________________________________________\n",
            "block4_conv2 (Conv2D)        (None, 28, 28, 512)       2359808   \n",
            "_________________________________________________________________\n",
            "block4_conv3 (Conv2D)        (None, 28, 28, 512)       2359808   \n",
            "_________________________________________________________________\n",
            "block4_pool (MaxPooling2D)   (None, 14, 14, 512)       0         \n",
            "_________________________________________________________________\n",
            "block5_conv1 (Conv2D)        (None, 14, 14, 512)       2359808   \n",
            "_________________________________________________________________\n",
            "block5_conv2 (Conv2D)        (None, 14, 14, 512)       2359808   \n",
            "_________________________________________________________________\n",
            "block5_conv3 (Conv2D)        (None, 14, 14, 512)       2359808   \n",
            "_________________________________________________________________\n",
            "block5_pool (MaxPooling2D)   (None, 7, 7, 512)         0         \n",
            "_________________________________________________________________\n",
            "flatten (Flatten)            (None, 25088)             0         \n",
            "_________________________________________________________________\n",
            "dense_3 (Dense)              (None, 512)               12845568  \n",
            "_________________________________________________________________\n",
            "dropout_2 (Dropout)          (None, 512)               0         \n",
            "_________________________________________________________________\n",
            "dense_4 (Dense)              (None, 256)               131328    \n",
            "_________________________________________________________________\n",
            "dropout_3 (Dropout)          (None, 256)               0         \n",
            "_________________________________________________________________\n",
            "dense_5 (Dense)              (None, 2)                 514       \n",
            "=================================================================\n",
            "Total params: 27,692,098\n",
            "Trainable params: 12,977,410\n",
            "Non-trainable params: 14,714,688\n",
            "_________________________________________________________________\n",
            "0 input_3 False\n",
            "1 block1_conv1 False\n",
            "2 block1_conv2 False\n",
            "3 block1_pool False\n",
            "4 block2_conv1 False\n",
            "5 block2_conv2 False\n",
            "6 block2_pool False\n",
            "7 block3_conv1 False\n",
            "8 block3_conv2 False\n",
            "9 block3_conv3 False\n",
            "10 block3_pool False\n",
            "11 block4_conv1 False\n",
            "12 block4_conv2 False\n",
            "13 block4_conv3 False\n",
            "14 block4_pool False\n",
            "15 block5_conv1 False\n",
            "16 block5_conv2 False\n",
            "17 block5_conv3 False\n",
            "18 block5_pool False\n",
            "19 flatten True\n",
            "20 dense_3 True\n",
            "21 dropout_2 True\n",
            "22 dense_4 True\n",
            "23 dropout_3 True\n",
            "24 dense_5 True\n"
          ],
          "name": "stdout"
        }
      ]
    },
    {
      "cell_type": "code",
      "metadata": {
        "colab": {
          "base_uri": "https://localhost:8080/"
        },
        "id": "9F85mgpE6fne",
        "outputId": "84c8b622-1847-4ca8-93d7-10e45ec90dda"
      },
      "source": [
        "# compile our model (this needs to be done after our setting our\n",
        "# layers to being non-trainable\n",
        "\n",
        "totalTrain=2121\n",
        "totalVal=500\n",
        "print(\"compiling model...\")\n",
        "#opt = SGD(lr=1e-4, momentum=0.9)\n",
        "opt = Adam(learning_rate=0.0001)\n",
        "model.compile(loss=\"binary_crossentropy\", optimizer=opt,metrics=[\"acc\"])\n",
        "# train the head of the network for a few epochs (all other layers\n",
        "# are frozen) -- this will allow the new FC layers to start to become\n",
        "# initialized with actual \"learned\" values versus pure random\n",
        "print(\"training head...\")\n",
        "H = model.fit(\n",
        "    x=trainGen,\n",
        "    steps_per_epoch=totalTrain // batch_size,\n",
        "    validation_data=valGen,\n",
        "    validation_steps=totalVal // batch_size,\n",
        "    epochs=50)"
      ],
      "execution_count": 13,
      "outputs": [
        {
          "output_type": "stream",
          "text": [
            "compiling model...\n",
            "training head...\n",
            "Epoch 1/50\n",
            "66/66 [==============================] - 1343s 20s/step - loss: 3.8032 - acc: 0.6773 - val_loss: 0.4089 - val_acc: 0.8917\n",
            "Epoch 2/50\n",
            "66/66 [==============================] - 148s 2s/step - loss: 1.2568 - acc: 0.8467 - val_loss: 0.2325 - val_acc: 0.9000\n",
            "Epoch 3/50\n",
            "66/66 [==============================] - 148s 2s/step - loss: 0.8571 - acc: 0.8742 - val_loss: 0.1295 - val_acc: 0.9521\n",
            "Epoch 4/50\n",
            "66/66 [==============================] - 149s 2s/step - loss: 0.6636 - acc: 0.8934 - val_loss: 0.1148 - val_acc: 0.9646\n",
            "Epoch 5/50\n",
            "66/66 [==============================] - 140s 2s/step - loss: 0.5671 - acc: 0.8966 - val_loss: 0.0986 - val_acc: 0.9646\n",
            "Epoch 6/50\n",
            "66/66 [==============================] - 140s 2s/step - loss: 0.4183 - acc: 0.9114 - val_loss: 0.0756 - val_acc: 0.9750\n",
            "Epoch 7/50\n",
            "66/66 [==============================] - 139s 2s/step - loss: 0.3849 - acc: 0.9095 - val_loss: 0.0973 - val_acc: 0.9688\n",
            "Epoch 8/50\n",
            "66/66 [==============================] - 139s 2s/step - loss: 0.3412 - acc: 0.9065 - val_loss: 0.0714 - val_acc: 0.9875\n",
            "Epoch 9/50\n",
            "66/66 [==============================] - 139s 2s/step - loss: 0.3374 - acc: 0.9158 - val_loss: 0.0578 - val_acc: 0.9937\n",
            "Epoch 10/50\n",
            "66/66 [==============================] - 138s 2s/step - loss: 0.2793 - acc: 0.9267 - val_loss: 0.0662 - val_acc: 0.9792\n",
            "Epoch 11/50\n",
            "66/66 [==============================] - 138s 2s/step - loss: 0.2605 - acc: 0.9235 - val_loss: 0.0647 - val_acc: 0.9896\n",
            "Epoch 12/50\n",
            "66/66 [==============================] - 139s 2s/step - loss: 0.2650 - acc: 0.9261 - val_loss: 0.0608 - val_acc: 0.9896\n",
            "Epoch 13/50\n",
            "66/66 [==============================] - 139s 2s/step - loss: 0.2056 - acc: 0.9371 - val_loss: 0.0532 - val_acc: 0.9875\n",
            "Epoch 14/50\n",
            "66/66 [==============================] - 140s 2s/step - loss: 0.2536 - acc: 0.9206 - val_loss: 0.0607 - val_acc: 0.9854\n",
            "Epoch 15/50\n",
            "66/66 [==============================] - 137s 2s/step - loss: 0.2080 - acc: 0.9344 - val_loss: 0.0826 - val_acc: 0.9750\n",
            "Epoch 16/50\n",
            "66/66 [==============================] - 137s 2s/step - loss: 0.2096 - acc: 0.9334 - val_loss: 0.0742 - val_acc: 0.9792\n",
            "Epoch 17/50\n",
            "66/66 [==============================] - 136s 2s/step - loss: 0.2038 - acc: 0.9451 - val_loss: 0.0731 - val_acc: 0.9792\n",
            "Epoch 18/50\n",
            "66/66 [==============================] - 142s 2s/step - loss: 0.2089 - acc: 0.9221 - val_loss: 0.0557 - val_acc: 0.9833\n",
            "Epoch 19/50\n",
            "66/66 [==============================] - 141s 2s/step - loss: 0.1716 - acc: 0.9469 - val_loss: 0.0445 - val_acc: 0.9917\n",
            "Epoch 20/50\n",
            "66/66 [==============================] - 142s 2s/step - loss: 0.1948 - acc: 0.9394 - val_loss: 0.0427 - val_acc: 0.9896\n",
            "Epoch 21/50\n",
            "66/66 [==============================] - 147s 2s/step - loss: 0.1549 - acc: 0.9509 - val_loss: 0.0498 - val_acc: 0.9937\n",
            "Epoch 22/50\n",
            "66/66 [==============================] - 150s 2s/step - loss: 0.1704 - acc: 0.9461 - val_loss: 0.0439 - val_acc: 0.9896\n",
            "Epoch 23/50\n",
            "66/66 [==============================] - 151s 2s/step - loss: 0.1758 - acc: 0.9417 - val_loss: 0.0498 - val_acc: 0.9854\n",
            "Epoch 24/50\n",
            "66/66 [==============================] - 152s 2s/step - loss: 0.1581 - acc: 0.9395 - val_loss: 0.0418 - val_acc: 0.9896\n",
            "Epoch 25/50\n",
            "66/66 [==============================] - 148s 2s/step - loss: 0.1629 - acc: 0.9474 - val_loss: 0.0480 - val_acc: 0.9875\n",
            "Epoch 26/50\n",
            "66/66 [==============================] - 144s 2s/step - loss: 0.1204 - acc: 0.9621 - val_loss: 0.0505 - val_acc: 0.9875\n",
            "Epoch 27/50\n",
            "66/66 [==============================] - 146s 2s/step - loss: 0.1563 - acc: 0.9509 - val_loss: 0.0399 - val_acc: 0.9917\n",
            "Epoch 28/50\n",
            "66/66 [==============================] - 148s 2s/step - loss: 0.1525 - acc: 0.9462 - val_loss: 0.0496 - val_acc: 0.9896\n",
            "Epoch 29/50\n",
            "66/66 [==============================] - 148s 2s/step - loss: 0.1466 - acc: 0.9552 - val_loss: 0.0455 - val_acc: 0.9896\n",
            "Epoch 30/50\n",
            "66/66 [==============================] - 148s 2s/step - loss: 0.1590 - acc: 0.9496 - val_loss: 0.0627 - val_acc: 0.9854\n",
            "Epoch 31/50\n",
            "66/66 [==============================] - 148s 2s/step - loss: 0.1767 - acc: 0.9442 - val_loss: 0.0386 - val_acc: 0.9917\n",
            "Epoch 32/50\n",
            "66/66 [==============================] - 146s 2s/step - loss: 0.1841 - acc: 0.9424 - val_loss: 0.0449 - val_acc: 0.9896\n",
            "Epoch 33/50\n",
            "66/66 [==============================] - 147s 2s/step - loss: 0.1367 - acc: 0.9613 - val_loss: 0.0697 - val_acc: 0.9729\n",
            "Epoch 34/50\n",
            "66/66 [==============================] - 147s 2s/step - loss: 0.1340 - acc: 0.9645 - val_loss: 0.0348 - val_acc: 0.9917\n",
            "Epoch 35/50\n",
            "66/66 [==============================] - 147s 2s/step - loss: 0.1478 - acc: 0.9526 - val_loss: 0.0404 - val_acc: 0.9896\n",
            "Epoch 36/50\n",
            "66/66 [==============================] - 147s 2s/step - loss: 0.1398 - acc: 0.9586 - val_loss: 0.0391 - val_acc: 0.9896\n",
            "Epoch 37/50\n",
            "66/66 [==============================] - 146s 2s/step - loss: 0.1377 - acc: 0.9573 - val_loss: 0.0360 - val_acc: 0.9917\n",
            "Epoch 38/50\n",
            "66/66 [==============================] - 146s 2s/step - loss: 0.1636 - acc: 0.9500 - val_loss: 0.0416 - val_acc: 0.9896\n",
            "Epoch 39/50\n",
            "66/66 [==============================] - 145s 2s/step - loss: 0.1414 - acc: 0.9515 - val_loss: 0.0322 - val_acc: 0.9896\n",
            "Epoch 40/50\n",
            "66/66 [==============================] - 145s 2s/step - loss: 0.1374 - acc: 0.9600 - val_loss: 0.0288 - val_acc: 0.9917\n",
            "Epoch 41/50\n",
            "66/66 [==============================] - 145s 2s/step - loss: 0.1453 - acc: 0.9554 - val_loss: 0.0322 - val_acc: 0.9917\n",
            "Epoch 42/50\n",
            "66/66 [==============================] - 145s 2s/step - loss: 0.1303 - acc: 0.9603 - val_loss: 0.0409 - val_acc: 0.9896\n",
            "Epoch 43/50\n",
            "66/66 [==============================] - 145s 2s/step - loss: 0.1637 - acc: 0.9528 - val_loss: 0.0395 - val_acc: 0.9896\n",
            "Epoch 44/50\n",
            "66/66 [==============================] - 145s 2s/step - loss: 0.1275 - acc: 0.9549 - val_loss: 0.0343 - val_acc: 0.9917\n",
            "Epoch 45/50\n",
            "66/66 [==============================] - 145s 2s/step - loss: 0.1378 - acc: 0.9502 - val_loss: 0.0318 - val_acc: 0.9917\n",
            "Epoch 46/50\n",
            "66/66 [==============================] - 145s 2s/step - loss: 0.1394 - acc: 0.9564 - val_loss: 0.0332 - val_acc: 0.9917\n",
            "Epoch 47/50\n",
            "66/66 [==============================] - 145s 2s/step - loss: 0.1371 - acc: 0.9565 - val_loss: 0.0278 - val_acc: 0.9937\n",
            "Epoch 48/50\n",
            "66/66 [==============================] - 141s 2s/step - loss: 0.1106 - acc: 0.9630 - val_loss: 0.0357 - val_acc: 0.9896\n",
            "Epoch 49/50\n",
            "66/66 [==============================] - 142s 2s/step - loss: 0.1581 - acc: 0.9532 - val_loss: 0.0369 - val_acc: 0.9917\n",
            "Epoch 50/50\n",
            "66/66 [==============================] - 138s 2s/step - loss: 0.1407 - acc: 0.9500 - val_loss: 0.0258 - val_acc: 0.9917\n"
          ],
          "name": "stdout"
        }
      ]
    },
    {
      "cell_type": "code",
      "metadata": {
        "id": "vtplowoW6fne",
        "colab": {
          "base_uri": "https://localhost:8080/"
        },
        "outputId": "1872bdde-aab2-46d1-c3ba-65eb797a7370"
      },
      "source": [
        "target_names = []\n",
        "for key in trainGen.class_indices:\n",
        "    target_names.append(key)\n",
        "    \n",
        "print(target_names)\n"
      ],
      "execution_count": 14,
      "outputs": [
        {
          "output_type": "stream",
          "text": [
            "['background', 'toad']\n"
          ],
          "name": "stdout"
        }
      ]
    },
    {
      "cell_type": "code",
      "metadata": {
        "id": "9fv7cPST6fnf",
        "colab": {
          "base_uri": "https://localhost:8080/",
          "height": 573
        },
        "outputId": "ce805f56-d36d-4e95-8ff7-f636ace1e326"
      },
      "source": [
        "############################################\n",
        "#Plot the Graph\n",
        "\n",
        "acc = H.history['acc']\n",
        "val_acc = H.history['val_acc']\n",
        "loss = H.history['loss']\n",
        "val_loss = H.history['val_loss']\n",
        "epochs = range(1, len(acc) + 1)\n",
        "\n",
        "# Accuracy Curves\n",
        "\n",
        "plt.figure(1)\n",
        "# summarize history for accuracy\n",
        "plt.plot(H.history['acc'])\n",
        "plt.plot(H.history['val_acc'])\n",
        "plt.title('model accuracy of Toad Vs Backgroud')\n",
        "plt.ylabel('accuracy')\n",
        "plt.xlabel('epoch')\n",
        "plt.legend(['train', 'validation'], loc='best')\n",
        "plt.savefig('acc.png')\n",
        "plt.show()\n",
        "\n",
        "plt.figure(2)\n",
        "# summarize history for loss\n",
        "plt.plot(H.history['loss'])\n",
        "plt.plot(H.history['val_loss'])\n",
        "plt.title('model loss of Toad Vs Backgroud')\n",
        "plt.ylabel('loss')\n",
        "plt.xlabel('epoch')\n",
        "plt.legend(['train', 'validation'], loc='best')\n",
        "plt.savefig('loss.png')\n",
        "plt.show()"
      ],
      "execution_count": 15,
      "outputs": [
        {
          "output_type": "display_data",
          "data": {
            "image/png": "[encoded data removed]",
            "text/plain": [
              "<Figure size 432x288 with 1 Axes>"
            ]
          },
          "metadata": {
            "tags": [],
            "needs_background": "light"
          }
        },
        {
          "output_type": "display_data",
          "data": {
            "image/png": "[encoded data removed]",
            "text/plain": [
              "<Figure size 432x288 with 1 Axes>"
            ]
          },
          "metadata": {
            "tags": [],
            "needs_background": "light"
          }
        }
      ]
    },
    {
      "cell_type": "code",
      "metadata": {
        "id": "ptPpnqCh6fnf",
        "colab": {
          "base_uri": "https://localhost:8080/"
        },
        "outputId": "3ef9f2a6-a80a-4bd1-bcd9-f947ba20cd1c"
      },
      "source": [
        "# reset the testing generator and evaluate the network after\n",
        "# fine-tuning just the network head\n",
        "print(\"evaluating after fine-tuning network head...\")\n",
        "\n",
        "totalTest=200\n",
        "testGen.reset()\n",
        "predIdxs = model.predict(x=testGen, steps=(totalTest // batch_size) + 1)\n",
        "predIdxs = np.argmax(predIdxs, axis=1)\n",
        "print(classification_report(testGen.classes, predIdxs,\n",
        "    target_names=testGen.class_indices.keys()))"
      ],
      "execution_count": 16,
      "outputs": [
        {
          "output_type": "stream",
          "text": [
            "evaluating after fine-tuning network head...\n",
            "              precision    recall  f1-score   support\n",
            "\n",
            "  background       0.96      0.97      0.97       100\n",
            "        toad       0.97      0.96      0.96       100\n",
            "\n",
            "    accuracy                           0.96       200\n",
            "   macro avg       0.97      0.96      0.96       200\n",
            "weighted avg       0.97      0.96      0.96       200\n",
            "\n"
          ],
          "name": "stdout"
        }
      ]
    },
    {
      "cell_type": "code",
      "metadata": {
        "id": "KDyxk1Ry6fng",
        "colab": {
          "base_uri": "https://localhost:8080/",
          "height": 313
        },
        "outputId": "c07b55a5-f6f6-4092-8f25-04cd71f8f3d5"
      },
      "source": [
        "def plot_confusion_matrix(cm, classes, normalize=False, title='Confusion matrix of snake Vs background', cmap=plt.cm.Blues):\n",
        "    \"\"\"\n",
        "    This function prints and plots the confusion matrix.\n",
        "    Normalization can be applied by setting `normalize=True`.\n",
        "    \"\"\"\n",
        "    #plt.figure(figsize=(8,8))\n",
        "\n",
        "    plt.imshow(cm, interpolation='nearest', cmap=cmap)\n",
        "    plt.title(title)\n",
        "    #plt.colorbar()\n",
        "\n",
        "    tick_marks = np.arange(len(classes))\n",
        "    plt.xticks(tick_marks, classes)\n",
        "    plt.yticks(tick_marks, classes)\n",
        "\n",
        "    if normalize:\n",
        "        cm = cm.astype('float') / cm.sum(axis=1)[:, np.newaxis]\n",
        "        cm = np.around(cm, decimals=2)\n",
        "        cm[np.isnan(cm)] = 0.0\n",
        "        print(\"Normalized confusion matrix\")\n",
        "    else:\n",
        "        print('Confusion matrix, without normalization')\n",
        "    thresh = cm.max() / 2.\n",
        "    for i, j in itertools.product(range(cm.shape[0]), range(cm.shape[1])):\n",
        "        plt.text(j, i, cm[i, j],\n",
        "                 horizontalalignment=\"center\",\n",
        "                 color=\"white\" if cm[i, j] > thresh else \"black\")\n",
        "    #plt.tight_layout()\n",
        "    plt.ylabel('True label')\n",
        "    plt.xlabel('Predicted label')\n",
        "   \n",
        "\n",
        "#thresh = cm.max() / 2.\n",
        "#Matplotlib’s matshow\n",
        "cm = confusion_matrix(testGen.classes, predIdxs)\n",
        "\n",
        "plt.figure(3)\n",
        "plot_confusion_matrix(cm, target_names, title='Confusion matrix of toad Vs Backgroud')\n",
        "#print(cm)\n",
        "plt.savefig('toad_VGG16.png')\n",
        "plt.show()"
      ],
      "execution_count": 17,
      "outputs": [
        {
          "output_type": "stream",
          "text": [
            "Confusion matrix, without normalization\n"
          ],
          "name": "stdout"
        },
        {
          "output_type": "display_data",
          "data": {
            "image/png": "[encoded data removed]",
            "text/plain": [
              "<Figure size 432x288 with 1 Axes>"
            ]
          },
          "metadata": {
            "tags": [],
            "needs_background": "light"
          }
        }
      ]
    },
    {
      "cell_type": "code",
      "metadata": {
        "id": "spmBp5tG6fnh"
      },
      "source": [
        ""
      ],
      "execution_count": 17,
      "outputs": []
    }
  ]
}