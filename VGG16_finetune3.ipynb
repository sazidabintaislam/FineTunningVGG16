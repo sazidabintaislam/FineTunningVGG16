{
  "nbformat": 4,
  "nbformat_minor": 0,
  "metadata": {
    "kernelspec": {
      "display_name": "Python 3",
      "language": "python",
      "name": "python3"
    },
    "language_info": {
      "codemirror_mode": {
        "name": "ipython",
        "version": 3
      },
      "file_extension": ".py",
      "mimetype": "text/x-python",
      "name": "python",
      "nbconvert_exporter": "python",
      "pygments_lexer": "ipython3",
      "version": "3.8.5"
    },
    "colab": {
      "name": "VGG16_finetune3.ipynb",
      "provenance": [],
      "collapsed_sections": [],
      "include_colab_link": true
    },
    "accelerator": "GPU"
  },
  "cells": [
    {
      "cell_type": "markdown",
      "metadata": {
        "id": "view-in-github",
        "colab_type": "text"
      },
      "source": [
        "<a href=\"https://colab.research.google.com/github/sazidabintaislam/FineTunningVGG16/blob/main/VGG16_finetune3.ipynb\" target=\"_parent\"><img src=\"https://colab.research.google.com/assets/colab-badge.svg\" alt=\"Open In Colab\"/></a>"
      ]
    },
    {
      "cell_type": "code",
      "metadata": {
        "colab": {
          "base_uri": "https://localhost:8080/"
        },
        "id": "WBFTCDlpLz1r",
        "outputId": "2c4f45fa-61c4-4a0d-cb89-62ae0da024bb"
      },
      "source": [
        "from google.colab import drive\n",
        "drive.mount('/content/drive')"
      ],
      "execution_count": 17,
      "outputs": [
        {
          "output_type": "stream",
          "text": [
            "Drive already mounted at /content/drive; to attempt to forcibly remount, call drive.mount(\"/content/drive\", force_remount=True).\n"
          ],
          "name": "stdout"
        }
      ]
    },
    {
      "cell_type": "code",
      "metadata": {
        "id": "irChVjbrEdBN"
      },
      "source": [
        "#this code is inspired from this link: https://www.pyimagesearch.com/2019/06/03/fine-tuning-with-keras-and-deep-learning/"
      ],
      "execution_count": 18,
      "outputs": []
    },
    {
      "cell_type": "code",
      "metadata": {
        "id": "dnrlHOOA6fnU"
      },
      "source": [
        "# define and move to dataset directory\n",
        "import os\n",
        "# import the needed packages\n",
        "import matplotlib.pyplot as plt\n",
        "import matplotlib.image as img\n",
        "import tensorflow.keras as keras\n",
        "import numpy as np\n",
        "from keras import backend as K\n",
        "from keras.models import Sequential\n",
        "from keras.preprocessing.image import ImageDataGenerator\n",
        "from keras.layers import Conv2D, MaxPooling2D\n",
        "from sklearn.metrics import classification_report, confusion_matrix\n",
        "import matplotlib.pyplot as plt\n",
        "from keras.layers import Dense, Dropout, Activation, Flatten, BatchNormalization\n",
        "from datetime import datetime\n",
        "import itertools \n",
        "from tensorflow.keras.callbacks import EarlyStopping"
      ],
      "execution_count": 19,
      "outputs": []
    },
    {
      "cell_type": "code",
      "metadata": {
        "id": "4HQk9o8X6fnb"
      },
      "source": [
        "trainPath = '/content/drive/MyDrive/snake_background_CNN2/train'\n",
        "valPath = '/content/drive/MyDrive/snake_background_CNN2/valid'\n",
        "testPath = '/content/drive/MyDrive/snake_background_CNN2/test'"
      ],
      "execution_count": 20,
      "outputs": []
    },
    {
      "cell_type": "code",
      "metadata": {
        "id": "rImyDYgs6fnc"
      },
      "source": [
        "trainAug = ImageDataGenerator(\n",
        "    rotation_range=30,\n",
        "    zoom_range=0.15,\n",
        "    width_shift_range=0.2,\n",
        "    height_shift_range=0.2,\n",
        "    shear_range=0.15,\n",
        "    horizontal_flip=True,\n",
        "    fill_mode=\"nearest\")\n",
        "# initialize the validation/testing data augmentation object (which\n",
        "# we'll be adding mean subtraction to)\n",
        "valAug = ImageDataGenerator()\n",
        "# define the ImageNet mean subtraction (in RGB order) and set the\n",
        "# the mean subtraction value for each of the data augmentation\n",
        "# objects\n",
        "testAug=ImageDataGenerator()\n",
        "mean = np.array([123.68, 116.779, 103.939], dtype=\"float32\")\n",
        "trainAug.mean = mean\n",
        "valAug.mean = mean\n",
        "testAug.mean = mean"
      ],
      "execution_count": 21,
      "outputs": []
    },
    {
      "cell_type": "code",
      "metadata": {
        "colab": {
          "base_uri": "https://localhost:8080/"
        },
        "id": "iUyOR9BQ6fnc",
        "outputId": "92d794a7-498f-49a9-941f-e639260341cc"
      },
      "source": [
        "# initialize the training generator\n",
        "batch_size = 32\n",
        "trainGen = trainAug.flow_from_directory(\n",
        "    trainPath,\n",
        "    class_mode=\"categorical\",\n",
        "    target_size=(224, 224),\n",
        "    color_mode=\"rgb\",\n",
        "    shuffle=True,\n",
        "    batch_size=batch_size)\n",
        "# initialize the validation generator\n",
        "valGen = valAug.flow_from_directory(\n",
        "    valPath,\n",
        "    class_mode=\"categorical\",\n",
        "    target_size=(224, 224),\n",
        "    color_mode=\"rgb\",\n",
        "    shuffle=False,\n",
        "    batch_size=batch_size)\n",
        "# initialize the testing generator\n",
        "testGen = testAug.flow_from_directory(\n",
        "    testPath,\n",
        "    class_mode=\"categorical\",\n",
        "    target_size=(224, 224),\n",
        "    color_mode=\"rgb\",\n",
        "    shuffle=False,\n",
        "    batch_size=batch_size)"
      ],
      "execution_count": 10,
      "outputs": [
        {
          "output_type": "stream",
          "text": [
            "Found 2572 images belonging to 2 classes.\n",
            "Found 501 images belonging to 2 classes.\n",
            "Found 200 images belonging to 2 classes.\n"
          ],
          "name": "stdout"
        }
      ]
    },
    {
      "cell_type": "code",
      "metadata": {
        "colab": {
          "base_uri": "https://localhost:8080/"
        },
        "id": "grVn1svT6fnd",
        "outputId": "b06a9cbc-10e4-447d-a2b9-6a87029326b0"
      },
      "source": [
        "# load the VGG16 network, ensuring the head FC layer sets are left\n",
        "# off\n",
        "#VGG16 = keras.applications.vgg16\n",
        "\n",
        "from keras.layers import Input\n",
        "from keras.applications import VGG16\n",
        "from keras.models import Model\n",
        "from keras.optimizers import SGD\n",
        "\n",
        "baseModel = VGG16(weights=\"imagenet\", include_top=False, input_tensor=Input(shape=(224, 224, 3)))\n",
        "# construct the head of the model that will be placed on top of the\n",
        "# the base model\n",
        "\n",
        "# Freeze four convolution blocks\n",
        "for layer in baseModel.layers:\n",
        "    layer.trainable = False\n",
        "    \n",
        "headModel = baseModel.output\n",
        "headModel = Flatten(name=\"flatten\")(headModel)\n",
        "headModel = Dense(256, activation=\"relu\")(headModel)\n",
        "headModel = Dropout(0.5)(headModel)\n",
        "#headModel = Dense(256, activation=\"relu\")(headModel)\n",
        "headModel = Dense(2, activation=\"softmax\")(headModel)\n",
        "# place the head FC model on top of the base model (this will become\n",
        "# the actual model we will train)\n",
        "model = Model(inputs=baseModel.input, outputs=headModel)\n",
        "\n",
        "model.summary() \n",
        "\n",
        "# Make sure you have frozen the correct layers\n",
        "for i, layer in enumerate(model.layers):\n",
        "    print(i, layer.name, layer.trainable)\n",
        "    "
      ],
      "execution_count": 11,
      "outputs": [
        {
          "output_type": "stream",
          "text": [
            "Downloading data from https://storage.googleapis.com/tensorflow/keras-applications/vgg16/vgg16_weights_tf_dim_ordering_tf_kernels_notop.h5\n",
            "58892288/58889256 [==============================] - 1s 0us/step\n",
            "Model: \"model\"\n",
            "_________________________________________________________________\n",
            "Layer (type)                 Output Shape              Param #   \n",
            "=================================================================\n",
            "input_1 (InputLayer)         [(None, 224, 224, 3)]     0         \n",
            "_________________________________________________________________\n",
            "block1_conv1 (Conv2D)        (None, 224, 224, 64)      1792      \n",
            "_________________________________________________________________\n",
            "block1_conv2 (Conv2D)        (None, 224, 224, 64)      36928     \n",
            "_________________________________________________________________\n",
            "block1_pool (MaxPooling2D)   (None, 112, 112, 64)      0         \n",
            "_________________________________________________________________\n",
            "block2_conv1 (Conv2D)        (None, 112, 112, 128)     73856     \n",
            "_________________________________________________________________\n",
            "block2_conv2 (Conv2D)        (None, 112, 112, 128)     147584    \n",
            "_________________________________________________________________\n",
            "block2_pool (MaxPooling2D)   (None, 56, 56, 128)       0         \n",
            "_________________________________________________________________\n",
            "block3_conv1 (Conv2D)        (None, 56, 56, 256)       295168    \n",
            "_________________________________________________________________\n",
            "block3_conv2 (Conv2D)        (None, 56, 56, 256)       590080    \n",
            "_________________________________________________________________\n",
            "block3_conv3 (Conv2D)        (None, 56, 56, 256)       590080    \n",
            "_________________________________________________________________\n",
            "block3_pool (MaxPooling2D)   (None, 28, 28, 256)       0         \n",
            "_________________________________________________________________\n",
            "block4_conv1 (Conv2D)        (None, 28, 28, 512)       1180160   \n",
            "_________________________________________________________________\n",
            "block4_conv2 (Conv2D)        (None, 28, 28, 512)       2359808   \n",
            "_________________________________________________________________\n",
            "block4_conv3 (Conv2D)        (None, 28, 28, 512)       2359808   \n",
            "_________________________________________________________________\n",
            "block4_pool (MaxPooling2D)   (None, 14, 14, 512)       0         \n",
            "_________________________________________________________________\n",
            "block5_conv1 (Conv2D)        (None, 14, 14, 512)       2359808   \n",
            "_________________________________________________________________\n",
            "block5_conv2 (Conv2D)        (None, 14, 14, 512)       2359808   \n",
            "_________________________________________________________________\n",
            "block5_conv3 (Conv2D)        (None, 14, 14, 512)       2359808   \n",
            "_________________________________________________________________\n",
            "block5_pool (MaxPooling2D)   (None, 7, 7, 512)         0         \n",
            "_________________________________________________________________\n",
            "flatten (Flatten)            (None, 25088)             0         \n",
            "_________________________________________________________________\n",
            "dense (Dense)                (None, 256)               6422784   \n",
            "_________________________________________________________________\n",
            "dropout (Dropout)            (None, 256)               0         \n",
            "_________________________________________________________________\n",
            "dense_1 (Dense)              (None, 2)                 514       \n",
            "=================================================================\n",
            "Total params: 21,137,986\n",
            "Trainable params: 6,423,298\n",
            "Non-trainable params: 14,714,688\n",
            "_________________________________________________________________\n",
            "0 input_1 False\n",
            "1 block1_conv1 False\n",
            "2 block1_conv2 False\n",
            "3 block1_pool False\n",
            "4 block2_conv1 False\n",
            "5 block2_conv2 False\n",
            "6 block2_pool False\n",
            "7 block3_conv1 False\n",
            "8 block3_conv2 False\n",
            "9 block3_conv3 False\n",
            "10 block3_pool False\n",
            "11 block4_conv1 False\n",
            "12 block4_conv2 False\n",
            "13 block4_conv3 False\n",
            "14 block4_pool False\n",
            "15 block5_conv1 False\n",
            "16 block5_conv2 False\n",
            "17 block5_conv3 False\n",
            "18 block5_pool False\n",
            "19 flatten True\n",
            "20 dense True\n",
            "21 dropout True\n",
            "22 dense_1 True\n"
          ],
          "name": "stdout"
        }
      ]
    },
    {
      "cell_type": "code",
      "metadata": {
        "colab": {
          "base_uri": "https://localhost:8080/"
        },
        "id": "9F85mgpE6fne",
        "outputId": "02dc85aa-b139-4003-bd13-9b7b5ba83d99"
      },
      "source": [
        "# compile our model (this needs to be done after our setting our\n",
        "# layers to being non-trainable\n",
        "\n",
        "totalTrain=2572\n",
        "totalVal=501\n",
        "print(\"compiling model...\")\n",
        "opt = SGD(lr=1e-4, momentum=0.9)\n",
        "model.compile(loss=\"binary_crossentropy\", optimizer=opt,metrics=[\"acc\"])\n",
        "# train the head of the network for a few epochs (all other layers\n",
        "# are frozen) -- this will allow the new FC layers to start to become\n",
        "# initialized with actual \"learned\" values versus pure random\n",
        "print(\"training head...\")\n",
        "H = model.fit(\n",
        "    x=trainGen,\n",
        "    steps_per_epoch=totalTrain // batch_size,\n",
        "    validation_data=valGen,\n",
        "    validation_steps=totalVal // batch_size,\n",
        "    epochs=50)"
      ],
      "execution_count": 12,
      "outputs": [
        {
          "output_type": "stream",
          "text": [
            "compiling model...\n",
            "training head...\n",
            "Epoch 1/50\n",
            "80/80 [==============================] - 1604s 20s/step - loss: 3.6217 - acc: 0.6471 - val_loss: 1.0131 - val_acc: 0.6750\n",
            "Epoch 2/50\n",
            "80/80 [==============================] - 160s 2s/step - loss: 0.7835 - acc: 0.7176 - val_loss: 0.8218 - val_acc: 0.7000\n",
            "Epoch 3/50\n",
            "80/80 [==============================] - 161s 2s/step - loss: 0.5597 - acc: 0.7605 - val_loss: 0.6306 - val_acc: 0.7104\n",
            "Epoch 4/50\n",
            "80/80 [==============================] - 161s 2s/step - loss: 0.5278 - acc: 0.7320 - val_loss: 0.5536 - val_acc: 0.7417\n",
            "Epoch 5/50\n",
            "80/80 [==============================] - 166s 2s/step - loss: 0.4822 - acc: 0.7984 - val_loss: 0.6018 - val_acc: 0.7229\n",
            "Epoch 6/50\n",
            "80/80 [==============================] - 163s 2s/step - loss: 0.4560 - acc: 0.7694 - val_loss: 0.6463 - val_acc: 0.7042\n",
            "Epoch 7/50\n",
            "80/80 [==============================] - 166s 2s/step - loss: 0.4840 - acc: 0.7809 - val_loss: 0.8123 - val_acc: 0.6687\n",
            "Epoch 8/50\n",
            "80/80 [==============================] - 164s 2s/step - loss: 0.4398 - acc: 0.7842 - val_loss: 0.5964 - val_acc: 0.7271\n",
            "Epoch 9/50\n",
            "80/80 [==============================] - 164s 2s/step - loss: 0.4269 - acc: 0.8049 - val_loss: 0.6453 - val_acc: 0.7104\n",
            "Epoch 10/50\n",
            "80/80 [==============================] - 167s 2s/step - loss: 0.4196 - acc: 0.8115 - val_loss: 0.5549 - val_acc: 0.7500\n",
            "Epoch 11/50\n",
            "80/80 [==============================] - 166s 2s/step - loss: 0.4281 - acc: 0.8067 - val_loss: 0.5437 - val_acc: 0.7396\n",
            "Epoch 12/50\n",
            "80/80 [==============================] - 168s 2s/step - loss: 0.4276 - acc: 0.8043 - val_loss: 0.6194 - val_acc: 0.7188\n",
            "Epoch 13/50\n",
            "80/80 [==============================] - 168s 2s/step - loss: 0.3787 - acc: 0.8296 - val_loss: 0.7151 - val_acc: 0.7063\n",
            "Epoch 14/50\n",
            "80/80 [==============================] - 168s 2s/step - loss: 0.3810 - acc: 0.8310 - val_loss: 0.5759 - val_acc: 0.7396\n",
            "Epoch 15/50\n",
            "80/80 [==============================] - 168s 2s/step - loss: 0.3855 - acc: 0.8130 - val_loss: 0.6170 - val_acc: 0.7250\n",
            "Epoch 16/50\n",
            "80/80 [==============================] - 167s 2s/step - loss: 0.3854 - acc: 0.8217 - val_loss: 0.6605 - val_acc: 0.7146\n",
            "Epoch 17/50\n",
            "80/80 [==============================] - 168s 2s/step - loss: 0.3768 - acc: 0.8303 - val_loss: 0.5942 - val_acc: 0.7271\n",
            "Epoch 18/50\n",
            "80/80 [==============================] - 169s 2s/step - loss: 0.3872 - acc: 0.8200 - val_loss: 0.6948 - val_acc: 0.7042\n",
            "Epoch 19/50\n",
            "80/80 [==============================] - 170s 2s/step - loss: 0.3745 - acc: 0.8274 - val_loss: 0.5376 - val_acc: 0.7542\n",
            "Epoch 20/50\n",
            "80/80 [==============================] - 166s 2s/step - loss: 0.3766 - acc: 0.8297 - val_loss: 0.4701 - val_acc: 0.7896\n",
            "Epoch 21/50\n",
            "80/80 [==============================] - 167s 2s/step - loss: 0.3387 - acc: 0.8513 - val_loss: 0.5065 - val_acc: 0.7646\n",
            "Epoch 22/50\n",
            "80/80 [==============================] - 170s 2s/step - loss: 0.3433 - acc: 0.8427 - val_loss: 0.4377 - val_acc: 0.8188\n",
            "Epoch 23/50\n",
            "80/80 [==============================] - 168s 2s/step - loss: 0.3446 - acc: 0.8335 - val_loss: 0.5140 - val_acc: 0.7646\n",
            "Epoch 24/50\n",
            "80/80 [==============================] - 170s 2s/step - loss: 0.3679 - acc: 0.8454 - val_loss: 0.3884 - val_acc: 0.8313\n",
            "Epoch 25/50\n",
            "80/80 [==============================] - 173s 2s/step - loss: 0.3621 - acc: 0.8265 - val_loss: 0.4150 - val_acc: 0.8146\n",
            "Epoch 26/50\n",
            "80/80 [==============================] - 171s 2s/step - loss: 0.3434 - acc: 0.8472 - val_loss: 0.5328 - val_acc: 0.7583\n",
            "Epoch 27/50\n",
            "80/80 [==============================] - 171s 2s/step - loss: 0.3537 - acc: 0.8593 - val_loss: 0.5874 - val_acc: 0.7437\n",
            "Epoch 28/50\n",
            "80/80 [==============================] - 170s 2s/step - loss: 0.3063 - acc: 0.8585 - val_loss: 0.5401 - val_acc: 0.7625\n",
            "Epoch 29/50\n",
            "80/80 [==============================] - 169s 2s/step - loss: 0.3106 - acc: 0.8592 - val_loss: 0.4831 - val_acc: 0.7854\n",
            "Epoch 30/50\n",
            "80/80 [==============================] - 170s 2s/step - loss: 0.3408 - acc: 0.8482 - val_loss: 0.4698 - val_acc: 0.8000\n",
            "Epoch 31/50\n",
            "80/80 [==============================] - 173s 2s/step - loss: 0.2980 - acc: 0.8683 - val_loss: 0.4150 - val_acc: 0.8271\n",
            "Epoch 32/50\n",
            "80/80 [==============================] - 168s 2s/step - loss: 0.2919 - acc: 0.8706 - val_loss: 0.4662 - val_acc: 0.7958\n",
            "Epoch 33/50\n",
            "80/80 [==============================] - 169s 2s/step - loss: 0.3393 - acc: 0.8537 - val_loss: 0.3495 - val_acc: 0.8708\n",
            "Epoch 34/50\n",
            "80/80 [==============================] - 166s 2s/step - loss: 0.2915 - acc: 0.8728 - val_loss: 0.4575 - val_acc: 0.8062\n",
            "Epoch 35/50\n",
            "80/80 [==============================] - 172s 2s/step - loss: 0.3093 - acc: 0.8616 - val_loss: 0.4441 - val_acc: 0.8104\n",
            "Epoch 36/50\n",
            "80/80 [==============================] - 171s 2s/step - loss: 0.2966 - acc: 0.8692 - val_loss: 0.4206 - val_acc: 0.8188\n",
            "Epoch 37/50\n",
            "80/80 [==============================] - 173s 2s/step - loss: 0.3150 - acc: 0.8648 - val_loss: 0.3443 - val_acc: 0.8646\n",
            "Epoch 38/50\n",
            "80/80 [==============================] - 173s 2s/step - loss: 0.2909 - acc: 0.8761 - val_loss: 0.3894 - val_acc: 0.8313\n",
            "Epoch 39/50\n",
            "80/80 [==============================] - 172s 2s/step - loss: 0.2933 - acc: 0.8671 - val_loss: 0.2971 - val_acc: 0.8813\n",
            "Epoch 40/50\n",
            "80/80 [==============================] - 173s 2s/step - loss: 0.2854 - acc: 0.8708 - val_loss: 0.3107 - val_acc: 0.8813\n",
            "Epoch 41/50\n",
            "80/80 [==============================] - 174s 2s/step - loss: 0.3094 - acc: 0.8691 - val_loss: 0.3675 - val_acc: 0.8542\n",
            "Epoch 42/50\n",
            "80/80 [==============================] - 170s 2s/step - loss: 0.2990 - acc: 0.8759 - val_loss: 0.3382 - val_acc: 0.8687\n",
            "Epoch 43/50\n",
            "80/80 [==============================] - 169s 2s/step - loss: 0.2946 - acc: 0.8697 - val_loss: 0.3798 - val_acc: 0.8229\n",
            "Epoch 44/50\n",
            "80/80 [==============================] - 162s 2s/step - loss: 0.2922 - acc: 0.8819 - val_loss: 0.3573 - val_acc: 0.8542\n",
            "Epoch 45/50\n",
            "80/80 [==============================] - 155s 2s/step - loss: 0.2993 - acc: 0.8596 - val_loss: 0.4100 - val_acc: 0.8229\n",
            "Epoch 46/50\n",
            "80/80 [==============================] - 156s 2s/step - loss: 0.2780 - acc: 0.8681 - val_loss: 0.4161 - val_acc: 0.8125\n",
            "Epoch 47/50\n",
            "80/80 [==============================] - 156s 2s/step - loss: 0.3006 - acc: 0.8654 - val_loss: 0.3548 - val_acc: 0.8438\n",
            "Epoch 48/50\n",
            "80/80 [==============================] - 154s 2s/step - loss: 0.2969 - acc: 0.8784 - val_loss: 0.3719 - val_acc: 0.8438\n",
            "Epoch 49/50\n",
            "80/80 [==============================] - 154s 2s/step - loss: 0.2978 - acc: 0.8811 - val_loss: 0.3551 - val_acc: 0.8500\n",
            "Epoch 50/50\n",
            "80/80 [==============================] - 152s 2s/step - loss: 0.2815 - acc: 0.8746 - val_loss: 0.3081 - val_acc: 0.8729\n"
          ],
          "name": "stdout"
        }
      ]
    },
    {
      "cell_type": "code",
      "metadata": {
        "id": "vtplowoW6fne",
        "colab": {
          "base_uri": "https://localhost:8080/"
        },
        "outputId": "76e40bd2-b41d-4383-87c1-e049011942ea"
      },
      "source": [
        "target_names = []\n",
        "for key in trainGen.class_indices:\n",
        "    target_names.append(key)\n",
        "    \n",
        "print(target_names)\n"
      ],
      "execution_count": 13,
      "outputs": [
        {
          "output_type": "stream",
          "text": [
            "['background', 'snake']\n"
          ],
          "name": "stdout"
        }
      ]
    },
    {
      "cell_type": "code",
      "metadata": {
        "id": "9fv7cPST6fnf",
        "colab": {
          "base_uri": "https://localhost:8080/",
          "height": 573
        },
        "outputId": "d1fb7d24-6aa6-4391-c41d-889435cd7d66"
      },
      "source": [
        "############################################\n",
        "#Plot the Graph\n",
        "\n",
        "acc = H.history['acc']\n",
        "val_acc = H.history['val_acc']\n",
        "loss = H.history['loss']\n",
        "val_loss = H.history['val_loss']\n",
        "epochs = range(1, len(acc) + 1)\n",
        "\n",
        "# Accuracy Curves\n",
        "\n",
        "plt.figure(1)\n",
        "# summarize history for accuracy\n",
        "plt.plot(H.history['acc'])\n",
        "plt.plot(H.history['val_acc'])\n",
        "plt.title('model accuracy of snake Vs Backgroud')\n",
        "plt.ylabel('accuracy')\n",
        "plt.xlabel('epoch')\n",
        "plt.legend(['train', 'validation'], loc='best')\n",
        "plt.savefig('acc.png')\n",
        "plt.show()\n",
        "\n",
        "plt.figure(2)\n",
        "# summarize history for loss\n",
        "plt.plot(H.history['loss'])\n",
        "plt.plot(H.history['val_loss'])\n",
        "plt.title('model loss of snake Vs Backgroud')\n",
        "plt.ylabel('loss')\n",
        "plt.xlabel('epoch')\n",
        "plt.legend(['train', 'validation'], loc='best')\n",
        "plt.savefig('loss.png')\n",
        "plt.show()"
      ],
      "execution_count": 14,
      "outputs": [
        {
          "output_type": "display_data",
          "data": {
            "image/png": "[encoded data removed]",
            "text/plain": [
              "<Figure size 432x288 with 1 Axes>"
            ]
          },
          "metadata": {
            "tags": [],
            "needs_background": "light"
          }
        },
        {
          "output_type": "display_data",
          "data": {
            "image/png": "[encoded data removed]",
            "text/plain": [
              "<Figure size 432x288 with 1 Axes>"
            ]
          },
          "metadata": {
            "tags": [],
            "needs_background": "light"
          }
        }
      ]
    },
    {
      "cell_type": "code",
      "metadata": {
        "id": "ptPpnqCh6fnf",
        "colab": {
          "base_uri": "https://localhost:8080/"
        },
        "outputId": "f57c8299-db06-45a8-bdbe-a4c2ccda51ae"
      },
      "source": [
        "# reset the testing generator and evaluate the network after\n",
        "# fine-tuning just the network head\n",
        "print(\"evaluating after fine-tuning network head...\")\n",
        "\n",
        "totalTest=200\n",
        "testGen.reset()\n",
        "predIdxs = model.predict(x=testGen, steps=(totalTest // batch_size) + 1)\n",
        "predIdxs = np.argmax(predIdxs, axis=1)\n",
        "print(classification_report(testGen.classes, predIdxs,\n",
        "    target_names=testGen.class_indices.keys()))"
      ],
      "execution_count": 15,
      "outputs": [
        {
          "output_type": "stream",
          "text": [
            "evaluating after fine-tuning network head...\n",
            "              precision    recall  f1-score   support\n",
            "\n",
            "  background       0.88      0.79      0.83       100\n",
            "       snake       0.81      0.89      0.85       100\n",
            "\n",
            "    accuracy                           0.84       200\n",
            "   macro avg       0.84      0.84      0.84       200\n",
            "weighted avg       0.84      0.84      0.84       200\n",
            "\n"
          ],
          "name": "stdout"
        }
      ]
    },
    {
      "cell_type": "code",
      "metadata": {
        "id": "KDyxk1Ry6fng",
        "colab": {
          "base_uri": "https://localhost:8080/",
          "height": 313
        },
        "outputId": "a7f7a383-dec5-45df-d3cf-8cd6b2fabc2f"
      },
      "source": [
        "def plot_confusion_matrix(cm, classes, normalize=False, title='Confusion matrix of snake Vs background', cmap=plt.cm.Blues):\n",
        "    \"\"\"\n",
        "    This function prints and plots the confusion matrix.\n",
        "    Normalization can be applied by setting `normalize=True`.\n",
        "    \"\"\"\n",
        "    #plt.figure(figsize=(8,8))\n",
        "\n",
        "    plt.imshow(cm, interpolation='nearest', cmap=cmap)\n",
        "    plt.title(title)\n",
        "    #plt.colorbar()\n",
        "\n",
        "    tick_marks = np.arange(len(classes))\n",
        "    plt.xticks(tick_marks, classes)\n",
        "    plt.yticks(tick_marks, classes)\n",
        "\n",
        "    if normalize:\n",
        "        cm = cm.astype('float') / cm.sum(axis=1)[:, np.newaxis]\n",
        "        cm = np.around(cm, decimals=2)\n",
        "        cm[np.isnan(cm)] = 0.0\n",
        "        print(\"Normalized confusion matrix\")\n",
        "    else:\n",
        "        print('Confusion matrix, without normalization')\n",
        "    thresh = cm.max() / 2.\n",
        "    for i, j in itertools.product(range(cm.shape[0]), range(cm.shape[1])):\n",
        "        plt.text(j, i, cm[i, j],\n",
        "                 horizontalalignment=\"center\",\n",
        "                 color=\"white\" if cm[i, j] > thresh else \"black\")\n",
        "    #plt.tight_layout()\n",
        "    plt.ylabel('True label')\n",
        "    plt.xlabel('Predicted label')\n",
        "   \n",
        "\n",
        "#thresh = cm.max() / 2.\n",
        "#Matplotlib’s matshow\n",
        "cm = confusion_matrix(testGen.classes, predIdxs)\n",
        "\n",
        "plt.figure(3)\n",
        "plot_confusion_matrix(cm, target_names, title='Confusion matrix of snake Vs Backgroud')\n",
        "#print(cm)\n",
        "plt.savefig('snake_VGG16.png')\n",
        "plt.show()"
      ],
      "execution_count": 16,
      "outputs": [
        {
          "output_type": "stream",
          "text": [
            "Confusion matrix, without normalization\n"
          ],
          "name": "stdout"
        },
        {
          "output_type": "display_data",
          "data": {
            "image/png": "[encoded data removed]",
            "text/plain": [
              "<Figure size 432x288 with 1 Axes>"
            ]
          },
          "metadata": {
            "tags": [],
            "needs_background": "light"
          }
        }
      ]
    },
    {
      "cell_type": "code",
      "metadata": {
        "id": "spmBp5tG6fnh"
      },
      "source": [
        ""
      ],
      "execution_count": 16,
      "outputs": []
    }
  ]
}