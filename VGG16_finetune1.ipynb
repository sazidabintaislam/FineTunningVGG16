{
  "nbformat": 4,
  "nbformat_minor": 0,
  "metadata": {
    "kernelspec": {
      "display_name": "Python 3",
      "language": "python",
      "name": "python3"
    },
    "language_info": {
      "codemirror_mode": {
        "name": "ipython",
        "version": 3
      },
      "file_extension": ".py",
      "mimetype": "text/x-python",
      "name": "python",
      "nbconvert_exporter": "python",
      "pygments_lexer": "ipython3",
      "version": "3.8.5"
    },
    "colab": {
      "name": "VGG16_finetune1.ipynb",
      "provenance": [],
      "collapsed_sections": [],
      "include_colab_link": true
    },
    "accelerator": "GPU"
  },
  "cells": [
    {
      "cell_type": "markdown",
      "metadata": {
        "id": "view-in-github",
        "colab_type": "text"
      },
      "source": [
        "<a href=\"https://colab.research.google.com/github/sazidabintaislam/FineTunningVGG16/blob/main/VGG16_finetune1.ipynb\" target=\"_parent\"><img src=\"https://colab.research.google.com/assets/colab-badge.svg\" alt=\"Open In Colab\"/></a>"
      ]
    },
    {
      "cell_type": "code",
      "metadata": {
        "colab": {
          "base_uri": "https://localhost:8080/"
        },
        "id": "WBFTCDlpLz1r",
        "outputId": "6ec1f353-abf4-4d61-d195-88c0e562d6dc"
      },
      "source": [
        "from google.colab import drive\n",
        "drive.mount('/content/drive')"
      ],
      "execution_count": 3,
      "outputs": [
        {
          "output_type": "stream",
          "text": [
            "Drive already mounted at /content/drive; to attempt to forcibly remount, call drive.mount(\"/content/drive\", force_remount=True).\n"
          ],
          "name": "stdout"
        }
      ]
    },
    {
      "cell_type": "code",
      "metadata": {
        "colab": {
          "base_uri": "https://localhost:8080/"
        },
        "id": "LASCoFBFOGuq",
        "outputId": "805b126c-dfe2-4038-a75a-7bd4d751db78"
      },
      "source": [
        "%tensorflow_version 2.x\r\n",
        "import tensorflow as tf\r\n",
        "device_name = tf.test.gpu_device_name()\r\n",
        "if device_name != '/device:GPU:0':\r\n",
        "  raise SystemError('GPU device not found')\r\n",
        "print('Found GPU at: {}'.format(device_name))"
      ],
      "execution_count": 4,
      "outputs": [
        {
          "output_type": "stream",
          "text": [
            "Found GPU at: /device:GPU:0\n"
          ],
          "name": "stdout"
        }
      ]
    },
    {
      "cell_type": "code",
      "metadata": {
        "id": "dnrlHOOA6fnU"
      },
      "source": [
        "# define and move to dataset directory\n",
        "import os\n",
        "# import the needed packages\n",
        "import matplotlib.pyplot as plt\n",
        "import matplotlib.image as img\n",
        "import tensorflow.keras as keras\n",
        "import numpy as np\n",
        "\n",
        "import numpy as np\n",
        "from keras import backend as K\n",
        "from keras.models import Sequential\n",
        "from keras.preprocessing.image import ImageDataGenerator\n",
        "from keras.layers import Conv2D, MaxPooling2D\n",
        "from sklearn.metrics import classification_report, confusion_matrix\n",
        "import matplotlib.pyplot as plt\n",
        "from keras.layers import Dense, Dropout, Activation, Flatten, BatchNormalization\n",
        "from datetime import datetime\n",
        "import itertools \n",
        "from tensorflow.keras.callbacks import EarlyStopping"
      ],
      "execution_count": 5,
      "outputs": []
    },
    {
      "cell_type": "code",
      "metadata": {
        "id": "4HQk9o8X6fnb"
      },
      "source": [
        "trainPath = '/content/drive/MyDrive/snake_background_CNN2/train'\n",
        "valPath = '/content/drive/MyDrive/snake_background_CNN2/valid'\n",
        "testPath = '/content/drive/MyDrive/snake_background_CNN2/test'"
      ],
      "execution_count": 6,
      "outputs": []
    },
    {
      "cell_type": "code",
      "metadata": {
        "id": "rImyDYgs6fnc"
      },
      "source": [
        "trainAug = ImageDataGenerator(\n",
        "    rotation_range=30,\n",
        "    zoom_range=0.15,\n",
        "    width_shift_range=0.2,\n",
        "    height_shift_range=0.2,\n",
        "    shear_range=0.15,\n",
        "    horizontal_flip=True,\n",
        "    fill_mode=\"nearest\")\n",
        "# initialize the validation/testing data augmentation object (which\n",
        "# we'll be adding mean subtraction to)\n",
        "valAug = ImageDataGenerator()\n",
        "# define the ImageNet mean subtraction (in RGB order) and set the\n",
        "# the mean subtraction value for each of the data augmentation\n",
        "# objects\n",
        "testAug=ImageDataGenerator()\n",
        "mean = np.array([123.68, 116.779, 103.939], dtype=\"float32\")\n",
        "trainAug.mean = mean\n",
        "valAug.mean = mean"
      ],
      "execution_count": 7,
      "outputs": []
    },
    {
      "cell_type": "code",
      "metadata": {
        "colab": {
          "base_uri": "https://localhost:8080/"
        },
        "id": "iUyOR9BQ6fnc",
        "outputId": "43f53fe8-b14d-4e37-b2f6-0d91412bcf3e"
      },
      "source": [
        "# initialize the training generator\n",
        "batch_size = 32\n",
        "trainGen = trainAug.flow_from_directory(\n",
        "    trainPath,\n",
        "    class_mode=\"categorical\",\n",
        "    target_size=(224, 224),\n",
        "    color_mode=\"rgb\",\n",
        "    shuffle=True,\n",
        "    batch_size=batch_size)\n",
        "# initialize the validation generator\n",
        "valGen = valAug.flow_from_directory(\n",
        "    valPath,\n",
        "    class_mode=\"categorical\",\n",
        "    target_size=(224, 224),\n",
        "    color_mode=\"rgb\",\n",
        "    shuffle=False,\n",
        "    batch_size=batch_size)\n",
        "# initialize the testing generator\n",
        "testGen = valAug.flow_from_directory(\n",
        "    testPath,\n",
        "    class_mode=\"categorical\",\n",
        "    target_size=(224, 224),\n",
        "    color_mode=\"rgb\",\n",
        "    shuffle=False,\n",
        "    batch_size=batch_size)"
      ],
      "execution_count": 8,
      "outputs": [
        {
          "output_type": "stream",
          "text": [
            "Found 2572 images belonging to 2 classes.\n",
            "Found 501 images belonging to 2 classes.\n",
            "Found 200 images belonging to 2 classes.\n"
          ],
          "name": "stdout"
        }
      ]
    },
    {
      "cell_type": "code",
      "metadata": {
        "colab": {
          "base_uri": "https://localhost:8080/"
        },
        "id": "grVn1svT6fnd",
        "outputId": "3f96a9a5-9ee5-4418-a17a-b3cdb905cb22"
      },
      "source": [
        "# load the VGG16 network, ensuring the head FC layer sets are left\n",
        "# off\n",
        "#VGG16 = keras.applications.vgg16\n",
        "\n",
        "from keras.layers import Input\n",
        "from keras.applications import VGG16\n",
        "from keras.models import Model\n",
        "from keras.optimizers import SGD\n",
        "\n",
        "baseModel = VGG16(weights=\"imagenet\", include_top=False, input_tensor=Input(shape=(224, 224, 3)))\n",
        "# construct the head of the model that will be placed on top of the\n",
        "# the base model\n",
        "\n",
        "# Freeze four convolution blocks\n",
        "for layer in baseModel.layers[:15]:\n",
        "    layer.trainable = False\n",
        "    \n",
        "headModel = baseModel.output\n",
        "headModel = Flatten(name=\"flatten\")(headModel)\n",
        "headModel = Dense(256, activation=\"relu\")(headModel)\n",
        "headModel = Dropout(0.5)(headModel)\n",
        "#headModel = Dense(256, activation=\"relu\")(headModel)\n",
        "headModel = Dense(2, activation=\"softmax\")(headModel)\n",
        "# place the head FC model on top of the base model (this will become\n",
        "# the actual model we will train)\n",
        "model = Model(inputs=baseModel.input, outputs=headModel)\n",
        "\n",
        "model.summary() \n",
        "\n",
        "# Make sure you have frozen the correct layers\n",
        "for i, layer in enumerate(model.layers):\n",
        "    print(i, layer.name, layer.trainable)\n",
        "    "
      ],
      "execution_count": 9,
      "outputs": [
        {
          "output_type": "stream",
          "text": [
            "Downloading data from https://storage.googleapis.com/tensorflow/keras-applications/vgg16/vgg16_weights_tf_dim_ordering_tf_kernels_notop.h5\n",
            "58892288/58889256 [==============================] - 1s 0us/step\n",
            "Model: \"model\"\n",
            "_________________________________________________________________\n",
            "Layer (type)                 Output Shape              Param #   \n",
            "=================================================================\n",
            "input_1 (InputLayer)         [(None, 224, 224, 3)]     0         \n",
            "_________________________________________________________________\n",
            "block1_conv1 (Conv2D)        (None, 224, 224, 64)      1792      \n",
            "_________________________________________________________________\n",
            "block1_conv2 (Conv2D)        (None, 224, 224, 64)      36928     \n",
            "_________________________________________________________________\n",
            "block1_pool (MaxPooling2D)   (None, 112, 112, 64)      0         \n",
            "_________________________________________________________________\n",
            "block2_conv1 (Conv2D)        (None, 112, 112, 128)     73856     \n",
            "_________________________________________________________________\n",
            "block2_conv2 (Conv2D)        (None, 112, 112, 128)     147584    \n",
            "_________________________________________________________________\n",
            "block2_pool (MaxPooling2D)   (None, 56, 56, 128)       0         \n",
            "_________________________________________________________________\n",
            "block3_conv1 (Conv2D)        (None, 56, 56, 256)       295168    \n",
            "_________________________________________________________________\n",
            "block3_conv2 (Conv2D)        (None, 56, 56, 256)       590080    \n",
            "_________________________________________________________________\n",
            "block3_conv3 (Conv2D)        (None, 56, 56, 256)       590080    \n",
            "_________________________________________________________________\n",
            "block3_pool (MaxPooling2D)   (None, 28, 28, 256)       0         \n",
            "_________________________________________________________________\n",
            "block4_conv1 (Conv2D)        (None, 28, 28, 512)       1180160   \n",
            "_________________________________________________________________\n",
            "block4_conv2 (Conv2D)        (None, 28, 28, 512)       2359808   \n",
            "_________________________________________________________________\n",
            "block4_conv3 (Conv2D)        (None, 28, 28, 512)       2359808   \n",
            "_________________________________________________________________\n",
            "block4_pool (MaxPooling2D)   (None, 14, 14, 512)       0         \n",
            "_________________________________________________________________\n",
            "block5_conv1 (Conv2D)        (None, 14, 14, 512)       2359808   \n",
            "_________________________________________________________________\n",
            "block5_conv2 (Conv2D)        (None, 14, 14, 512)       2359808   \n",
            "_________________________________________________________________\n",
            "block5_conv3 (Conv2D)        (None, 14, 14, 512)       2359808   \n",
            "_________________________________________________________________\n",
            "block5_pool (MaxPooling2D)   (None, 7, 7, 512)         0         \n",
            "_________________________________________________________________\n",
            "flatten (Flatten)            (None, 25088)             0         \n",
            "_________________________________________________________________\n",
            "dense (Dense)                (None, 256)               6422784   \n",
            "_________________________________________________________________\n",
            "dropout (Dropout)            (None, 256)               0         \n",
            "_________________________________________________________________\n",
            "dense_1 (Dense)              (None, 2)                 514       \n",
            "=================================================================\n",
            "Total params: 21,137,986\n",
            "Trainable params: 13,502,722\n",
            "Non-trainable params: 7,635,264\n",
            "_________________________________________________________________\n",
            "0 input_1 False\n",
            "1 block1_conv1 False\n",
            "2 block1_conv2 False\n",
            "3 block1_pool False\n",
            "4 block2_conv1 False\n",
            "5 block2_conv2 False\n",
            "6 block2_pool False\n",
            "7 block3_conv1 False\n",
            "8 block3_conv2 False\n",
            "9 block3_conv3 False\n",
            "10 block3_pool False\n",
            "11 block4_conv1 False\n",
            "12 block4_conv2 False\n",
            "13 block4_conv3 False\n",
            "14 block4_pool False\n",
            "15 block5_conv1 True\n",
            "16 block5_conv2 True\n",
            "17 block5_conv3 True\n",
            "18 block5_pool True\n",
            "19 flatten True\n",
            "20 dense True\n",
            "21 dropout True\n",
            "22 dense_1 True\n"
          ],
          "name": "stdout"
        }
      ]
    },
    {
      "cell_type": "code",
      "metadata": {
        "colab": {
          "base_uri": "https://localhost:8080/"
        },
        "id": "9F85mgpE6fne",
        "outputId": "ada4b7ce-36d4-477f-c73d-4a79afc2f1f7"
      },
      "source": [
        "# compile our model (this needs to be done after our setting our\n",
        "# layers to being non-trainable\n",
        "\n",
        "totalTrain=2572\n",
        "totalVal=501\n",
        "print(\"compiling model...\")\n",
        "opt = SGD(lr=1e-4, momentum=0.9)\n",
        "model.compile(loss=\"binary_crossentropy\", optimizer=opt,metrics=[\"acc\"])\n",
        "# train the head of the network for a few epochs (all other layers\n",
        "# are frozen) -- this will allow the new FC layers to start to become\n",
        "# initialized with actual \"learned\" values versus pure random\n",
        "print(\"training head...\")\n",
        "H = model.fit(\n",
        "    x=trainGen,\n",
        "    steps_per_epoch=totalTrain // batch_size,\n",
        "    validation_data=valGen,\n",
        "    validation_steps=totalVal // batch_size,\n",
        "    epochs=50)"
      ],
      "execution_count": 10,
      "outputs": [
        {
          "output_type": "stream",
          "text": [
            "compiling model...\n",
            "training head...\n",
            "Epoch 1/50\n",
            "80/80 [==============================] - 1597s 20s/step - loss: 2.3539 - acc: 0.5982 - val_loss: 0.7115 - val_acc: 0.5667\n",
            "Epoch 2/50\n",
            "80/80 [==============================] - 182s 2s/step - loss: 0.5751 - acc: 0.6805 - val_loss: 0.6372 - val_acc: 0.6438\n",
            "Epoch 3/50\n",
            "80/80 [==============================] - 182s 2s/step - loss: 0.5139 - acc: 0.7318 - val_loss: 0.6191 - val_acc: 0.6375\n",
            "Epoch 4/50\n",
            "80/80 [==============================] - 180s 2s/step - loss: 0.4997 - acc: 0.7571 - val_loss: 0.5732 - val_acc: 0.6812\n",
            "Epoch 5/50\n",
            "80/80 [==============================] - 179s 2s/step - loss: 0.4413 - acc: 0.7848 - val_loss: 0.5332 - val_acc: 0.7083\n",
            "Epoch 6/50\n",
            "80/80 [==============================] - 179s 2s/step - loss: 0.4158 - acc: 0.7987 - val_loss: 0.6505 - val_acc: 0.6333\n",
            "Epoch 7/50\n",
            "80/80 [==============================] - 174s 2s/step - loss: 0.4171 - acc: 0.8159 - val_loss: 0.6033 - val_acc: 0.7083\n",
            "Epoch 8/50\n",
            "80/80 [==============================] - 170s 2s/step - loss: 0.3715 - acc: 0.8231 - val_loss: 0.3947 - val_acc: 0.8146\n",
            "Epoch 9/50\n",
            "80/80 [==============================] - 169s 2s/step - loss: 0.3138 - acc: 0.8663 - val_loss: 0.4532 - val_acc: 0.7417\n",
            "Epoch 10/50\n",
            "80/80 [==============================] - 170s 2s/step - loss: 0.2993 - acc: 0.8734 - val_loss: 0.3412 - val_acc: 0.8188\n",
            "Epoch 11/50\n",
            "80/80 [==============================] - 169s 2s/step - loss: 0.2588 - acc: 0.8983 - val_loss: 0.3318 - val_acc: 0.8354\n",
            "Epoch 12/50\n",
            "80/80 [==============================] - 166s 2s/step - loss: 0.2520 - acc: 0.8922 - val_loss: 0.4400 - val_acc: 0.8062\n",
            "Epoch 13/50\n",
            "80/80 [==============================] - 166s 2s/step - loss: 0.2578 - acc: 0.8942 - val_loss: 0.3581 - val_acc: 0.8250\n",
            "Epoch 14/50\n",
            "80/80 [==============================] - 166s 2s/step - loss: 0.2476 - acc: 0.9119 - val_loss: 0.2893 - val_acc: 0.8833\n",
            "Epoch 15/50\n",
            "80/80 [==============================] - 166s 2s/step - loss: 0.2254 - acc: 0.9165 - val_loss: 0.2978 - val_acc: 0.8771\n",
            "Epoch 16/50\n",
            "80/80 [==============================] - 164s 2s/step - loss: 0.1861 - acc: 0.9225 - val_loss: 0.2433 - val_acc: 0.8833\n",
            "Epoch 17/50\n",
            "80/80 [==============================] - 165s 2s/step - loss: 0.1893 - acc: 0.9246 - val_loss: 0.3360 - val_acc: 0.8583\n",
            "Epoch 18/50\n",
            "80/80 [==============================] - 165s 2s/step - loss: 0.1856 - acc: 0.9265 - val_loss: 0.2245 - val_acc: 0.9104\n",
            "Epoch 19/50\n",
            "80/80 [==============================] - 166s 2s/step - loss: 0.1648 - acc: 0.9390 - val_loss: 0.2288 - val_acc: 0.9021\n",
            "Epoch 20/50\n",
            "80/80 [==============================] - 164s 2s/step - loss: 0.1657 - acc: 0.9272 - val_loss: 0.1899 - val_acc: 0.8979\n",
            "Epoch 21/50\n",
            "80/80 [==============================] - 169s 2s/step - loss: 0.1520 - acc: 0.9419 - val_loss: 0.1990 - val_acc: 0.9146\n",
            "Epoch 22/50\n",
            "80/80 [==============================] - 163s 2s/step - loss: 0.1603 - acc: 0.9346 - val_loss: 0.1634 - val_acc: 0.9208\n",
            "Epoch 23/50\n",
            "80/80 [==============================] - 164s 2s/step - loss: 0.1499 - acc: 0.9372 - val_loss: 0.1362 - val_acc: 0.9354\n",
            "Epoch 24/50\n",
            "80/80 [==============================] - 162s 2s/step - loss: 0.1318 - acc: 0.9455 - val_loss: 0.2321 - val_acc: 0.9062\n",
            "Epoch 25/50\n",
            "80/80 [==============================] - 162s 2s/step - loss: 0.1333 - acc: 0.9466 - val_loss: 0.2392 - val_acc: 0.8979\n",
            "Epoch 26/50\n",
            "80/80 [==============================] - 162s 2s/step - loss: 0.1169 - acc: 0.9525 - val_loss: 0.1520 - val_acc: 0.9271\n",
            "Epoch 27/50\n",
            "80/80 [==============================] - 161s 2s/step - loss: 0.1276 - acc: 0.9544 - val_loss: 0.1105 - val_acc: 0.9521\n",
            "Epoch 28/50\n",
            "80/80 [==============================] - 160s 2s/step - loss: 0.1260 - acc: 0.9508 - val_loss: 0.1563 - val_acc: 0.9208\n",
            "Epoch 29/50\n",
            "80/80 [==============================] - 160s 2s/step - loss: 0.1164 - acc: 0.9585 - val_loss: 0.1110 - val_acc: 0.9500\n",
            "Epoch 30/50\n",
            "80/80 [==============================] - 162s 2s/step - loss: 0.1088 - acc: 0.9623 - val_loss: 0.1109 - val_acc: 0.9563\n",
            "Epoch 31/50\n",
            "80/80 [==============================] - 160s 2s/step - loss: 0.0998 - acc: 0.9658 - val_loss: 0.2149 - val_acc: 0.9250\n",
            "Epoch 32/50\n",
            "80/80 [==============================] - 163s 2s/step - loss: 0.1437 - acc: 0.9423 - val_loss: 0.1405 - val_acc: 0.9333\n",
            "Epoch 33/50\n",
            "80/80 [==============================] - 166s 2s/step - loss: 0.1046 - acc: 0.9620 - val_loss: 0.1468 - val_acc: 0.9375\n",
            "Epoch 34/50\n",
            "80/80 [==============================] - 164s 2s/step - loss: 0.1057 - acc: 0.9550 - val_loss: 0.2139 - val_acc: 0.9167\n",
            "Epoch 35/50\n",
            "80/80 [==============================] - 163s 2s/step - loss: 0.0986 - acc: 0.9623 - val_loss: 0.1926 - val_acc: 0.9208\n",
            "Epoch 36/50\n",
            "80/80 [==============================] - 172s 2s/step - loss: 0.0896 - acc: 0.9686 - val_loss: 0.0783 - val_acc: 0.9688\n",
            "Epoch 37/50\n",
            "80/80 [==============================] - 167s 2s/step - loss: 0.1012 - acc: 0.9620 - val_loss: 0.0757 - val_acc: 0.9646\n",
            "Epoch 38/50\n",
            "80/80 [==============================] - 162s 2s/step - loss: 0.0766 - acc: 0.9688 - val_loss: 0.0884 - val_acc: 0.9583\n",
            "Epoch 39/50\n",
            "80/80 [==============================] - 166s 2s/step - loss: 0.0887 - acc: 0.9674 - val_loss: 0.0981 - val_acc: 0.9667\n",
            "Epoch 40/50\n",
            "80/80 [==============================] - 165s 2s/step - loss: 0.0870 - acc: 0.9653 - val_loss: 0.1475 - val_acc: 0.9458\n",
            "Epoch 41/50\n",
            "80/80 [==============================] - 167s 2s/step - loss: 0.0759 - acc: 0.9707 - val_loss: 0.0574 - val_acc: 0.9729\n",
            "Epoch 42/50\n",
            "80/80 [==============================] - 166s 2s/step - loss: 0.0839 - acc: 0.9657 - val_loss: 0.0658 - val_acc: 0.9771\n",
            "Epoch 43/50\n",
            "80/80 [==============================] - 169s 2s/step - loss: 0.1033 - acc: 0.9625 - val_loss: 0.0646 - val_acc: 0.9750\n",
            "Epoch 44/50\n",
            "80/80 [==============================] - 164s 2s/step - loss: 0.0672 - acc: 0.9749 - val_loss: 0.0619 - val_acc: 0.9792\n",
            "Epoch 45/50\n",
            "80/80 [==============================] - 164s 2s/step - loss: 0.0765 - acc: 0.9709 - val_loss: 0.1260 - val_acc: 0.9458\n",
            "Epoch 46/50\n",
            "80/80 [==============================] - 163s 2s/step - loss: 0.0778 - acc: 0.9701 - val_loss: 0.0563 - val_acc: 0.9812\n",
            "Epoch 47/50\n",
            "80/80 [==============================] - 166s 2s/step - loss: 0.0583 - acc: 0.9761 - val_loss: 0.1094 - val_acc: 0.9604\n",
            "Epoch 48/50\n",
            "80/80 [==============================] - 164s 2s/step - loss: 0.0743 - acc: 0.9730 - val_loss: 0.0707 - val_acc: 0.9792\n",
            "Epoch 49/50\n",
            "80/80 [==============================] - 165s 2s/step - loss: 0.0695 - acc: 0.9718 - val_loss: 0.0496 - val_acc: 0.9750\n",
            "Epoch 50/50\n",
            "80/80 [==============================] - 162s 2s/step - loss: 0.0551 - acc: 0.9752 - val_loss: 0.0484 - val_acc: 0.9771\n"
          ],
          "name": "stdout"
        }
      ]
    },
    {
      "cell_type": "code",
      "metadata": {
        "id": "vtplowoW6fne",
        "colab": {
          "base_uri": "https://localhost:8080/"
        },
        "outputId": "083e9ef6-9802-4d61-d8a8-1caaf7e71c74"
      },
      "source": [
        "target_names = []\n",
        "for key in trainGen.class_indices:\n",
        "    target_names.append(key)\n",
        "    \n",
        "print(target_names)\n"
      ],
      "execution_count": 11,
      "outputs": [
        {
          "output_type": "stream",
          "text": [
            "['background', 'snake']\n"
          ],
          "name": "stdout"
        }
      ]
    },
    {
      "cell_type": "code",
      "metadata": {
        "id": "9fv7cPST6fnf",
        "colab": {
          "base_uri": "https://localhost:8080/",
          "height": 573
        },
        "outputId": "021f276b-ab9c-4b5d-831c-fa2571f5af11"
      },
      "source": [
        "############################################\n",
        "#Plot the Graph\n",
        "\n",
        "acc = H.history['acc']\n",
        "val_acc = H.history['val_acc']\n",
        "loss = H.history['loss']\n",
        "val_loss = H.history['val_loss']\n",
        "epochs = range(1, len(acc) + 1)\n",
        "\n",
        "# Accuracy Curves\n",
        "\n",
        "plt.figure(1)\n",
        "# summarize history for accuracy\n",
        "plt.plot(H.history['acc'])\n",
        "plt.plot(H.history['val_acc'])\n",
        "plt.title('model accuracy of snake Vs Backgroud')\n",
        "plt.ylabel('accuracy')\n",
        "plt.xlabel('epoch')\n",
        "plt.legend(['train', 'test'], loc='best')\n",
        "plt.savefig('acc.png')\n",
        "plt.show()\n",
        "\n",
        "plt.figure(2)\n",
        "# summarize history for loss\n",
        "plt.plot(H.history['loss'])\n",
        "plt.plot(H.history['val_loss'])\n",
        "plt.title('model loss of snake Vs Backgroud')\n",
        "plt.ylabel('loss')\n",
        "plt.xlabel('epoch')\n",
        "plt.legend(['train', 'test'], loc='best')\n",
        "plt.savefig('loss.png')\n",
        "plt.show()"
      ],
      "execution_count": 12,
      "outputs": [
        {
          "output_type": "display_data",
          "data": {
            "image/png": "[encoded data removed]",
            "text/plain": [
              "<Figure size 432x288 with 1 Axes>"
            ]
          },
          "metadata": {
            "tags": [],
            "needs_background": "light"
          }
        },
        {
          "output_type": "display_data",
          "data": {
            "image/png": "[encoded data removed]",
            "text/plain": [
              "<Figure size 432x288 with 1 Axes>"
            ]
          },
          "metadata": {
            "tags": [],
            "needs_background": "light"
          }
        }
      ]
    },
    {
      "cell_type": "code",
      "metadata": {
        "id": "ptPpnqCh6fnf",
        "colab": {
          "base_uri": "https://localhost:8080/"
        },
        "outputId": "69874e80-90b1-4411-e9d2-396221162933"
      },
      "source": [
        "# reset the testing generator and evaluate the network after\n",
        "# fine-tuning just the network head\n",
        "print(\"evaluating after fine-tuning network head...\")\n",
        "\n",
        "totalTest=200\n",
        "testGen.reset()\n",
        "predIdxs = model.predict(x=testGen, steps=(totalTest // batch_size) + 1)\n",
        "predIdxs = np.argmax(predIdxs, axis=1)\n",
        "print(classification_report(testGen.classes, predIdxs,\n",
        "    target_names=testGen.class_indices.keys()))"
      ],
      "execution_count": 13,
      "outputs": [
        {
          "output_type": "stream",
          "text": [
            "evaluating after fine-tuning network head...\n",
            "              precision    recall  f1-score   support\n",
            "\n",
            "  background       0.92      0.90      0.91       100\n",
            "       snake       0.90      0.92      0.91       100\n",
            "\n",
            "    accuracy                           0.91       200\n",
            "   macro avg       0.91      0.91      0.91       200\n",
            "weighted avg       0.91      0.91      0.91       200\n",
            "\n"
          ],
          "name": "stdout"
        }
      ]
    },
    {
      "cell_type": "code",
      "metadata": {
        "id": "KDyxk1Ry6fng",
        "colab": {
          "base_uri": "https://localhost:8080/",
          "height": 313
        },
        "outputId": "4d15b37b-f2fb-49d0-9fcd-a950b6db5521"
      },
      "source": [
        "def plot_confusion_matrix(cm, classes, normalize=False, title='Confusion matrix of snake Vs background', cmap=plt.cm.Blues):\n",
        "    \"\"\"\n",
        "    This function prints and plots the confusion matrix.\n",
        "    Normalization can be applied by setting `normalize=True`.\n",
        "    \"\"\"\n",
        "    #plt.figure(figsize=(8,8))\n",
        "\n",
        "    plt.imshow(cm, interpolation='nearest', cmap=cmap)\n",
        "    plt.title(title)\n",
        "    #plt.colorbar()\n",
        "\n",
        "    tick_marks = np.arange(len(classes))\n",
        "    plt.xticks(tick_marks, classes)\n",
        "    plt.yticks(tick_marks, classes)\n",
        "\n",
        "    if normalize:\n",
        "        cm = cm.astype('float') / cm.sum(axis=1)[:, np.newaxis]\n",
        "        cm = np.around(cm, decimals=2)\n",
        "        cm[np.isnan(cm)] = 0.0\n",
        "        print(\"Normalized confusion matrix\")\n",
        "    else:\n",
        "        print('Confusion matrix, without normalization')\n",
        "    thresh = cm.max() / 2.\n",
        "    for i, j in itertools.product(range(cm.shape[0]), range(cm.shape[1])):\n",
        "        plt.text(j, i, cm[i, j],\n",
        "                 horizontalalignment=\"center\",\n",
        "                 color=\"white\" if cm[i, j] > thresh else \"black\")\n",
        "    #plt.tight_layout()\n",
        "    plt.ylabel('True label')\n",
        "    plt.xlabel('Predicted label')\n",
        "   \n",
        "\n",
        "#thresh = cm.max() / 2.\n",
        "#Matplotlib’s matshow\n",
        "cm = confusion_matrix(testGen.classes, predIdxs)\n",
        "\n",
        "plt.figure(3)\n",
        "plot_confusion_matrix(cm, target_names, title='Confusion matrix of snake Vs Backgroud')\n",
        "#print(cm)\n",
        "plt.savefig('snake_conf_CNN2.png')\n",
        "plt.show()"
      ],
      "execution_count": 14,
      "outputs": [
        {
          "output_type": "stream",
          "text": [
            "Confusion matrix, without normalization\n"
          ],
          "name": "stdout"
        },
        {
          "output_type": "display_data",
          "data": {
            "image/png": "[encoded data removed]",
            "text/plain": [
              "<Figure size 432x288 with 1 Axes>"
            ]
          },
          "metadata": {
            "tags": [],
            "needs_background": "light"
          }
        }
      ]
    },
    {
      "cell_type": "code",
      "metadata": {
        "id": "spmBp5tG6fnh"
      },
      "source": [
        ""
      ],
      "execution_count": 14,
      "outputs": []
    }
  ]
}