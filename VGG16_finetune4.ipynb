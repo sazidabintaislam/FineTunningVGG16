{
  "nbformat": 4,
  "nbformat_minor": 0,
  "metadata": {
    "kernelspec": {
      "display_name": "Python 3",
      "language": "python",
      "name": "python3"
    },
    "language_info": {
      "codemirror_mode": {
        "name": "ipython",
        "version": 3
      },
      "file_extension": ".py",
      "mimetype": "text/x-python",
      "name": "python",
      "nbconvert_exporter": "python",
      "pygments_lexer": "ipython3",
      "version": "3.8.5"
    },
    "colab": {
      "name": "VGG16_finetune4.ipynb",
      "provenance": [],
      "collapsed_sections": [],
      "include_colab_link": true
    },
    "accelerator": "GPU"
  },
  "cells": [
    {
      "cell_type": "markdown",
      "metadata": {
        "id": "view-in-github",
        "colab_type": "text"
      },
      "source": [
        "<a href=\"https://colab.research.google.com/github/sazidabintaislam/FineTunningVGG16/blob/main/VGG16_finetune4.ipynb\" target=\"_parent\"><img src=\"https://colab.research.google.com/assets/colab-badge.svg\" alt=\"Open In Colab\"/></a>"
      ]
    },
    {
      "cell_type": "code",
      "metadata": {
        "colab": {
          "base_uri": "https://localhost:8080/"
        },
        "id": "WBFTCDlpLz1r",
        "outputId": "859ecadb-679d-4f3e-a15a-d4356a6b0346"
      },
      "source": [
        "from google.colab import drive\n",
        "drive.mount('/content/drive')"
      ],
      "execution_count": 2,
      "outputs": [
        {
          "output_type": "stream",
          "text": [
            "Drive already mounted at /content/drive; to attempt to forcibly remount, call drive.mount(\"/content/drive\", force_remount=True).\n"
          ],
          "name": "stdout"
        }
      ]
    },
    {
      "cell_type": "code",
      "metadata": {
        "id": "irChVjbrEdBN"
      },
      "source": [
        "#this code is inspired from this link: https://www.pyimagesearch.com/2019/06/03/fine-tuning-with-keras-and-deep-learning/"
      ],
      "execution_count": 3,
      "outputs": []
    },
    {
      "cell_type": "code",
      "metadata": {
        "id": "dnrlHOOA6fnU"
      },
      "source": [
        "# define and move to dataset directory\n",
        "import os\n",
        "# import the needed packages\n",
        "import matplotlib.pyplot as plt\n",
        "import matplotlib.image as img\n",
        "import tensorflow.keras as keras\n",
        "import numpy as np\n",
        "from keras import backend as K\n",
        "from keras.models import Sequential\n",
        "from keras.preprocessing.image import ImageDataGenerator\n",
        "from keras.layers import Conv2D, MaxPooling2D\n",
        "from sklearn.metrics import classification_report, confusion_matrix\n",
        "import matplotlib.pyplot as plt\n",
        "from keras.layers import Dense, Dropout, Activation, Flatten, BatchNormalization\n",
        "from datetime import datetime\n",
        "import itertools \n",
        "from tensorflow.keras.callbacks import EarlyStopping"
      ],
      "execution_count": 4,
      "outputs": []
    },
    {
      "cell_type": "code",
      "metadata": {
        "id": "4HQk9o8X6fnb"
      },
      "source": [
        "trainPath = '/content/drive/MyDrive/snake_background_CNN2/train'\n",
        "valPath = '/content/drive/MyDrive/snake_background_CNN2/valid'\n",
        "testPath = '/content/drive/MyDrive/snake_background_CNN2/test'"
      ],
      "execution_count": 5,
      "outputs": []
    },
    {
      "cell_type": "code",
      "metadata": {
        "id": "rImyDYgs6fnc"
      },
      "source": [
        "trainAug = ImageDataGenerator(\n",
        "    rotation_range=30,\n",
        "    zoom_range=0.15,\n",
        "    width_shift_range=0.2,\n",
        "    height_shift_range=0.2,\n",
        "    shear_range=0.15,\n",
        "    horizontal_flip=True,\n",
        "    fill_mode=\"nearest\")\n",
        "# initialize the validation/testing data augmentation object (which\n",
        "# we'll be adding mean subtraction to)\n",
        "valAug = ImageDataGenerator()\n",
        "# define the ImageNet mean subtraction (in RGB order) and set the\n",
        "# the mean subtraction value for each of the data augmentation\n",
        "# objects\n",
        "testAug=ImageDataGenerator()\n",
        "mean = np.array([123.68, 116.779, 103.939], dtype=\"float32\")\n",
        "trainAug.mean = mean\n",
        "valAug.mean = mean\n",
        "testAug.mean = mean"
      ],
      "execution_count": 6,
      "outputs": []
    },
    {
      "cell_type": "code",
      "metadata": {
        "colab": {
          "base_uri": "https://localhost:8080/"
        },
        "id": "iUyOR9BQ6fnc",
        "outputId": "4f2a1313-f2a8-4d94-f611-719de58ea63e"
      },
      "source": [
        "# initialize the training generator\n",
        "batch_size = 32\n",
        "trainGen = trainAug.flow_from_directory(\n",
        "    trainPath,\n",
        "    class_mode=\"categorical\",\n",
        "    target_size=(224, 224),\n",
        "    color_mode=\"rgb\",\n",
        "    shuffle=True,\n",
        "    batch_size=batch_size)\n",
        "# initialize the validation generator\n",
        "valGen = valAug.flow_from_directory(\n",
        "    valPath,\n",
        "    class_mode=\"categorical\",\n",
        "    target_size=(224, 224),\n",
        "    color_mode=\"rgb\",\n",
        "    shuffle=False,\n",
        "    batch_size=batch_size)\n",
        "# initialize the testing generator\n",
        "testGen = testAug.flow_from_directory(\n",
        "    testPath,\n",
        "    class_mode=\"categorical\",\n",
        "    target_size=(224, 224),\n",
        "    color_mode=\"rgb\",\n",
        "    shuffle=False,\n",
        "    batch_size=batch_size)"
      ],
      "execution_count": 7,
      "outputs": [
        {
          "output_type": "stream",
          "text": [
            "Found 2572 images belonging to 2 classes.\n",
            "Found 501 images belonging to 2 classes.\n",
            "Found 200 images belonging to 2 classes.\n"
          ],
          "name": "stdout"
        }
      ]
    },
    {
      "cell_type": "code",
      "metadata": {
        "colab": {
          "base_uri": "https://localhost:8080/"
        },
        "id": "grVn1svT6fnd",
        "outputId": "f6983e81-c091-4ad4-8ac0-026160b476ae"
      },
      "source": [
        "# load the VGG16 network, ensuring the head FC layer sets are left\n",
        "# off\n",
        "#VGG16 = keras.applications.vgg16\n",
        "\n",
        "from keras.layers import Input\n",
        "from keras.applications import VGG16\n",
        "from keras.models import Model\n",
        "from keras.optimizers import SGD\n",
        "\n",
        "baseModel = VGG16(weights=\"imagenet\", include_top=False, input_tensor=Input(shape=(224, 224, 3)))\n",
        "# construct the head of the model that will be placed on top of the\n",
        "# the base model\n",
        "\n",
        "# Freeze four convolution blocks\n",
        "for layer in baseModel.layers:\n",
        "    layer.trainable = False\n",
        "    \n",
        "headModel = baseModel.output\n",
        "headModel = Flatten(name=\"flatten\")(headModel)\n",
        "headModel = Dense(512, activation=\"relu\")(headModel)\n",
        "headModel = Dropout(0.5)(headModel)\n",
        "headModel = Dense(256, activation=\"relu\")(headModel)\n",
        "headModel = Dropout(0.5)(headModel)\n",
        "headModel = Dense(2, activation=\"softmax\")(headModel)\n",
        "# place the head FC model on top of the base model (this will become\n",
        "# the actual model we will train)\n",
        "model = Model(inputs=baseModel.input, outputs=headModel)\n",
        "\n",
        "model.summary() \n",
        "\n",
        "# Make sure you have frozen the correct layers\n",
        "for i, layer in enumerate(model.layers):\n",
        "    print(i, layer.name, layer.trainable)\n",
        "    "
      ],
      "execution_count": 8,
      "outputs": [
        {
          "output_type": "stream",
          "text": [
            "Downloading data from https://storage.googleapis.com/tensorflow/keras-applications/vgg16/vgg16_weights_tf_dim_ordering_tf_kernels_notop.h5\n",
            "58892288/58889256 [==============================] - 1s 0us/step\n",
            "Model: \"model\"\n",
            "_________________________________________________________________\n",
            "Layer (type)                 Output Shape              Param #   \n",
            "=================================================================\n",
            "input_1 (InputLayer)         [(None, 224, 224, 3)]     0         \n",
            "_________________________________________________________________\n",
            "block1_conv1 (Conv2D)        (None, 224, 224, 64)      1792      \n",
            "_________________________________________________________________\n",
            "block1_conv2 (Conv2D)        (None, 224, 224, 64)      36928     \n",
            "_________________________________________________________________\n",
            "block1_pool (MaxPooling2D)   (None, 112, 112, 64)      0         \n",
            "_________________________________________________________________\n",
            "block2_conv1 (Conv2D)        (None, 112, 112, 128)     73856     \n",
            "_________________________________________________________________\n",
            "block2_conv2 (Conv2D)        (None, 112, 112, 128)     147584    \n",
            "_________________________________________________________________\n",
            "block2_pool (MaxPooling2D)   (None, 56, 56, 128)       0         \n",
            "_________________________________________________________________\n",
            "block3_conv1 (Conv2D)        (None, 56, 56, 256)       295168    \n",
            "_________________________________________________________________\n",
            "block3_conv2 (Conv2D)        (None, 56, 56, 256)       590080    \n",
            "_________________________________________________________________\n",
            "block3_conv3 (Conv2D)        (None, 56, 56, 256)       590080    \n",
            "_________________________________________________________________\n",
            "block3_pool (MaxPooling2D)   (None, 28, 28, 256)       0         \n",
            "_________________________________________________________________\n",
            "block4_conv1 (Conv2D)        (None, 28, 28, 512)       1180160   \n",
            "_________________________________________________________________\n",
            "block4_conv2 (Conv2D)        (None, 28, 28, 512)       2359808   \n",
            "_________________________________________________________________\n",
            "block4_conv3 (Conv2D)        (None, 28, 28, 512)       2359808   \n",
            "_________________________________________________________________\n",
            "block4_pool (MaxPooling2D)   (None, 14, 14, 512)       0         \n",
            "_________________________________________________________________\n",
            "block5_conv1 (Conv2D)        (None, 14, 14, 512)       2359808   \n",
            "_________________________________________________________________\n",
            "block5_conv2 (Conv2D)        (None, 14, 14, 512)       2359808   \n",
            "_________________________________________________________________\n",
            "block5_conv3 (Conv2D)        (None, 14, 14, 512)       2359808   \n",
            "_________________________________________________________________\n",
            "block5_pool (MaxPooling2D)   (None, 7, 7, 512)         0         \n",
            "_________________________________________________________________\n",
            "flatten (Flatten)            (None, 25088)             0         \n",
            "_________________________________________________________________\n",
            "dense (Dense)                (None, 512)               12845568  \n",
            "_________________________________________________________________\n",
            "dropout (Dropout)            (None, 512)               0         \n",
            "_________________________________________________________________\n",
            "dense_1 (Dense)              (None, 256)               131328    \n",
            "_________________________________________________________________\n",
            "dropout_1 (Dropout)          (None, 256)               0         \n",
            "_________________________________________________________________\n",
            "dense_2 (Dense)              (None, 2)                 514       \n",
            "=================================================================\n",
            "Total params: 27,692,098\n",
            "Trainable params: 12,977,410\n",
            "Non-trainable params: 14,714,688\n",
            "_________________________________________________________________\n",
            "0 input_1 False\n",
            "1 block1_conv1 False\n",
            "2 block1_conv2 False\n",
            "3 block1_pool False\n",
            "4 block2_conv1 False\n",
            "5 block2_conv2 False\n",
            "6 block2_pool False\n",
            "7 block3_conv1 False\n",
            "8 block3_conv2 False\n",
            "9 block3_conv3 False\n",
            "10 block3_pool False\n",
            "11 block4_conv1 False\n",
            "12 block4_conv2 False\n",
            "13 block4_conv3 False\n",
            "14 block4_pool False\n",
            "15 block5_conv1 False\n",
            "16 block5_conv2 False\n",
            "17 block5_conv3 False\n",
            "18 block5_pool False\n",
            "19 flatten True\n",
            "20 dense True\n",
            "21 dropout True\n",
            "22 dense_1 True\n",
            "23 dropout_1 True\n",
            "24 dense_2 True\n"
          ],
          "name": "stdout"
        }
      ]
    },
    {
      "cell_type": "code",
      "metadata": {
        "colab": {
          "base_uri": "https://localhost:8080/"
        },
        "id": "9F85mgpE6fne",
        "outputId": "153ce5b5-1b05-4d5f-93f3-53ccd0aba9d0"
      },
      "source": [
        "# compile our model (this needs to be done after our setting our\n",
        "# layers to being non-trainable\n",
        "\n",
        "totalTrain=2572\n",
        "totalVal=501\n",
        "print(\"compiling model...\")\n",
        "opt = SGD(lr=1e-4, momentum=0.9)\n",
        "model.compile(loss=\"binary_crossentropy\", optimizer=opt,metrics=[\"acc\"])\n",
        "# train the head of the network for a few epochs (all other layers\n",
        "# are frozen) -- this will allow the new FC layers to start to become\n",
        "# initialized with actual \"learned\" values versus pure random\n",
        "print(\"training head...\")\n",
        "H = model.fit(\n",
        "    x=trainGen,\n",
        "    steps_per_epoch=totalTrain // batch_size,\n",
        "    validation_data=valGen,\n",
        "    validation_steps=totalVal // batch_size,\n",
        "    epochs=50)"
      ],
      "execution_count": 9,
      "outputs": [
        {
          "output_type": "stream",
          "text": [
            "compiling model...\n",
            "training head...\n",
            "Epoch 1/50\n",
            "80/80 [==============================] - 1552s 19s/step - loss: 5.3549 - acc: 0.5893 - val_loss: 1.0553 - val_acc: 0.6500\n",
            "Epoch 2/50\n",
            "80/80 [==============================] - 149s 2s/step - loss: 1.8768 - acc: 0.6868 - val_loss: 0.9099 - val_acc: 0.6562\n",
            "Epoch 3/50\n",
            "80/80 [==============================] - 147s 2s/step - loss: 1.1057 - acc: 0.7104 - val_loss: 0.8197 - val_acc: 0.6396\n",
            "Epoch 4/50\n",
            "80/80 [==============================] - 148s 2s/step - loss: 0.8053 - acc: 0.7004 - val_loss: 0.8284 - val_acc: 0.6313\n",
            "Epoch 5/50\n",
            "80/80 [==============================] - 147s 2s/step - loss: 0.7176 - acc: 0.6892 - val_loss: 0.6471 - val_acc: 0.6875\n",
            "Epoch 6/50\n",
            "80/80 [==============================] - 147s 2s/step - loss: 0.6096 - acc: 0.7186 - val_loss: 0.7304 - val_acc: 0.6646\n",
            "Epoch 7/50\n",
            "80/80 [==============================] - 146s 2s/step - loss: 0.5868 - acc: 0.7254 - val_loss: 0.7023 - val_acc: 0.6750\n",
            "Epoch 8/50\n",
            "80/80 [==============================] - 147s 2s/step - loss: 0.5507 - acc: 0.7304 - val_loss: 0.6422 - val_acc: 0.6958\n",
            "Epoch 9/50\n",
            "80/80 [==============================] - 146s 2s/step - loss: 0.5533 - acc: 0.7325 - val_loss: 0.6279 - val_acc: 0.6958\n",
            "Epoch 10/50\n",
            "80/80 [==============================] - 147s 2s/step - loss: 0.5366 - acc: 0.7468 - val_loss: 0.6795 - val_acc: 0.6875\n",
            "Epoch 11/50\n",
            "80/80 [==============================] - 147s 2s/step - loss: 0.5246 - acc: 0.7638 - val_loss: 0.6459 - val_acc: 0.6875\n",
            "Epoch 12/50\n",
            "80/80 [==============================] - 147s 2s/step - loss: 0.5199 - acc: 0.7513 - val_loss: 0.7201 - val_acc: 0.6792\n",
            "Epoch 13/50\n",
            "80/80 [==============================] - 146s 2s/step - loss: 0.4902 - acc: 0.7646 - val_loss: 0.6177 - val_acc: 0.6958\n",
            "Epoch 14/50\n",
            "80/80 [==============================] - 147s 2s/step - loss: 0.5071 - acc: 0.7591 - val_loss: 0.7597 - val_acc: 0.6687\n",
            "Epoch 15/50\n",
            "80/80 [==============================] - 147s 2s/step - loss: 0.4890 - acc: 0.7764 - val_loss: 0.6155 - val_acc: 0.7042\n",
            "Epoch 16/50\n",
            "80/80 [==============================] - 147s 2s/step - loss: 0.4559 - acc: 0.7915 - val_loss: 0.6272 - val_acc: 0.7083\n",
            "Epoch 17/50\n",
            "80/80 [==============================] - 147s 2s/step - loss: 0.4879 - acc: 0.7729 - val_loss: 0.6010 - val_acc: 0.7063\n",
            "Epoch 18/50\n",
            "80/80 [==============================] - 147s 2s/step - loss: 0.4494 - acc: 0.7959 - val_loss: 0.5644 - val_acc: 0.7333\n",
            "Epoch 19/50\n",
            "80/80 [==============================] - 148s 2s/step - loss: 0.4582 - acc: 0.7920 - val_loss: 0.6079 - val_acc: 0.7229\n",
            "Epoch 20/50\n",
            "80/80 [==============================] - 150s 2s/step - loss: 0.4702 - acc: 0.7985 - val_loss: 0.6692 - val_acc: 0.7188\n",
            "Epoch 21/50\n",
            "80/80 [==============================] - 147s 2s/step - loss: 0.4534 - acc: 0.7808 - val_loss: 0.6534 - val_acc: 0.7167\n",
            "Epoch 22/50\n",
            "80/80 [==============================] - 146s 2s/step - loss: 0.4633 - acc: 0.7907 - val_loss: 0.6479 - val_acc: 0.7021\n",
            "Epoch 23/50\n",
            "80/80 [==============================] - 147s 2s/step - loss: 0.4300 - acc: 0.8049 - val_loss: 0.5799 - val_acc: 0.7292\n",
            "Epoch 24/50\n",
            "80/80 [==============================] - 145s 2s/step - loss: 0.4333 - acc: 0.7994 - val_loss: 0.6052 - val_acc: 0.7312\n",
            "Epoch 25/50\n",
            "80/80 [==============================] - 146s 2s/step - loss: 0.4206 - acc: 0.8117 - val_loss: 0.6875 - val_acc: 0.6958\n",
            "Epoch 26/50\n",
            "80/80 [==============================] - 146s 2s/step - loss: 0.4238 - acc: 0.8062 - val_loss: 0.5463 - val_acc: 0.7333\n",
            "Epoch 27/50\n",
            "80/80 [==============================] - 147s 2s/step - loss: 0.4554 - acc: 0.7709 - val_loss: 0.5377 - val_acc: 0.7521\n",
            "Epoch 28/50\n",
            "80/80 [==============================] - 148s 2s/step - loss: 0.4371 - acc: 0.8001 - val_loss: 0.6774 - val_acc: 0.7229\n",
            "Epoch 29/50\n",
            "80/80 [==============================] - 148s 2s/step - loss: 0.3725 - acc: 0.8367 - val_loss: 0.5817 - val_acc: 0.7479\n",
            "Epoch 30/50\n",
            "80/80 [==============================] - 147s 2s/step - loss: 0.3873 - acc: 0.8219 - val_loss: 0.5426 - val_acc: 0.7625\n",
            "Epoch 31/50\n",
            "80/80 [==============================] - 148s 2s/step - loss: 0.3993 - acc: 0.8208 - val_loss: 0.6188 - val_acc: 0.7375\n",
            "Epoch 32/50\n",
            "80/80 [==============================] - 146s 2s/step - loss: 0.3856 - acc: 0.8415 - val_loss: 0.5598 - val_acc: 0.7396\n",
            "Epoch 33/50\n",
            "80/80 [==============================] - 146s 2s/step - loss: 0.4180 - acc: 0.8121 - val_loss: 0.6085 - val_acc: 0.7312\n",
            "Epoch 34/50\n",
            "80/80 [==============================] - 146s 2s/step - loss: 0.3834 - acc: 0.8230 - val_loss: 0.5023 - val_acc: 0.7604\n",
            "Epoch 35/50\n",
            "80/80 [==============================] - 146s 2s/step - loss: 0.3839 - acc: 0.8184 - val_loss: 0.4878 - val_acc: 0.7667\n",
            "Epoch 36/50\n",
            "80/80 [==============================] - 146s 2s/step - loss: 0.3857 - acc: 0.8199 - val_loss: 0.5190 - val_acc: 0.7667\n",
            "Epoch 37/50\n",
            "80/80 [==============================] - 146s 2s/step - loss: 0.3745 - acc: 0.8435 - val_loss: 0.5649 - val_acc: 0.7625\n",
            "Epoch 38/50\n",
            "80/80 [==============================] - 146s 2s/step - loss: 0.3633 - acc: 0.8345 - val_loss: 0.5855 - val_acc: 0.7458\n",
            "Epoch 39/50\n",
            "80/80 [==============================] - 146s 2s/step - loss: 0.3527 - acc: 0.8401 - val_loss: 0.5055 - val_acc: 0.7812\n",
            "Epoch 40/50\n",
            "80/80 [==============================] - 146s 2s/step - loss: 0.3698 - acc: 0.8411 - val_loss: 0.4878 - val_acc: 0.7937\n",
            "Epoch 41/50\n",
            "80/80 [==============================] - 146s 2s/step - loss: 0.3869 - acc: 0.8328 - val_loss: 0.5215 - val_acc: 0.7729\n",
            "Epoch 42/50\n",
            "80/80 [==============================] - 146s 2s/step - loss: 0.3770 - acc: 0.8227 - val_loss: 0.5256 - val_acc: 0.7667\n",
            "Epoch 43/50\n",
            "80/80 [==============================] - 147s 2s/step - loss: 0.3628 - acc: 0.8391 - val_loss: 0.5045 - val_acc: 0.7750\n",
            "Epoch 44/50\n",
            "80/80 [==============================] - 146s 2s/step - loss: 0.3689 - acc: 0.8356 - val_loss: 0.5007 - val_acc: 0.7708\n",
            "Epoch 45/50\n",
            "80/80 [==============================] - 147s 2s/step - loss: 0.3505 - acc: 0.8430 - val_loss: 0.4313 - val_acc: 0.7917\n",
            "Epoch 46/50\n",
            "80/80 [==============================] - 147s 2s/step - loss: 0.3790 - acc: 0.8404 - val_loss: 0.3909 - val_acc: 0.8021\n",
            "Epoch 47/50\n",
            "80/80 [==============================] - 146s 2s/step - loss: 0.3534 - acc: 0.8516 - val_loss: 0.4075 - val_acc: 0.7979\n",
            "Epoch 48/50\n",
            "80/80 [==============================] - 147s 2s/step - loss: 0.3331 - acc: 0.8582 - val_loss: 0.4499 - val_acc: 0.7937\n",
            "Epoch 49/50\n",
            "80/80 [==============================] - 146s 2s/step - loss: 0.3680 - acc: 0.8464 - val_loss: 0.4041 - val_acc: 0.8062\n",
            "Epoch 50/50\n",
            "80/80 [==============================] - 145s 2s/step - loss: 0.3553 - acc: 0.8248 - val_loss: 0.4109 - val_acc: 0.8021\n"
          ],
          "name": "stdout"
        }
      ]
    },
    {
      "cell_type": "code",
      "metadata": {
        "id": "vtplowoW6fne",
        "colab": {
          "base_uri": "https://localhost:8080/"
        },
        "outputId": "dbb4d128-a08d-44b5-da71-c65dcdcfb95e"
      },
      "source": [
        "target_names = []\n",
        "for key in trainGen.class_indices:\n",
        "    target_names.append(key)\n",
        "    \n",
        "print(target_names)\n"
      ],
      "execution_count": 10,
      "outputs": [
        {
          "output_type": "stream",
          "text": [
            "['background', 'snake']\n"
          ],
          "name": "stdout"
        }
      ]
    },
    {
      "cell_type": "code",
      "metadata": {
        "id": "9fv7cPST6fnf",
        "colab": {
          "base_uri": "https://localhost:8080/",
          "height": 573
        },
        "outputId": "8af0d01f-3121-45bf-ea73-0f6ff39e952d"
      },
      "source": [
        "############################################\n",
        "#Plot the Graph\n",
        "\n",
        "acc = H.history['acc']\n",
        "val_acc = H.history['val_acc']\n",
        "loss = H.history['loss']\n",
        "val_loss = H.history['val_loss']\n",
        "epochs = range(1, len(acc) + 1)\n",
        "\n",
        "# Accuracy Curves\n",
        "\n",
        "plt.figure(1)\n",
        "# summarize history for accuracy\n",
        "plt.plot(H.history['acc'])\n",
        "plt.plot(H.history['val_acc'])\n",
        "plt.title('model accuracy of snake Vs Backgroud')\n",
        "plt.ylabel('accuracy')\n",
        "plt.xlabel('epoch')\n",
        "plt.legend(['train', 'validation'], loc='best')\n",
        "plt.savefig('acc.png')\n",
        "plt.show()\n",
        "\n",
        "plt.figure(2)\n",
        "# summarize history for loss\n",
        "plt.plot(H.history['loss'])\n",
        "plt.plot(H.history['val_loss'])\n",
        "plt.title('model loss of snake Vs Backgroud')\n",
        "plt.ylabel('loss')\n",
        "plt.xlabel('epoch')\n",
        "plt.legend(['train', 'validation'], loc='best')\n",
        "plt.savefig('loss.png')\n",
        "plt.show()"
      ],
      "execution_count": 11,
      "outputs": [
        {
          "output_type": "display_data",
          "data": {
            "image/png": "[encoded data removed]",
            "text/plain": [
              "<Figure size 432x288 with 1 Axes>"
            ]
          },
          "metadata": {
            "tags": [],
            "needs_background": "light"
          }
        },
        {
          "output_type": "display_data",
          "data": {
            "image/png": "[encoded data removed]",
            "text/plain": [
              "<Figure size 432x288 with 1 Axes>"
            ]
          },
          "metadata": {
            "tags": [],
            "needs_background": "light"
          }
        }
      ]
    },
    {
      "cell_type": "code",
      "metadata": {
        "id": "ptPpnqCh6fnf",
        "colab": {
          "base_uri": "https://localhost:8080/"
        },
        "outputId": "6ace4e45-f7f4-4383-eeed-2334e62f2cc8"
      },
      "source": [
        "# reset the testing generator and evaluate the network after\n",
        "# fine-tuning just the network head\n",
        "print(\"evaluating after fine-tuning network head...\")\n",
        "\n",
        "totalTest=200\n",
        "testGen.reset()\n",
        "predIdxs = model.predict(x=testGen, steps=(totalTest // batch_size) + 1)\n",
        "predIdxs = np.argmax(predIdxs, axis=1)\n",
        "print(classification_report(testGen.classes, predIdxs,\n",
        "    target_names=testGen.class_indices.keys()))"
      ],
      "execution_count": 12,
      "outputs": [
        {
          "output_type": "stream",
          "text": [
            "evaluating after fine-tuning network head...\n",
            "              precision    recall  f1-score   support\n",
            "\n",
            "  background       0.86      0.65      0.74       100\n",
            "       snake       0.72      0.89      0.79       100\n",
            "\n",
            "    accuracy                           0.77       200\n",
            "   macro avg       0.79      0.77      0.77       200\n",
            "weighted avg       0.79      0.77      0.77       200\n",
            "\n"
          ],
          "name": "stdout"
        }
      ]
    },
    {
      "cell_type": "code",
      "metadata": {
        "id": "KDyxk1Ry6fng",
        "colab": {
          "base_uri": "https://localhost:8080/",
          "height": 313
        },
        "outputId": "e1564206-6a81-4429-e932-a8eaf32e855e"
      },
      "source": [
        "def plot_confusion_matrix(cm, classes, normalize=False, title='Confusion matrix of snake Vs background', cmap=plt.cm.Blues):\n",
        "    \"\"\"\n",
        "    This function prints and plots the confusion matrix.\n",
        "    Normalization can be applied by setting `normalize=True`.\n",
        "    \"\"\"\n",
        "    #plt.figure(figsize=(8,8))\n",
        "\n",
        "    plt.imshow(cm, interpolation='nearest', cmap=cmap)\n",
        "    plt.title(title)\n",
        "    #plt.colorbar()\n",
        "\n",
        "    tick_marks = np.arange(len(classes))\n",
        "    plt.xticks(tick_marks, classes)\n",
        "    plt.yticks(tick_marks, classes)\n",
        "\n",
        "    if normalize:\n",
        "        cm = cm.astype('float') / cm.sum(axis=1)[:, np.newaxis]\n",
        "        cm = np.around(cm, decimals=2)\n",
        "        cm[np.isnan(cm)] = 0.0\n",
        "        print(\"Normalized confusion matrix\")\n",
        "    else:\n",
        "        print('Confusion matrix, without normalization')\n",
        "    thresh = cm.max() / 2.\n",
        "    for i, j in itertools.product(range(cm.shape[0]), range(cm.shape[1])):\n",
        "        plt.text(j, i, cm[i, j],\n",
        "                 horizontalalignment=\"center\",\n",
        "                 color=\"white\" if cm[i, j] > thresh else \"black\")\n",
        "    #plt.tight_layout()\n",
        "    plt.ylabel('True label')\n",
        "    plt.xlabel('Predicted label')\n",
        "   \n",
        "\n",
        "#thresh = cm.max() / 2.\n",
        "#Matplotlib’s matshow\n",
        "cm = confusion_matrix(testGen.classes, predIdxs)\n",
        "\n",
        "plt.figure(3)\n",
        "plot_confusion_matrix(cm, target_names, title='Confusion matrix of snake Vs Backgroud')\n",
        "#print(cm)\n",
        "plt.savefig('snake_VGG16.png')\n",
        "plt.show()"
      ],
      "execution_count": 13,
      "outputs": [
        {
          "output_type": "stream",
          "text": [
            "Confusion matrix, without normalization\n"
          ],
          "name": "stdout"
        },
        {
          "output_type": "display_data",
          "data": {
            "image/png": "[encoded data removed]",
            "text/plain": [
              "<Figure size 432x288 with 1 Axes>"
            ]
          },
          "metadata": {
            "tags": [],
            "needs_background": "light"
          }
        }
      ]
    },
    {
      "cell_type": "code",
      "metadata": {
        "id": "spmBp5tG6fnh"
      },
      "source": [
        ""
      ],
      "execution_count": 13,
      "outputs": []
    }
  ]
}