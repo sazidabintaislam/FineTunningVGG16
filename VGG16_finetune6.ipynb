{
  "nbformat": 4,
  "nbformat_minor": 0,
  "metadata": {
    "kernelspec": {
      "display_name": "Python 3",
      "language": "python",
      "name": "python3"
    },
    "language_info": {
      "codemirror_mode": {
        "name": "ipython",
        "version": 3
      },
      "file_extension": ".py",
      "mimetype": "text/x-python",
      "name": "python",
      "nbconvert_exporter": "python",
      "pygments_lexer": "ipython3",
      "version": "3.8.5"
    },
    "colab": {
      "name": "VGG16_finetune6.ipynb",
      "provenance": [],
      "collapsed_sections": [],
      "include_colab_link": true
    },
    "accelerator": "GPU"
  },
  "cells": [
    {
      "cell_type": "markdown",
      "metadata": {
        "id": "view-in-github",
        "colab_type": "text"
      },
      "source": [
        "<a href=\"https://colab.research.google.com/github/sazidabintaislam/FineTunningVGG16/blob/main/VGG16_finetune6.ipynb\" target=\"_parent\"><img src=\"https://colab.research.google.com/assets/colab-badge.svg\" alt=\"Open In Colab\"/></a>"
      ]
    },
    {
      "cell_type": "code",
      "metadata": {
        "colab": {
          "base_uri": "https://localhost:8080/"
        },
        "id": "WBFTCDlpLz1r",
        "outputId": "4e61d6f6-8e68-4d34-f91e-11ea49fdf1c9"
      },
      "source": [
        "from google.colab import drive\n",
        "drive.mount('/content/drive')"
      ],
      "execution_count": 13,
      "outputs": [
        {
          "output_type": "stream",
          "text": [
            "Drive already mounted at /content/drive; to attempt to forcibly remount, call drive.mount(\"/content/drive\", force_remount=True).\n"
          ],
          "name": "stdout"
        }
      ]
    },
    {
      "cell_type": "code",
      "metadata": {
        "id": "irChVjbrEdBN"
      },
      "source": [
        "#this code is inspired from this link: https://www.pyimagesearch.com/2019/06/03/fine-tuning-with-keras-and-deep-learning/"
      ],
      "execution_count": 14,
      "outputs": []
    },
    {
      "cell_type": "code",
      "metadata": {
        "id": "dnrlHOOA6fnU"
      },
      "source": [
        "# define and move to dataset directory\n",
        "import os\n",
        "# import the needed packages\n",
        "import matplotlib.pyplot as plt\n",
        "import matplotlib.image as img\n",
        "import tensorflow.keras as keras\n",
        "import numpy as np\n",
        "from keras import backend as K\n",
        "from keras.models import Sequential\n",
        "from keras.preprocessing.image import ImageDataGenerator\n",
        "from keras.layers import Conv2D, MaxPooling2D\n",
        "from sklearn.metrics import classification_report, confusion_matrix\n",
        "import matplotlib.pyplot as plt\n",
        "from keras.layers import Dense, Dropout, Activation, Flatten, BatchNormalization\n",
        "from datetime import datetime\n",
        "import itertools \n",
        "from tensorflow.keras.callbacks import EarlyStopping"
      ],
      "execution_count": 15,
      "outputs": []
    },
    {
      "cell_type": "code",
      "metadata": {
        "id": "4HQk9o8X6fnb"
      },
      "source": [
        "trainPath = '/content/drive/MyDrive/snake_background_CNN2/train'\n",
        "valPath = '/content/drive/MyDrive/snake_background_CNN2/valid'\n",
        "testPath = '/content/drive/MyDrive/snake_background_CNN2/test'"
      ],
      "execution_count": 16,
      "outputs": []
    },
    {
      "cell_type": "code",
      "metadata": {
        "id": "rImyDYgs6fnc"
      },
      "source": [
        "trainAug = ImageDataGenerator(\n",
        "    rotation_range=40,\n",
        "    zoom_range=0.30,\n",
        "    width_shift_range=0.2,\n",
        "    height_shift_range=0.2,\n",
        "    shear_range=0.15,\n",
        "    horizontal_flip=True,\n",
        "    fill_mode=\"nearest\")\n",
        "# initialize the validation/testing data augmentation object (which\n",
        "# we'll be adding mean subtraction to)\n",
        "valAug = ImageDataGenerator()\n",
        "# define the ImageNet mean subtraction (in RGB order) and set the\n",
        "# the mean subtraction value for each of the data augmentation\n",
        "# objects\n",
        "testAug=ImageDataGenerator()\n",
        "mean = np.array([123.68, 116.779, 103.939], dtype=\"float32\")\n",
        "trainAug.mean = mean\n",
        "valAug.mean = mean\n",
        "testAug.mean = mean"
      ],
      "execution_count": 17,
      "outputs": []
    },
    {
      "cell_type": "code",
      "metadata": {
        "colab": {
          "base_uri": "https://localhost:8080/"
        },
        "id": "iUyOR9BQ6fnc",
        "outputId": "e023e85f-11d1-442b-b3b8-753a14d37bfe"
      },
      "source": [
        "# initialize the training generator\n",
        "batch_size = 32\n",
        "trainGen = trainAug.flow_from_directory(\n",
        "    trainPath,\n",
        "    class_mode=\"categorical\",\n",
        "    target_size=(224, 224),\n",
        "    color_mode=\"rgb\",\n",
        "    shuffle=True,\n",
        "    batch_size=batch_size)\n",
        "# initialize the validation generator\n",
        "valGen = valAug.flow_from_directory(\n",
        "    valPath,\n",
        "    class_mode=\"categorical\",\n",
        "    target_size=(224, 224),\n",
        "    color_mode=\"rgb\",\n",
        "    shuffle=False,\n",
        "    batch_size=batch_size)\n",
        "# initialize the testing generator\n",
        "testGen = testAug.flow_from_directory(\n",
        "    testPath,\n",
        "    class_mode=\"categorical\",\n",
        "    target_size=(224, 224),\n",
        "    color_mode=\"rgb\",\n",
        "    shuffle=False,\n",
        "    batch_size=batch_size)"
      ],
      "execution_count": 18,
      "outputs": [
        {
          "output_type": "stream",
          "text": [
            "Found 2572 images belonging to 2 classes.\n",
            "Found 501 images belonging to 2 classes.\n",
            "Found 200 images belonging to 2 classes.\n"
          ],
          "name": "stdout"
        }
      ]
    },
    {
      "cell_type": "code",
      "metadata": {
        "colab": {
          "base_uri": "https://localhost:8080/"
        },
        "id": "grVn1svT6fnd",
        "outputId": "9e62a616-656c-4f42-b534-30864b668ba2"
      },
      "source": [
        "# load the VGG16 network, ensuring the head FC layer sets are left\n",
        "# off\n",
        "#VGG16 = keras.applications.vgg16\n",
        "\n",
        "from keras.layers import Input\n",
        "from keras.applications import VGG16\n",
        "from keras.models import Model\n",
        "from keras.optimizers import SGD\n",
        "\n",
        "baseModel = VGG16(weights=\"imagenet\", include_top=False, input_tensor=Input(shape=(224, 224, 3)))\n",
        "# construct the head of the model that will be placed on top of the\n",
        "# the base model\n",
        "\n",
        "# Freeze four convolution blocks\n",
        "for layer in baseModel.layers[:11]:\n",
        "    layer.trainable = False\n",
        "    \n",
        "headModel = baseModel.output\n",
        "headModel = Flatten(name=\"flatten\")(headModel)\n",
        "#headModel = Dense(512, activation=\"relu\")(headModel)\n",
        "#headModel = Dropout(0.5)(headModel)\n",
        "headModel = Dense(256, activation=\"relu\")(headModel)\n",
        "headModel = Dropout(0.5)(headModel)\n",
        "headModel = Dense(2, activation=\"softmax\")(headModel)\n",
        "# place the head FC model on top of the base model (this will become\n",
        "# the actual model we will train)\n",
        "model = Model(inputs=baseModel.input, outputs=headModel)\n",
        "\n",
        "model.summary() \n",
        "\n",
        "# Make sure you have frozen the correct layers\n",
        "for i, layer in enumerate(model.layers):\n",
        "    print(i, layer.name, layer.trainable)\n",
        "    "
      ],
      "execution_count": 19,
      "outputs": [
        {
          "output_type": "stream",
          "text": [
            "Model: \"model_1\"\n",
            "_________________________________________________________________\n",
            "Layer (type)                 Output Shape              Param #   \n",
            "=================================================================\n",
            "input_2 (InputLayer)         [(None, 224, 224, 3)]     0         \n",
            "_________________________________________________________________\n",
            "block1_conv1 (Conv2D)        (None, 224, 224, 64)      1792      \n",
            "_________________________________________________________________\n",
            "block1_conv2 (Conv2D)        (None, 224, 224, 64)      36928     \n",
            "_________________________________________________________________\n",
            "block1_pool (MaxPooling2D)   (None, 112, 112, 64)      0         \n",
            "_________________________________________________________________\n",
            "block2_conv1 (Conv2D)        (None, 112, 112, 128)     73856     \n",
            "_________________________________________________________________\n",
            "block2_conv2 (Conv2D)        (None, 112, 112, 128)     147584    \n",
            "_________________________________________________________________\n",
            "block2_pool (MaxPooling2D)   (None, 56, 56, 128)       0         \n",
            "_________________________________________________________________\n",
            "block3_conv1 (Conv2D)        (None, 56, 56, 256)       295168    \n",
            "_________________________________________________________________\n",
            "block3_conv2 (Conv2D)        (None, 56, 56, 256)       590080    \n",
            "_________________________________________________________________\n",
            "block3_conv3 (Conv2D)        (None, 56, 56, 256)       590080    \n",
            "_________________________________________________________________\n",
            "block3_pool (MaxPooling2D)   (None, 28, 28, 256)       0         \n",
            "_________________________________________________________________\n",
            "block4_conv1 (Conv2D)        (None, 28, 28, 512)       1180160   \n",
            "_________________________________________________________________\n",
            "block4_conv2 (Conv2D)        (None, 28, 28, 512)       2359808   \n",
            "_________________________________________________________________\n",
            "block4_conv3 (Conv2D)        (None, 28, 28, 512)       2359808   \n",
            "_________________________________________________________________\n",
            "block4_pool (MaxPooling2D)   (None, 14, 14, 512)       0         \n",
            "_________________________________________________________________\n",
            "block5_conv1 (Conv2D)        (None, 14, 14, 512)       2359808   \n",
            "_________________________________________________________________\n",
            "block5_conv2 (Conv2D)        (None, 14, 14, 512)       2359808   \n",
            "_________________________________________________________________\n",
            "block5_conv3 (Conv2D)        (None, 14, 14, 512)       2359808   \n",
            "_________________________________________________________________\n",
            "block5_pool (MaxPooling2D)   (None, 7, 7, 512)         0         \n",
            "_________________________________________________________________\n",
            "flatten (Flatten)            (None, 25088)             0         \n",
            "_________________________________________________________________\n",
            "dense_2 (Dense)              (None, 256)               6422784   \n",
            "_________________________________________________________________\n",
            "dropout_1 (Dropout)          (None, 256)               0         \n",
            "_________________________________________________________________\n",
            "dense_3 (Dense)              (None, 2)                 514       \n",
            "=================================================================\n",
            "Total params: 21,137,986\n",
            "Trainable params: 19,402,498\n",
            "Non-trainable params: 1,735,488\n",
            "_________________________________________________________________\n",
            "0 input_2 False\n",
            "1 block1_conv1 False\n",
            "2 block1_conv2 False\n",
            "3 block1_pool False\n",
            "4 block2_conv1 False\n",
            "5 block2_conv2 False\n",
            "6 block2_pool False\n",
            "7 block3_conv1 False\n",
            "8 block3_conv2 False\n",
            "9 block3_conv3 False\n",
            "10 block3_pool False\n",
            "11 block4_conv1 True\n",
            "12 block4_conv2 True\n",
            "13 block4_conv3 True\n",
            "14 block4_pool True\n",
            "15 block5_conv1 True\n",
            "16 block5_conv2 True\n",
            "17 block5_conv3 True\n",
            "18 block5_pool True\n",
            "19 flatten True\n",
            "20 dense_2 True\n",
            "21 dropout_1 True\n",
            "22 dense_3 True\n"
          ],
          "name": "stdout"
        }
      ]
    },
    {
      "cell_type": "code",
      "metadata": {
        "colab": {
          "base_uri": "https://localhost:8080/"
        },
        "id": "9F85mgpE6fne",
        "outputId": "082af60b-1838-43df-b18f-024cc57c30ff"
      },
      "source": [
        "# compile our model (this needs to be done after our setting our\n",
        "# layers to being non-trainable\n",
        "\n",
        "totalTrain=2572\n",
        "totalVal=501\n",
        "print(\"compiling model...\")\n",
        "opt = SGD(lr=1e-4, momentum=0.9)\n",
        "#opt = Adam(learning_rate=0.0001)\n",
        "model.compile(loss=\"binary_crossentropy\", optimizer=opt,metrics=[\"acc\"])\n",
        "# train the head of the network for a few epochs (all other layers\n",
        "# are frozen) -- this will allow the new FC layers to start to become\n",
        "# initialized with actual \"learned\" values versus pure random\n",
        "print(\"training head...\")\n",
        "H = model.fit(\n",
        "    x=trainGen,\n",
        "    steps_per_epoch=totalTrain // batch_size,\n",
        "    validation_data=valGen,\n",
        "    validation_steps=totalVal // batch_size,\n",
        "    epochs=50)"
      ],
      "execution_count": 20,
      "outputs": [
        {
          "output_type": "stream",
          "text": [
            "compiling model...\n",
            "training head...\n",
            "Epoch 1/50\n",
            "80/80 [==============================] - 156s 2s/step - loss: 2.0355 - acc: 0.5767 - val_loss: 0.6425 - val_acc: 0.6500\n",
            "Epoch 2/50\n",
            "80/80 [==============================] - 155s 2s/step - loss: 0.5673 - acc: 0.7145 - val_loss: 0.5831 - val_acc: 0.7208\n",
            "Epoch 3/50\n",
            "80/80 [==============================] - 153s 2s/step - loss: 0.5278 - acc: 0.7417 - val_loss: 0.5563 - val_acc: 0.6979\n",
            "Epoch 4/50\n",
            "80/80 [==============================] - 153s 2s/step - loss: 0.4865 - acc: 0.7739 - val_loss: 0.5016 - val_acc: 0.7229\n",
            "Epoch 5/50\n",
            "80/80 [==============================] - 153s 2s/step - loss: 0.4598 - acc: 0.8038 - val_loss: 0.5890 - val_acc: 0.6604\n",
            "Epoch 6/50\n",
            "80/80 [==============================] - 158s 2s/step - loss: 0.5059 - acc: 0.7443 - val_loss: 0.4378 - val_acc: 0.7771\n",
            "Epoch 7/50\n",
            "80/80 [==============================] - 155s 2s/step - loss: 0.4072 - acc: 0.8326 - val_loss: 0.4803 - val_acc: 0.7188\n",
            "Epoch 8/50\n",
            "80/80 [==============================] - 154s 2s/step - loss: 0.3681 - acc: 0.8487 - val_loss: 0.4814 - val_acc: 0.7542\n",
            "Epoch 9/50\n",
            "80/80 [==============================] - 154s 2s/step - loss: 0.4115 - acc: 0.8181 - val_loss: 0.4267 - val_acc: 0.8146\n",
            "Epoch 10/50\n",
            "80/80 [==============================] - 156s 2s/step - loss: 0.3479 - acc: 0.8616 - val_loss: 0.6881 - val_acc: 0.7167\n",
            "Epoch 11/50\n",
            "80/80 [==============================] - 156s 2s/step - loss: 0.2972 - acc: 0.8885 - val_loss: 0.5876 - val_acc: 0.7563\n",
            "Epoch 12/50\n",
            "80/80 [==============================] - 154s 2s/step - loss: 0.2957 - acc: 0.8820 - val_loss: 0.3234 - val_acc: 0.8521\n",
            "Epoch 13/50\n",
            "80/80 [==============================] - 155s 2s/step - loss: 0.3124 - acc: 0.8731 - val_loss: 0.3071 - val_acc: 0.8667\n",
            "Epoch 14/50\n",
            "80/80 [==============================] - 155s 2s/step - loss: 0.2605 - acc: 0.9070 - val_loss: 0.4619 - val_acc: 0.8125\n",
            "Epoch 15/50\n",
            "80/80 [==============================] - 154s 2s/step - loss: 0.2382 - acc: 0.9107 - val_loss: 0.3342 - val_acc: 0.8354\n",
            "Epoch 16/50\n",
            "80/80 [==============================] - 153s 2s/step - loss: 0.2571 - acc: 0.9018 - val_loss: 0.5942 - val_acc: 0.7188\n",
            "Epoch 17/50\n",
            "80/80 [==============================] - 153s 2s/step - loss: 0.2442 - acc: 0.9107 - val_loss: 0.3069 - val_acc: 0.8521\n",
            "Epoch 18/50\n",
            "80/80 [==============================] - 153s 2s/step - loss: 0.2099 - acc: 0.9201 - val_loss: 0.5006 - val_acc: 0.8167\n",
            "Epoch 19/50\n",
            "80/80 [==============================] - 153s 2s/step - loss: 0.2219 - acc: 0.9109 - val_loss: 0.2374 - val_acc: 0.8854\n",
            "Epoch 20/50\n",
            "80/80 [==============================] - 155s 2s/step - loss: 0.2312 - acc: 0.9069 - val_loss: 0.2493 - val_acc: 0.8813\n",
            "Epoch 21/50\n",
            "80/80 [==============================] - 154s 2s/step - loss: 0.1727 - acc: 0.9303 - val_loss: 0.2123 - val_acc: 0.9167\n",
            "Epoch 22/50\n",
            "80/80 [==============================] - 154s 2s/step - loss: 0.1715 - acc: 0.9316 - val_loss: 0.2599 - val_acc: 0.8833\n",
            "Epoch 23/50\n",
            "80/80 [==============================] - 154s 2s/step - loss: 0.1796 - acc: 0.9293 - val_loss: 0.2434 - val_acc: 0.8854\n",
            "Epoch 24/50\n",
            "80/80 [==============================] - 155s 2s/step - loss: 0.1726 - acc: 0.9341 - val_loss: 0.1701 - val_acc: 0.9208\n",
            "Epoch 25/50\n",
            "80/80 [==============================] - 155s 2s/step - loss: 0.1570 - acc: 0.9389 - val_loss: 0.2613 - val_acc: 0.8875\n",
            "Epoch 26/50\n",
            "80/80 [==============================] - 155s 2s/step - loss: 0.1870 - acc: 0.9246 - val_loss: 0.1465 - val_acc: 0.9250\n",
            "Epoch 27/50\n",
            "80/80 [==============================] - 155s 2s/step - loss: 0.1765 - acc: 0.9417 - val_loss: 0.1526 - val_acc: 0.9375\n",
            "Epoch 28/50\n",
            "80/80 [==============================] - 154s 2s/step - loss: 0.1405 - acc: 0.9468 - val_loss: 0.3364 - val_acc: 0.8625\n",
            "Epoch 29/50\n",
            "80/80 [==============================] - 153s 2s/step - loss: 0.1446 - acc: 0.9483 - val_loss: 0.2012 - val_acc: 0.9062\n",
            "Epoch 30/50\n",
            "80/80 [==============================] - 153s 2s/step - loss: 0.1387 - acc: 0.9506 - val_loss: 0.2063 - val_acc: 0.9125\n",
            "Epoch 31/50\n",
            "80/80 [==============================] - 153s 2s/step - loss: 0.1393 - acc: 0.9434 - val_loss: 0.1449 - val_acc: 0.9396\n",
            "Epoch 32/50\n",
            "80/80 [==============================] - 154s 2s/step - loss: 0.1103 - acc: 0.9550 - val_loss: 0.3945 - val_acc: 0.8521\n",
            "Epoch 33/50\n",
            "80/80 [==============================] - 156s 2s/step - loss: 0.1340 - acc: 0.9471 - val_loss: 0.1401 - val_acc: 0.9479\n",
            "Epoch 34/50\n",
            "80/80 [==============================] - 158s 2s/step - loss: 0.1179 - acc: 0.9518 - val_loss: 0.3689 - val_acc: 0.8271\n",
            "Epoch 35/50\n",
            "80/80 [==============================] - 158s 2s/step - loss: 0.1137 - acc: 0.9597 - val_loss: 0.4307 - val_acc: 0.8167\n",
            "Epoch 36/50\n",
            "80/80 [==============================] - 159s 2s/step - loss: 0.1239 - acc: 0.9555 - val_loss: 0.1177 - val_acc: 0.9458\n",
            "Epoch 37/50\n",
            "80/80 [==============================] - 160s 2s/step - loss: 0.1223 - acc: 0.9509 - val_loss: 0.1502 - val_acc: 0.9354\n",
            "Epoch 38/50\n",
            "80/80 [==============================] - 161s 2s/step - loss: 0.1033 - acc: 0.9624 - val_loss: 0.1499 - val_acc: 0.9396\n",
            "Epoch 39/50\n",
            "80/80 [==============================] - 161s 2s/step - loss: 0.1010 - acc: 0.9619 - val_loss: 0.1002 - val_acc: 0.9667\n",
            "Epoch 40/50\n",
            "80/80 [==============================] - 160s 2s/step - loss: 0.1114 - acc: 0.9565 - val_loss: 0.1625 - val_acc: 0.9396\n",
            "Epoch 41/50\n",
            "80/80 [==============================] - 159s 2s/step - loss: 0.0978 - acc: 0.9647 - val_loss: 0.4600 - val_acc: 0.8771\n",
            "Epoch 42/50\n",
            "80/80 [==============================] - 158s 2s/step - loss: 0.0994 - acc: 0.9594 - val_loss: 0.1032 - val_acc: 0.9583\n",
            "Epoch 43/50\n",
            "80/80 [==============================] - 160s 2s/step - loss: 0.1063 - acc: 0.9601 - val_loss: 0.2727 - val_acc: 0.8917\n",
            "Epoch 44/50\n",
            "80/80 [==============================] - 159s 2s/step - loss: 0.1113 - acc: 0.9571 - val_loss: 0.0710 - val_acc: 0.9729\n",
            "Epoch 45/50\n",
            "80/80 [==============================] - 159s 2s/step - loss: 0.1009 - acc: 0.9582 - val_loss: 0.1831 - val_acc: 0.9271\n",
            "Epoch 46/50\n",
            "80/80 [==============================] - 160s 2s/step - loss: 0.0764 - acc: 0.9733 - val_loss: 0.0911 - val_acc: 0.9688\n",
            "Epoch 47/50\n",
            "80/80 [==============================] - 160s 2s/step - loss: 0.0883 - acc: 0.9670 - val_loss: 0.1192 - val_acc: 0.9542\n",
            "Epoch 48/50\n",
            "80/80 [==============================] - 162s 2s/step - loss: 0.0803 - acc: 0.9760 - val_loss: 0.1223 - val_acc: 0.9604\n",
            "Epoch 49/50\n",
            "80/80 [==============================] - 160s 2s/step - loss: 0.0847 - acc: 0.9724 - val_loss: 0.0739 - val_acc: 0.9750\n",
            "Epoch 50/50\n",
            "80/80 [==============================] - 160s 2s/step - loss: 0.0770 - acc: 0.9691 - val_loss: 0.0917 - val_acc: 0.9604\n"
          ],
          "name": "stdout"
        }
      ]
    },
    {
      "cell_type": "code",
      "metadata": {
        "id": "vtplowoW6fne",
        "colab": {
          "base_uri": "https://localhost:8080/"
        },
        "outputId": "ff571058-0221-4d60-a47d-08e4e6e0cdcf"
      },
      "source": [
        "target_names = []\n",
        "for key in trainGen.class_indices:\n",
        "    target_names.append(key)\n",
        "    \n",
        "print(target_names)\n"
      ],
      "execution_count": 21,
      "outputs": [
        {
          "output_type": "stream",
          "text": [
            "['background', 'snake']\n"
          ],
          "name": "stdout"
        }
      ]
    },
    {
      "cell_type": "code",
      "metadata": {
        "id": "9fv7cPST6fnf",
        "colab": {
          "base_uri": "https://localhost:8080/",
          "height": 573
        },
        "outputId": "fcbdac7c-5f5f-420d-bd92-7df7d24ecdfc"
      },
      "source": [
        "############################################\n",
        "#Plot the Graph\n",
        "\n",
        "acc = H.history['acc']\n",
        "val_acc = H.history['val_acc']\n",
        "loss = H.history['loss']\n",
        "val_loss = H.history['val_loss']\n",
        "epochs = range(1, len(acc) + 1)\n",
        "\n",
        "# Accuracy Curves\n",
        "\n",
        "plt.figure(1)\n",
        "# summarize history for accuracy\n",
        "plt.plot(H.history['acc'])\n",
        "plt.plot(H.history['val_acc'])\n",
        "plt.title('model accuracy of snake Vs Backgroud')\n",
        "plt.ylabel('accuracy')\n",
        "plt.xlabel('epoch')\n",
        "plt.legend(['train', 'validation'], loc='best')\n",
        "plt.savefig('acc.png')\n",
        "plt.show()\n",
        "\n",
        "plt.figure(2)\n",
        "# summarize history for loss\n",
        "plt.plot(H.history['loss'])\n",
        "plt.plot(H.history['val_loss'])\n",
        "plt.title('model loss of snake Vs Backgroud')\n",
        "plt.ylabel('loss')\n",
        "plt.xlabel('epoch')\n",
        "plt.legend(['train', 'validation'], loc='best')\n",
        "plt.savefig('loss.png')\n",
        "plt.show()"
      ],
      "execution_count": 22,
      "outputs": [
        {
          "output_type": "display_data",
          "data": {
            "image/png": "[encoded data removed]",
            "text/plain": [
              "<Figure size 432x288 with 1 Axes>"
            ]
          },
          "metadata": {
            "tags": [],
            "needs_background": "light"
          }
        },
        {
          "output_type": "display_data",
          "data": {
            "image/png": "[encoded data removed]",
            "text/plain": [
              "<Figure size 432x288 with 1 Axes>"
            ]
          },
          "metadata": {
            "tags": [],
            "needs_background": "light"
          }
        }
      ]
    },
    {
      "cell_type": "code",
      "metadata": {
        "id": "ptPpnqCh6fnf",
        "colab": {
          "base_uri": "https://localhost:8080/"
        },
        "outputId": "360b18bc-b96d-4432-d434-488f7a252c9c"
      },
      "source": [
        "# reset the testing generator and evaluate the network after\n",
        "# fine-tuning just the network head\n",
        "print(\"evaluating after fine-tuning network head...\")\n",
        "\n",
        "totalTest=200\n",
        "testGen.reset()\n",
        "predIdxs = model.predict(x=testGen, steps=(totalTest // batch_size) + 1)\n",
        "predIdxs = np.argmax(predIdxs, axis=1)\n",
        "print(classification_report(testGen.classes, predIdxs,\n",
        "    target_names=testGen.class_indices.keys()))"
      ],
      "execution_count": 23,
      "outputs": [
        {
          "output_type": "stream",
          "text": [
            "evaluating after fine-tuning network head...\n",
            "              precision    recall  f1-score   support\n",
            "\n",
            "  background       0.98      0.80      0.88       100\n",
            "       snake       0.83      0.98      0.90       100\n",
            "\n",
            "    accuracy                           0.89       200\n",
            "   macro avg       0.90      0.89      0.89       200\n",
            "weighted avg       0.90      0.89      0.89       200\n",
            "\n"
          ],
          "name": "stdout"
        }
      ]
    },
    {
      "cell_type": "code",
      "metadata": {
        "id": "KDyxk1Ry6fng",
        "colab": {
          "base_uri": "https://localhost:8080/",
          "height": 313
        },
        "outputId": "3a1af328-8ca6-4703-e82a-4d9c6b13622d"
      },
      "source": [
        "def plot_confusion_matrix(cm, classes, normalize=False, title='Confusion matrix of snake Vs background', cmap=plt.cm.Blues):\n",
        "    \"\"\"\n",
        "    This function prints and plots the confusion matrix.\n",
        "    Normalization can be applied by setting `normalize=True`.\n",
        "    \"\"\"\n",
        "    #plt.figure(figsize=(8,8))\n",
        "\n",
        "    plt.imshow(cm, interpolation='nearest', cmap=cmap)\n",
        "    plt.title(title)\n",
        "    #plt.colorbar()\n",
        "\n",
        "    tick_marks = np.arange(len(classes))\n",
        "    plt.xticks(tick_marks, classes)\n",
        "    plt.yticks(tick_marks, classes)\n",
        "\n",
        "    if normalize:\n",
        "        cm = cm.astype('float') / cm.sum(axis=1)[:, np.newaxis]\n",
        "        cm = np.around(cm, decimals=2)\n",
        "        cm[np.isnan(cm)] = 0.0\n",
        "        print(\"Normalized confusion matrix\")\n",
        "    else:\n",
        "        print('Confusion matrix, without normalization')\n",
        "    thresh = cm.max() / 2.\n",
        "    for i, j in itertools.product(range(cm.shape[0]), range(cm.shape[1])):\n",
        "        plt.text(j, i, cm[i, j],\n",
        "                 horizontalalignment=\"center\",\n",
        "                 color=\"white\" if cm[i, j] > thresh else \"black\")\n",
        "    #plt.tight_layout()\n",
        "    plt.ylabel('True label')\n",
        "    plt.xlabel('Predicted label')\n",
        "   \n",
        "\n",
        "#thresh = cm.max() / 2.\n",
        "#Matplotlib’s matshow\n",
        "cm = confusion_matrix(testGen.classes, predIdxs)\n",
        "\n",
        "plt.figure(3)\n",
        "plot_confusion_matrix(cm, target_names, title='Confusion matrix of snake Vs Backgroud')\n",
        "#print(cm)\n",
        "plt.savefig('snake_VGG16.png')\n",
        "plt.show()"
      ],
      "execution_count": 24,
      "outputs": [
        {
          "output_type": "stream",
          "text": [
            "Confusion matrix, without normalization\n"
          ],
          "name": "stdout"
        },
        {
          "output_type": "display_data",
          "data": {
            "image/png": "[encoded data removed]",
            "text/plain": [
              "<Figure size 432x288 with 1 Axes>"
            ]
          },
          "metadata": {
            "tags": [],
            "needs_background": "light"
          }
        }
      ]
    },
    {
      "cell_type": "code",
      "metadata": {
        "id": "spmBp5tG6fnh"
      },
      "source": [
        ""
      ],
      "execution_count": 24,
      "outputs": []
    }
  ]
}