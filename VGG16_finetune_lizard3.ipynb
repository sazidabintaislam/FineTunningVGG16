{
  "nbformat": 4,
  "nbformat_minor": 0,
  "metadata": {
    "accelerator": "GPU",
    "colab": {
      "name": "VGG16_finetune_lizard3.ipynb",
      "provenance": [],
      "collapsed_sections": [],
      "include_colab_link": true
    },
    "kernelspec": {
      "display_name": "Python 3",
      "language": "python",
      "name": "python3"
    },
    "language_info": {
      "codemirror_mode": {
        "name": "ipython",
        "version": 3
      },
      "file_extension": ".py",
      "mimetype": "text/x-python",
      "name": "python",
      "nbconvert_exporter": "python",
      "pygments_lexer": "ipython3",
      "version": "3.8.5"
    }
  },
  "cells": [
    {
      "cell_type": "markdown",
      "metadata": {
        "id": "view-in-github",
        "colab_type": "text"
      },
      "source": [
        "<a href=\"https://colab.research.google.com/github/sazidabintaislam/FineTunningVGG16/blob/main/VGG16_finetune_lizard3.ipynb\" target=\"_parent\"><img src=\"https://colab.research.google.com/assets/colab-badge.svg\" alt=\"Open In Colab\"/></a>"
      ]
    },
    {
      "cell_type": "code",
      "metadata": {
        "colab": {
          "base_uri": "https://localhost:8080/"
        },
        "id": "WBFTCDlpLz1r",
        "outputId": "39cb863f-a650-4362-c76b-70143d0f02bf"
      },
      "source": [
        "from google.colab import drive\n",
        "drive.mount('/content/drive')"
      ],
      "execution_count": 1,
      "outputs": [
        {
          "output_type": "stream",
          "text": [
            "Mounted at /content/drive\n"
          ],
          "name": "stdout"
        }
      ]
    },
    {
      "cell_type": "code",
      "metadata": {
        "id": "irChVjbrEdBN"
      },
      "source": [
        "#this code is inspired from this link: https://www.pyimagesearch.com/2019/06/03/fine-tuning-with-keras-and-deep-learning/"
      ],
      "execution_count": 2,
      "outputs": []
    },
    {
      "cell_type": "code",
      "metadata": {
        "id": "dnrlHOOA6fnU"
      },
      "source": [
        "# define and move to dataset directory\n",
        "import os\n",
        "# import the needed packages\n",
        "import matplotlib.pyplot as plt\n",
        "import matplotlib.image as img\n",
        "import tensorflow.keras as keras\n",
        "import numpy as np\n",
        "from keras import backend as K\n",
        "from keras.models import Sequential\n",
        "from keras.preprocessing.image import ImageDataGenerator\n",
        "from keras.layers import Conv2D, MaxPooling2D\n",
        "from sklearn.metrics import classification_report, confusion_matrix\n",
        "import matplotlib.pyplot as plt\n",
        "from keras.layers import Dense, Dropout, Activation, Flatten, BatchNormalization\n",
        "from datetime import datetime\n",
        "import itertools \n",
        "from tensorflow.keras.callbacks import EarlyStopping"
      ],
      "execution_count": 3,
      "outputs": []
    },
    {
      "cell_type": "code",
      "metadata": {
        "id": "4HQk9o8X6fnb"
      },
      "source": [
        "trainPath = '/content/drive/MyDrive/lizard_background_CNN2/train'\n",
        "valPath = '/content/drive/MyDrive/lizard_background_CNN2/valid'\n",
        "testPath = '/content/drive/MyDrive/lizard_background_CNN2/test'"
      ],
      "execution_count": 4,
      "outputs": []
    },
    {
      "cell_type": "code",
      "metadata": {
        "id": "rImyDYgs6fnc"
      },
      "source": [
        "trainAug = ImageDataGenerator(\n",
        "    rotation_range=40,\n",
        "    zoom_range=0.30,\n",
        "    width_shift_range=0.2,\n",
        "    height_shift_range=0.2,\n",
        "    shear_range=0.15,\n",
        "    horizontal_flip=True,\n",
        "    fill_mode=\"nearest\")\n",
        "# initialize the validation/testing data augmentation object (which\n",
        "# we'll be adding mean subtraction to)\n",
        "valAug = ImageDataGenerator()\n",
        "# define the ImageNet mean subtraction (in RGB order) and set the\n",
        "# the mean subtraction value for each of the data augmentation\n",
        "# objects\n",
        "testAug=ImageDataGenerator()\n",
        "mean = np.array([123.68, 116.779, 103.939], dtype=\"float32\")\n",
        "trainAug.mean = mean\n",
        "valAug.mean = mean\n",
        "testAug.mean = mean"
      ],
      "execution_count": 5,
      "outputs": []
    },
    {
      "cell_type": "code",
      "metadata": {
        "colab": {
          "base_uri": "https://localhost:8080/"
        },
        "id": "iUyOR9BQ6fnc",
        "outputId": "23020d25-6d9d-48fb-c6d7-f62809f05dc5"
      },
      "source": [
        "# initialize the training generator\n",
        "batch_size = 32\n",
        "trainGen = trainAug.flow_from_directory(\n",
        "    trainPath,\n",
        "    class_mode=\"categorical\",\n",
        "    target_size=(224, 224),\n",
        "    color_mode=\"rgb\",\n",
        "    shuffle=True,\n",
        "    batch_size=batch_size)\n",
        "# initialize the validation generator\n",
        "valGen = valAug.flow_from_directory(\n",
        "    valPath,\n",
        "    class_mode=\"categorical\",\n",
        "    target_size=(224, 224),\n",
        "    color_mode=\"rgb\",\n",
        "    shuffle=False,\n",
        "    batch_size=batch_size)\n",
        "# initialize the testing generator\n",
        "testGen = testAug.flow_from_directory(\n",
        "    testPath,\n",
        "    class_mode=\"categorical\",\n",
        "    target_size=(224, 224),\n",
        "    color_mode=\"rgb\",\n",
        "    shuffle=False,\n",
        "    batch_size=batch_size)"
      ],
      "execution_count": 6,
      "outputs": [
        {
          "output_type": "stream",
          "text": [
            "Found 2890 images belonging to 2 classes.\n",
            "Found 700 images belonging to 2 classes.\n",
            "Found 200 images belonging to 2 classes.\n"
          ],
          "name": "stdout"
        }
      ]
    },
    {
      "cell_type": "code",
      "metadata": {
        "colab": {
          "base_uri": "https://localhost:8080/"
        },
        "id": "grVn1svT6fnd",
        "outputId": "442f74e7-6ec9-4784-d0ec-0e8b99ebef36"
      },
      "source": [
        "# load the VGG16 network, ensuring the head FC layer sets are left\n",
        "# off\n",
        "#VGG16 = keras.applications.vgg16\n",
        "\n",
        "from keras.layers import Input\n",
        "from keras.applications import VGG16\n",
        "from keras.models import Model\n",
        "from keras.optimizers import Adam\n",
        "\n",
        "baseModel = VGG16(weights=\"imagenet\", include_top=False, input_tensor=Input(shape=(224, 224, 3)))\n",
        "# construct the head of the model that will be placed on top of the\n",
        "# the base model\n",
        "\n",
        "# Freeze four convolution blocks\n",
        "for layer in baseModel.layers[:11]:\n",
        "    layer.trainable = False\n",
        "    \n",
        "headModel = baseModel.output\n",
        "headModel = Flatten(name=\"flatten\")(headModel)\n",
        "#headModel = Dense(512, activation=\"relu\")(headModel)\n",
        "#headModel = Dropout(0.5)(headModel)\n",
        "headModel = Dense(256, activation=\"relu\")(headModel)\n",
        "headModel = Dropout(0.5)(headModel)\n",
        "headModel = Dense(2, activation=\"softmax\")(headModel)\n",
        "# place the head FC model on top of the base model (this will become\n",
        "# the actual model we will train)\n",
        "model = Model(inputs=baseModel.input, outputs=headModel)\n",
        "\n",
        "model.summary() \n",
        "\n",
        "# Make sure you have frozen the correct layers\n",
        "for i, layer in enumerate(model.layers):\n",
        "    print(i, layer.name, layer.trainable)\n",
        "    "
      ],
      "execution_count": 7,
      "outputs": [
        {
          "output_type": "stream",
          "text": [
            "Downloading data from https://storage.googleapis.com/tensorflow/keras-applications/vgg16/vgg16_weights_tf_dim_ordering_tf_kernels_notop.h5\n",
            "58892288/58889256 [==============================] - 2s 0us/step\n",
            "Model: \"model\"\n",
            "_________________________________________________________________\n",
            "Layer (type)                 Output Shape              Param #   \n",
            "=================================================================\n",
            "input_1 (InputLayer)         [(None, 224, 224, 3)]     0         \n",
            "_________________________________________________________________\n",
            "block1_conv1 (Conv2D)        (None, 224, 224, 64)      1792      \n",
            "_________________________________________________________________\n",
            "block1_conv2 (Conv2D)        (None, 224, 224, 64)      36928     \n",
            "_________________________________________________________________\n",
            "block1_pool (MaxPooling2D)   (None, 112, 112, 64)      0         \n",
            "_________________________________________________________________\n",
            "block2_conv1 (Conv2D)        (None, 112, 112, 128)     73856     \n",
            "_________________________________________________________________\n",
            "block2_conv2 (Conv2D)        (None, 112, 112, 128)     147584    \n",
            "_________________________________________________________________\n",
            "block2_pool (MaxPooling2D)   (None, 56, 56, 128)       0         \n",
            "_________________________________________________________________\n",
            "block3_conv1 (Conv2D)        (None, 56, 56, 256)       295168    \n",
            "_________________________________________________________________\n",
            "block3_conv2 (Conv2D)        (None, 56, 56, 256)       590080    \n",
            "_________________________________________________________________\n",
            "block3_conv3 (Conv2D)        (None, 56, 56, 256)       590080    \n",
            "_________________________________________________________________\n",
            "block3_pool (MaxPooling2D)   (None, 28, 28, 256)       0         \n",
            "_________________________________________________________________\n",
            "block4_conv1 (Conv2D)        (None, 28, 28, 512)       1180160   \n",
            "_________________________________________________________________\n",
            "block4_conv2 (Conv2D)        (None, 28, 28, 512)       2359808   \n",
            "_________________________________________________________________\n",
            "block4_conv3 (Conv2D)        (None, 28, 28, 512)       2359808   \n",
            "_________________________________________________________________\n",
            "block4_pool (MaxPooling2D)   (None, 14, 14, 512)       0         \n",
            "_________________________________________________________________\n",
            "block5_conv1 (Conv2D)        (None, 14, 14, 512)       2359808   \n",
            "_________________________________________________________________\n",
            "block5_conv2 (Conv2D)        (None, 14, 14, 512)       2359808   \n",
            "_________________________________________________________________\n",
            "block5_conv3 (Conv2D)        (None, 14, 14, 512)       2359808   \n",
            "_________________________________________________________________\n",
            "block5_pool (MaxPooling2D)   (None, 7, 7, 512)         0         \n",
            "_________________________________________________________________\n",
            "flatten (Flatten)            (None, 25088)             0         \n",
            "_________________________________________________________________\n",
            "dense (Dense)                (None, 256)               6422784   \n",
            "_________________________________________________________________\n",
            "dropout (Dropout)            (None, 256)               0         \n",
            "_________________________________________________________________\n",
            "dense_1 (Dense)              (None, 2)                 514       \n",
            "=================================================================\n",
            "Total params: 21,137,986\n",
            "Trainable params: 19,402,498\n",
            "Non-trainable params: 1,735,488\n",
            "_________________________________________________________________\n",
            "0 input_1 False\n",
            "1 block1_conv1 False\n",
            "2 block1_conv2 False\n",
            "3 block1_pool False\n",
            "4 block2_conv1 False\n",
            "5 block2_conv2 False\n",
            "6 block2_pool False\n",
            "7 block3_conv1 False\n",
            "8 block3_conv2 False\n",
            "9 block3_conv3 False\n",
            "10 block3_pool False\n",
            "11 block4_conv1 True\n",
            "12 block4_conv2 True\n",
            "13 block4_conv3 True\n",
            "14 block4_pool True\n",
            "15 block5_conv1 True\n",
            "16 block5_conv2 True\n",
            "17 block5_conv3 True\n",
            "18 block5_pool True\n",
            "19 flatten True\n",
            "20 dense True\n",
            "21 dropout True\n",
            "22 dense_1 True\n"
          ],
          "name": "stdout"
        }
      ]
    },
    {
      "cell_type": "code",
      "metadata": {
        "colab": {
          "base_uri": "https://localhost:8080/"
        },
        "id": "9F85mgpE6fne",
        "outputId": "1abfdd12-25a5-45b0-dd59-cd8ded126934"
      },
      "source": [
        "# compile our model (this needs to be done after our setting our\n",
        "# layers to being non-trainable\n",
        "\n",
        "totalTrain=2890\n",
        "totalVal=700\n",
        "print(\"compiling model...\")\n",
        "#opt = SGD(lr=1e-4, momentum=0.9)\n",
        "opt = Adam(learning_rate=0.0001)\n",
        "model.compile(loss=\"binary_crossentropy\", optimizer=opt,metrics=[\"acc\"])\n",
        "# train the head of the network for a few epochs (all other layers\n",
        "# are frozen) -- this will allow the new FC layers to start to become\n",
        "# initialized with actual \"learned\" values versus pure random\n",
        "print(\"training head...\")\n",
        "H = model.fit(\n",
        "    x=trainGen,\n",
        "    steps_per_epoch=totalTrain // batch_size,\n",
        "    validation_data=valGen,\n",
        "    validation_steps=totalVal // batch_size,\n",
        "    epochs=50)"
      ],
      "execution_count": 8,
      "outputs": [
        {
          "output_type": "stream",
          "text": [
            "compiling model...\n",
            "training head...\n",
            "Epoch 1/50\n",
            "90/90 [==============================] - 1844s 20s/step - loss: 1.4855 - acc: 0.5477 - val_loss: 0.5951 - val_acc: 0.6949\n",
            "Epoch 2/50\n",
            "90/90 [==============================] - 184s 2s/step - loss: 0.6523 - acc: 0.6015 - val_loss: 0.6241 - val_acc: 0.6071\n",
            "Epoch 3/50\n",
            "90/90 [==============================] - 181s 2s/step - loss: 0.6444 - acc: 0.5729 - val_loss: 0.6282 - val_acc: 0.5729\n",
            "Epoch 4/50\n",
            "90/90 [==============================] - 182s 2s/step - loss: 0.6379 - acc: 0.5967 - val_loss: 0.6280 - val_acc: 0.5729\n",
            "Epoch 5/50\n",
            "90/90 [==============================] - 180s 2s/step - loss: 0.6287 - acc: 0.5963 - val_loss: 0.6298 - val_acc: 0.5729\n",
            "Epoch 6/50\n",
            "90/90 [==============================] - 178s 2s/step - loss: 0.6337 - acc: 0.5992 - val_loss: 1.6039 - val_acc: 0.5774\n",
            "Epoch 7/50\n",
            "90/90 [==============================] - 178s 2s/step - loss: 0.7402 - acc: 0.5275 - val_loss: 0.6952 - val_acc: 0.4792\n",
            "Epoch 8/50\n",
            "90/90 [==============================] - 178s 2s/step - loss: 0.6949 - acc: 0.4817 - val_loss: 0.6949 - val_acc: 0.4792\n",
            "Epoch 9/50\n",
            "90/90 [==============================] - 190s 2s/step - loss: 0.6935 - acc: 0.5011 - val_loss: 0.6947 - val_acc: 0.4792\n",
            "Epoch 10/50\n",
            "90/90 [==============================] - 196s 2s/step - loss: 0.6934 - acc: 0.5023 - val_loss: 0.6945 - val_acc: 0.4792\n",
            "Epoch 11/50\n",
            "90/90 [==============================] - 192s 2s/step - loss: 0.6934 - acc: 0.5010 - val_loss: 0.6943 - val_acc: 0.4792\n",
            "Epoch 12/50\n",
            "90/90 [==============================] - 188s 2s/step - loss: 0.6935 - acc: 0.4968 - val_loss: 0.6942 - val_acc: 0.4792\n",
            "Epoch 13/50\n",
            "90/90 [==============================] - 189s 2s/step - loss: 0.6938 - acc: 0.4859 - val_loss: 0.6940 - val_acc: 0.4792\n",
            "Epoch 14/50\n",
            "90/90 [==============================] - 188s 2s/step - loss: 0.6933 - acc: 0.4998 - val_loss: 0.6939 - val_acc: 0.4792\n",
            "Epoch 15/50\n",
            "90/90 [==============================] - 185s 2s/step - loss: 0.6931 - acc: 0.5049 - val_loss: 0.6938 - val_acc: 0.4792\n",
            "Epoch 16/50\n",
            "90/90 [==============================] - 187s 2s/step - loss: 0.6931 - acc: 0.5020 - val_loss: 0.6937 - val_acc: 0.4792\n",
            "Epoch 17/50\n",
            "90/90 [==============================] - 185s 2s/step - loss: 0.6930 - acc: 0.5043 - val_loss: 0.6937 - val_acc: 0.4792\n",
            "Epoch 18/50\n",
            "90/90 [==============================] - 187s 2s/step - loss: 0.6933 - acc: 0.4919 - val_loss: 0.6936 - val_acc: 0.4792\n",
            "Epoch 19/50\n",
            "90/90 [==============================] - 187s 2s/step - loss: 0.6930 - acc: 0.5084 - val_loss: 0.6935 - val_acc: 0.4792\n",
            "Epoch 20/50\n",
            "90/90 [==============================] - 188s 2s/step - loss: 0.6918 - acc: 0.5058 - val_loss: 0.6936 - val_acc: 0.4792\n",
            "Epoch 21/50\n",
            "90/90 [==============================] - 188s 2s/step - loss: 0.6936 - acc: 0.4810 - val_loss: 0.6935 - val_acc: 0.4792\n",
            "Epoch 22/50\n",
            "90/90 [==============================] - 188s 2s/step - loss: 0.6931 - acc: 0.5062 - val_loss: 0.6935 - val_acc: 0.4792\n",
            "Epoch 23/50\n",
            "90/90 [==============================] - 191s 2s/step - loss: 0.6932 - acc: 0.5007 - val_loss: 0.6935 - val_acc: 0.4792\n",
            "Epoch 24/50\n",
            "90/90 [==============================] - 191s 2s/step - loss: 0.6933 - acc: 0.4934 - val_loss: 0.6935 - val_acc: 0.4792\n",
            "Epoch 25/50\n",
            "90/90 [==============================] - 193s 2s/step - loss: 0.6934 - acc: 0.4894 - val_loss: 0.6935 - val_acc: 0.4792\n",
            "Epoch 26/50\n",
            "90/90 [==============================] - 191s 2s/step - loss: 0.6931 - acc: 0.5064 - val_loss: 0.6934 - val_acc: 0.4792\n",
            "Epoch 27/50\n",
            "90/90 [==============================] - 194s 2s/step - loss: 0.6931 - acc: 0.5018 - val_loss: 0.6934 - val_acc: 0.4792\n",
            "Epoch 28/50\n",
            "90/90 [==============================] - 195s 2s/step - loss: 0.6931 - acc: 0.5055 - val_loss: 0.6934 - val_acc: 0.4792\n",
            "Epoch 29/50\n",
            "90/90 [==============================] - 195s 2s/step - loss: 0.6931 - acc: 0.5082 - val_loss: 0.6934 - val_acc: 0.4792\n",
            "Epoch 30/50\n",
            "90/90 [==============================] - 194s 2s/step - loss: 0.6931 - acc: 0.5036 - val_loss: 0.6934 - val_acc: 0.4792\n",
            "Epoch 31/50\n",
            "90/90 [==============================] - 193s 2s/step - loss: 0.6932 - acc: 0.4902 - val_loss: 0.6933 - val_acc: 0.4792\n",
            "Epoch 32/50\n",
            "90/90 [==============================] - 193s 2s/step - loss: 0.6931 - acc: 0.5096 - val_loss: 0.6933 - val_acc: 0.4792\n",
            "Epoch 33/50\n",
            "90/90 [==============================] - 193s 2s/step - loss: 0.6932 - acc: 0.5000 - val_loss: 0.6933 - val_acc: 0.4792\n",
            "Epoch 34/50\n",
            "90/90 [==============================] - 193s 2s/step - loss: 0.6931 - acc: 0.4995 - val_loss: 0.6933 - val_acc: 0.4792\n",
            "Epoch 35/50\n",
            "90/90 [==============================] - 194s 2s/step - loss: 0.6932 - acc: 0.5012 - val_loss: 0.6933 - val_acc: 0.4792\n",
            "Epoch 36/50\n",
            "90/90 [==============================] - 189s 2s/step - loss: 0.6932 - acc: 0.5041 - val_loss: 0.6932 - val_acc: 0.4792\n",
            "Epoch 37/50\n",
            "90/90 [==============================] - 189s 2s/step - loss: 0.6932 - acc: 0.4921 - val_loss: 0.6932 - val_acc: 0.4792\n",
            "Epoch 38/50\n",
            "90/90 [==============================] - 189s 2s/step - loss: 0.6931 - acc: 0.5155 - val_loss: 0.6932 - val_acc: 0.4792\n",
            "Epoch 39/50\n",
            "90/90 [==============================] - 196s 2s/step - loss: 0.6931 - acc: 0.5047 - val_loss: 0.6932 - val_acc: 0.4792\n",
            "Epoch 40/50\n",
            "90/90 [==============================] - 196s 2s/step - loss: 0.6931 - acc: 0.4982 - val_loss: 0.6932 - val_acc: 0.4792\n",
            "Epoch 41/50\n",
            "90/90 [==============================] - 190s 2s/step - loss: 0.6932 - acc: 0.5049 - val_loss: 0.6932 - val_acc: 0.4792\n",
            "Epoch 42/50\n",
            "90/90 [==============================] - 193s 2s/step - loss: 0.6931 - acc: 0.5201 - val_loss: 0.6932 - val_acc: 0.4792\n",
            "Epoch 43/50\n",
            "90/90 [==============================] - 189s 2s/step - loss: 0.6932 - acc: 0.4957 - val_loss: 0.6932 - val_acc: 0.4792\n",
            "Epoch 44/50\n",
            "90/90 [==============================] - 189s 2s/step - loss: 0.6931 - acc: 0.4915 - val_loss: 0.6932 - val_acc: 0.4792\n",
            "Epoch 45/50\n",
            "90/90 [==============================] - 193s 2s/step - loss: 0.6932 - acc: 0.4879 - val_loss: 0.6931 - val_acc: 0.5208\n",
            "Epoch 46/50\n",
            "90/90 [==============================] - 189s 2s/step - loss: 0.6932 - acc: 0.4971 - val_loss: 0.6931 - val_acc: 0.5208\n",
            "Epoch 47/50\n",
            "90/90 [==============================] - 191s 2s/step - loss: 0.6932 - acc: 0.4781 - val_loss: 0.6931 - val_acc: 0.5208\n",
            "Epoch 48/50\n",
            "90/90 [==============================] - 186s 2s/step - loss: 0.6931 - acc: 0.4936 - val_loss: 0.6931 - val_acc: 0.5208\n",
            "Epoch 49/50\n",
            "90/90 [==============================] - 189s 2s/step - loss: 0.6931 - acc: 0.5046 - val_loss: 0.6931 - val_acc: 0.5208\n",
            "Epoch 50/50\n",
            "90/90 [==============================] - 189s 2s/step - loss: 0.6931 - acc: 0.5006 - val_loss: 0.6931 - val_acc: 0.5208\n"
          ],
          "name": "stdout"
        }
      ]
    },
    {
      "cell_type": "code",
      "metadata": {
        "id": "vtplowoW6fne",
        "colab": {
          "base_uri": "https://localhost:8080/"
        },
        "outputId": "cbca5c8f-ee08-4f45-b711-8255a4c563ea"
      },
      "source": [
        "target_names = []\n",
        "for key in trainGen.class_indices:\n",
        "    target_names.append(key)\n",
        "    \n",
        "print(target_names)\n"
      ],
      "execution_count": 9,
      "outputs": [
        {
          "output_type": "stream",
          "text": [
            "['background', 'lizard']\n"
          ],
          "name": "stdout"
        }
      ]
    },
    {
      "cell_type": "code",
      "metadata": {
        "id": "9fv7cPST6fnf",
        "colab": {
          "base_uri": "https://localhost:8080/",
          "height": 573
        },
        "outputId": "e143cf59-e12a-4e67-cc24-b6ccf9d21f43"
      },
      "source": [
        "############################################\n",
        "#Plot the Graph\n",
        "\n",
        "acc = H.history['acc']\n",
        "val_acc = H.history['val_acc']\n",
        "loss = H.history['loss']\n",
        "val_loss = H.history['val_loss']\n",
        "epochs = range(1, len(acc) + 1)\n",
        "\n",
        "# Accuracy Curves\n",
        "\n",
        "plt.figure(1)\n",
        "# summarize history for accuracy\n",
        "plt.plot(H.history['acc'])\n",
        "plt.plot(H.history['val_acc'])\n",
        "plt.title('model accuracy of Lizard Vs Backgroud')\n",
        "plt.ylabel('accuracy')\n",
        "plt.xlabel('epoch')\n",
        "plt.legend(['train', 'validation'], loc='best')\n",
        "plt.savefig('acc.png')\n",
        "plt.show()\n",
        "\n",
        "plt.figure(2)\n",
        "# summarize history for loss\n",
        "plt.plot(H.history['loss'])\n",
        "plt.plot(H.history['val_loss'])\n",
        "plt.title('model loss of Lizard Vs Backgroud')\n",
        "plt.ylabel('loss')\n",
        "plt.xlabel('epoch')\n",
        "plt.legend(['train', 'validation'], loc='best')\n",
        "plt.savefig('loss.png')\n",
        "plt.show()"
      ],
      "execution_count": 10,
      "outputs": [
        {
          "output_type": "display_data",
          "data": {
            "image/png": "[encoded data removed]",
            "text/plain": [
              "<Figure size 432x288 with 1 Axes>"
            ]
          },
          "metadata": {
            "tags": [],
            "needs_background": "light"
          }
        },
        {
          "output_type": "display_data",
          "data": {
            "image/png": "[encoded data removed]",
            "text/plain": [
              "<Figure size 432x288 with 1 Axes>"
            ]
          },
          "metadata": {
            "tags": [],
            "needs_background": "light"
          }
        }
      ]
    },
    {
      "cell_type": "code",
      "metadata": {
        "id": "ptPpnqCh6fnf",
        "colab": {
          "base_uri": "https://localhost:8080/"
        },
        "outputId": "25c94532-9e98-453a-8629-e89a0afeb279"
      },
      "source": [
        "# reset the testing generator and evaluate the network after\n",
        "# fine-tuning just the network head\n",
        "print(\"evaluating after fine-tuning network head...\")\n",
        "\n",
        "totalTest=200\n",
        "testGen.reset()\n",
        "predIdxs = model.predict(x=testGen, steps=(totalTest // batch_size) + 1)\n",
        "predIdxs = np.argmax(predIdxs, axis=1)\n",
        "print(classification_report(testGen.classes, predIdxs,\n",
        "    target_names=testGen.class_indices.keys()))"
      ],
      "execution_count": 11,
      "outputs": [
        {
          "output_type": "stream",
          "text": [
            "evaluating after fine-tuning network head...\n",
            "              precision    recall  f1-score   support\n",
            "\n",
            "  background       0.50      1.00      0.67       100\n",
            "      lizard       0.00      0.00      0.00       100\n",
            "\n",
            "    accuracy                           0.50       200\n",
            "   macro avg       0.25      0.50      0.33       200\n",
            "weighted avg       0.25      0.50      0.33       200\n",
            "\n"
          ],
          "name": "stdout"
        },
        {
          "output_type": "stream",
          "text": [
            "/usr/local/lib/python3.7/dist-packages/sklearn/metrics/_classification.py:1272: UndefinedMetricWarning: Precision and F-score are ill-defined and being set to 0.0 in labels with no predicted samples. Use `zero_division` parameter to control this behavior.\n",
            "  _warn_prf(average, modifier, msg_start, len(result))\n"
          ],
          "name": "stderr"
        }
      ]
    },
    {
      "cell_type": "code",
      "metadata": {
        "id": "KDyxk1Ry6fng",
        "colab": {
          "base_uri": "https://localhost:8080/",
          "height": 313
        },
        "outputId": "90fee86d-6e5f-41b5-dd77-5acb00aa7d1e"
      },
      "source": [
        "def plot_confusion_matrix(cm, classes, normalize=False, title='Confusion matrix of snake Vs background', cmap=plt.cm.Blues):\n",
        "    \"\"\"\n",
        "    This function prints and plots the confusion matrix.\n",
        "    Normalization can be applied by setting `normalize=True`.\n",
        "    \"\"\"\n",
        "    #plt.figure(figsize=(8,8))\n",
        "\n",
        "    plt.imshow(cm, interpolation='nearest', cmap=cmap)\n",
        "    plt.title(title)\n",
        "    #plt.colorbar()\n",
        "\n",
        "    tick_marks = np.arange(len(classes))\n",
        "    plt.xticks(tick_marks, classes)\n",
        "    plt.yticks(tick_marks, classes)\n",
        "\n",
        "    if normalize:\n",
        "        cm = cm.astype('float') / cm.sum(axis=1)[:, np.newaxis]\n",
        "        cm = np.around(cm, decimals=2)\n",
        "        cm[np.isnan(cm)] = 0.0\n",
        "        print(\"Normalized confusion matrix\")\n",
        "    else:\n",
        "        print('Confusion matrix, without normalization')\n",
        "    thresh = cm.max() / 2.\n",
        "    for i, j in itertools.product(range(cm.shape[0]), range(cm.shape[1])):\n",
        "        plt.text(j, i, cm[i, j],\n",
        "                 horizontalalignment=\"center\",\n",
        "                 color=\"white\" if cm[i, j] > thresh else \"black\")\n",
        "    #plt.tight_layout()\n",
        "    plt.ylabel('True label')\n",
        "    plt.xlabel('Predicted label')\n",
        "   \n",
        "\n",
        "#thresh = cm.max() / 2.\n",
        "#Matplotlib’s matshow\n",
        "cm = confusion_matrix(testGen.classes, predIdxs)\n",
        "\n",
        "plt.figure(3)\n",
        "plot_confusion_matrix(cm, target_names, title='Confusion matrix of Lizard Vs Backgroud')\n",
        "#print(cm)\n",
        "plt.savefig('toad_VGG16.png')\n",
        "plt.show()"
      ],
      "execution_count": 12,
      "outputs": [
        {
          "output_type": "stream",
          "text": [
            "Confusion matrix, without normalization\n"
          ],
          "name": "stdout"
        },
        {
          "output_type": "display_data",
          "data": {
            "image/png": "[encoded data removed]",
            "text/plain": [
              "<Figure size 432x288 with 1 Axes>"
            ]
          },
          "metadata": {
            "tags": [],
            "needs_background": "light"
          }
        }
      ]
    }
  ]
}