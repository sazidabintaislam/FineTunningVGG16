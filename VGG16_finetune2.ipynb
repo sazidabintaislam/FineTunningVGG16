{
  "nbformat": 4,
  "nbformat_minor": 0,
  "metadata": {
    "kernelspec": {
      "display_name": "Python 3",
      "language": "python",
      "name": "python3"
    },
    "language_info": {
      "codemirror_mode": {
        "name": "ipython",
        "version": 3
      },
      "file_extension": ".py",
      "mimetype": "text/x-python",
      "name": "python",
      "nbconvert_exporter": "python",
      "pygments_lexer": "ipython3",
      "version": "3.8.5"
    },
    "colab": {
      "name": "VGG16_finetune2.ipynb",
      "provenance": [],
      "collapsed_sections": [],
      "include_colab_link": true
    },
    "accelerator": "GPU"
  },
  "cells": [
    {
      "cell_type": "markdown",
      "metadata": {
        "id": "view-in-github",
        "colab_type": "text"
      },
      "source": [
        "<a href=\"https://colab.research.google.com/github/sazidabintaislam/FineTunningVGG16/blob/main/VGG16_finetune2.ipynb\" target=\"_parent\"><img src=\"https://colab.research.google.com/assets/colab-badge.svg\" alt=\"Open In Colab\"/></a>"
      ]
    },
    {
      "cell_type": "code",
      "metadata": {
        "colab": {
          "base_uri": "https://localhost:8080/"
        },
        "id": "WBFTCDlpLz1r",
        "outputId": "b9e9ed40-243e-4323-9d28-5a0fe7d3dc56"
      },
      "source": [
        "from google.colab import drive\n",
        "drive.mount('/content/drive')"
      ],
      "execution_count": 19,
      "outputs": [
        {
          "output_type": "stream",
          "text": [
            "Drive already mounted at /content/drive; to attempt to forcibly remount, call drive.mount(\"/content/drive\", force_remount=True).\n"
          ],
          "name": "stdout"
        }
      ]
    },
    {
      "cell_type": "code",
      "metadata": {
        "id": "irChVjbrEdBN"
      },
      "source": [
        "#this code is inspired from this link: https://www.pyimagesearch.com/2019/06/03/fine-tuning-with-keras-and-deep-learning/"
      ],
      "execution_count": 20,
      "outputs": []
    },
    {
      "cell_type": "code",
      "metadata": {
        "id": "dnrlHOOA6fnU"
      },
      "source": [
        "# define and move to dataset directory\n",
        "import os\n",
        "# import the needed packages\n",
        "import matplotlib.pyplot as plt\n",
        "import matplotlib.image as img\n",
        "import tensorflow.keras as keras\n",
        "import numpy as np\n",
        "from keras import backend as K\n",
        "from keras.models import Sequential\n",
        "from keras.preprocessing.image import ImageDataGenerator\n",
        "from keras.layers import Conv2D, MaxPooling2D\n",
        "from sklearn.metrics import classification_report, confusion_matrix\n",
        "import matplotlib.pyplot as plt\n",
        "from keras.layers import Dense, Dropout, Activation, Flatten, BatchNormalization\n",
        "from datetime import datetime\n",
        "import itertools \n",
        "from tensorflow.keras.callbacks import EarlyStopping"
      ],
      "execution_count": 21,
      "outputs": []
    },
    {
      "cell_type": "code",
      "metadata": {
        "id": "4HQk9o8X6fnb"
      },
      "source": [
        "trainPath = '/content/drive/MyDrive/snake_background_CNN2/train'\n",
        "valPath = '/content/drive/MyDrive/snake_background_CNN2/valid'\n",
        "testPath = '/content/drive/MyDrive/snake_background_CNN2/test'"
      ],
      "execution_count": 22,
      "outputs": []
    },
    {
      "cell_type": "code",
      "metadata": {
        "id": "rImyDYgs6fnc"
      },
      "source": [
        "trainAug = ImageDataGenerator(\n",
        "    rotation_range=40,\n",
        "    zoom_range=0.3,\n",
        "    width_shift_range=0.2,\n",
        "    height_shift_range=0.2,\n",
        "    shear_range=0.15,\n",
        "    horizontal_flip=True,\n",
        "    fill_mode=\"nearest\")\n",
        "# initialize the validation/testing data augmentation object (which\n",
        "# we'll be adding mean subtraction to)\n",
        "valAug = ImageDataGenerator()\n",
        "# define the ImageNet mean subtraction (in RGB order) and set the\n",
        "# the mean subtraction value for each of the data augmentation\n",
        "# objects\n",
        "testAug=ImageDataGenerator()\n",
        "mean = np.array([123.68, 116.779, 103.939], dtype=\"float32\")\n",
        "trainAug.mean = mean\n",
        "valAug.mean = mean\n",
        "testAug.mean = mean"
      ],
      "execution_count": 23,
      "outputs": []
    },
    {
      "cell_type": "code",
      "metadata": {
        "colab": {
          "base_uri": "https://localhost:8080/"
        },
        "id": "iUyOR9BQ6fnc",
        "outputId": "3f10cb1d-65ab-4cee-c3c7-574049e2bd0a"
      },
      "source": [
        "# initialize the training generator\n",
        "batch_size = 32\n",
        "trainGen = trainAug.flow_from_directory(\n",
        "    trainPath,\n",
        "    class_mode=\"categorical\",\n",
        "    target_size=(224, 224),\n",
        "    color_mode=\"rgb\",\n",
        "    shuffle=True,\n",
        "    batch_size=batch_size)\n",
        "# initialize the validation generator\n",
        "valGen = valAug.flow_from_directory(\n",
        "    valPath,\n",
        "    class_mode=\"categorical\",\n",
        "    target_size=(224, 224),\n",
        "    color_mode=\"rgb\",\n",
        "    shuffle=False,\n",
        "    batch_size=batch_size)\n",
        "# initialize the testing generator\n",
        "testGen = testAug.flow_from_directory(\n",
        "    testPath,\n",
        "    class_mode=\"categorical\",\n",
        "    target_size=(224, 224),\n",
        "    color_mode=\"rgb\",\n",
        "    shuffle=False,\n",
        "    batch_size=batch_size)"
      ],
      "execution_count": 24,
      "outputs": [
        {
          "output_type": "stream",
          "text": [
            "Found 2572 images belonging to 2 classes.\n",
            "Found 501 images belonging to 2 classes.\n",
            "Found 200 images belonging to 2 classes.\n"
          ],
          "name": "stdout"
        }
      ]
    },
    {
      "cell_type": "code",
      "metadata": {
        "colab": {
          "base_uri": "https://localhost:8080/"
        },
        "id": "grVn1svT6fnd",
        "outputId": "ce61583d-2899-4982-dbae-26125bb20b11"
      },
      "source": [
        "# load the VGG16 network, ensuring the head FC layer sets are left\n",
        "# off\n",
        "#VGG16 = keras.applications.vgg16\n",
        "\n",
        "from keras.layers import Input\n",
        "from keras.applications import VGG16\n",
        "from keras.models import Model\n",
        "from keras.optimizers import SGD\n",
        "\n",
        "baseModel = VGG16(weights=\"imagenet\", include_top=False, input_tensor=Input(shape=(224, 224, 3)))\n",
        "# construct the head of the model that will be placed on top of the\n",
        "# the base model\n",
        "\n",
        "# Freeze four convolution blocks\n",
        "for layer in baseModel.layers:\n",
        "    layer.trainable = False\n",
        "    \n",
        "headModel = baseModel.output\n",
        "headModel = Flatten(name=\"flatten\")(headModel)\n",
        "headModel = Dense(256, activation=\"relu\")(headModel)\n",
        "headModel = Dropout(0.5)(headModel)\n",
        "#headModel = Dense(256, activation=\"relu\")(headModel)\n",
        "headModel = Dense(2, activation=\"softmax\")(headModel)\n",
        "# place the head FC model on top of the base model (this will become\n",
        "# the actual model we will train)\n",
        "model = Model(inputs=baseModel.input, outputs=headModel)\n",
        "\n",
        "model.summary() \n",
        "\n",
        "# Make sure you have frozen the correct layers\n",
        "for i, layer in enumerate(model.layers):\n",
        "    print(i, layer.name, layer.trainable)\n",
        "    "
      ],
      "execution_count": 25,
      "outputs": [
        {
          "output_type": "stream",
          "text": [
            "Model: \"model_2\"\n",
            "_________________________________________________________________\n",
            "Layer (type)                 Output Shape              Param #   \n",
            "=================================================================\n",
            "input_3 (InputLayer)         [(None, 224, 224, 3)]     0         \n",
            "_________________________________________________________________\n",
            "block1_conv1 (Conv2D)        (None, 224, 224, 64)      1792      \n",
            "_________________________________________________________________\n",
            "block1_conv2 (Conv2D)        (None, 224, 224, 64)      36928     \n",
            "_________________________________________________________________\n",
            "block1_pool (MaxPooling2D)   (None, 112, 112, 64)      0         \n",
            "_________________________________________________________________\n",
            "block2_conv1 (Conv2D)        (None, 112, 112, 128)     73856     \n",
            "_________________________________________________________________\n",
            "block2_conv2 (Conv2D)        (None, 112, 112, 128)     147584    \n",
            "_________________________________________________________________\n",
            "block2_pool (MaxPooling2D)   (None, 56, 56, 128)       0         \n",
            "_________________________________________________________________\n",
            "block3_conv1 (Conv2D)        (None, 56, 56, 256)       295168    \n",
            "_________________________________________________________________\n",
            "block3_conv2 (Conv2D)        (None, 56, 56, 256)       590080    \n",
            "_________________________________________________________________\n",
            "block3_conv3 (Conv2D)        (None, 56, 56, 256)       590080    \n",
            "_________________________________________________________________\n",
            "block3_pool (MaxPooling2D)   (None, 28, 28, 256)       0         \n",
            "_________________________________________________________________\n",
            "block4_conv1 (Conv2D)        (None, 28, 28, 512)       1180160   \n",
            "_________________________________________________________________\n",
            "block4_conv2 (Conv2D)        (None, 28, 28, 512)       2359808   \n",
            "_________________________________________________________________\n",
            "block4_conv3 (Conv2D)        (None, 28, 28, 512)       2359808   \n",
            "_________________________________________________________________\n",
            "block4_pool (MaxPooling2D)   (None, 14, 14, 512)       0         \n",
            "_________________________________________________________________\n",
            "block5_conv1 (Conv2D)        (None, 14, 14, 512)       2359808   \n",
            "_________________________________________________________________\n",
            "block5_conv2 (Conv2D)        (None, 14, 14, 512)       2359808   \n",
            "_________________________________________________________________\n",
            "block5_conv3 (Conv2D)        (None, 14, 14, 512)       2359808   \n",
            "_________________________________________________________________\n",
            "block5_pool (MaxPooling2D)   (None, 7, 7, 512)         0         \n",
            "_________________________________________________________________\n",
            "flatten (Flatten)            (None, 25088)             0         \n",
            "_________________________________________________________________\n",
            "dense_4 (Dense)              (None, 256)               6422784   \n",
            "_________________________________________________________________\n",
            "dropout_2 (Dropout)          (None, 256)               0         \n",
            "_________________________________________________________________\n",
            "dense_5 (Dense)              (None, 2)                 514       \n",
            "=================================================================\n",
            "Total params: 21,137,986\n",
            "Trainable params: 6,423,298\n",
            "Non-trainable params: 14,714,688\n",
            "_________________________________________________________________\n",
            "0 input_3 False\n",
            "1 block1_conv1 False\n",
            "2 block1_conv2 False\n",
            "3 block1_pool False\n",
            "4 block2_conv1 False\n",
            "5 block2_conv2 False\n",
            "6 block2_pool False\n",
            "7 block3_conv1 False\n",
            "8 block3_conv2 False\n",
            "9 block3_conv3 False\n",
            "10 block3_pool False\n",
            "11 block4_conv1 False\n",
            "12 block4_conv2 False\n",
            "13 block4_conv3 False\n",
            "14 block4_pool False\n",
            "15 block5_conv1 False\n",
            "16 block5_conv2 False\n",
            "17 block5_conv3 False\n",
            "18 block5_pool False\n",
            "19 flatten True\n",
            "20 dense_4 True\n",
            "21 dropout_2 True\n",
            "22 dense_5 True\n"
          ],
          "name": "stdout"
        }
      ]
    },
    {
      "cell_type": "code",
      "metadata": {
        "colab": {
          "base_uri": "https://localhost:8080/"
        },
        "id": "9F85mgpE6fne",
        "outputId": "6e3b9674-2363-4613-d87f-ee92d7fc98fd"
      },
      "source": [
        "# compile our model (this needs to be done after our setting our\n",
        "# layers to being non-trainable\n",
        "\n",
        "totalTrain=2572\n",
        "totalVal=501\n",
        "print(\"compiling model...\")\n",
        "opt = SGD(lr=1e-4, momentum=0.9)\n",
        "model.compile(loss=\"binary_crossentropy\", optimizer=opt,metrics=[\"acc\"])\n",
        "# train the head of the network for a few epochs (all other layers\n",
        "# are frozen) -- this will allow the new FC layers to start to become\n",
        "# initialized with actual \"learned\" values versus pure random\n",
        "print(\"training head...\")\n",
        "H = model.fit(\n",
        "    x=trainGen,\n",
        "    steps_per_epoch=totalTrain // batch_size,\n",
        "    validation_data=valGen,\n",
        "    validation_steps=totalVal // batch_size,\n",
        "    epochs=50)"
      ],
      "execution_count": 26,
      "outputs": [
        {
          "output_type": "stream",
          "text": [
            "compiling model...\n",
            "training head...\n",
            "Epoch 1/50\n",
            "80/80 [==============================] - 1512s 19s/step - loss: 4.1098 - acc: 0.6110 - val_loss: 1.0258 - val_acc: 0.6625\n",
            "Epoch 2/50\n",
            "80/80 [==============================] - 153s 2s/step - loss: 0.9509 - acc: 0.7124 - val_loss: 0.7035 - val_acc: 0.6896\n",
            "Epoch 3/50\n",
            "80/80 [==============================] - 149s 2s/step - loss: 0.5979 - acc: 0.7380 - val_loss: 0.5942 - val_acc: 0.7083\n",
            "Epoch 4/50\n",
            "80/80 [==============================] - 149s 2s/step - loss: 0.5754 - acc: 0.7289 - val_loss: 0.5450 - val_acc: 0.7396\n",
            "Epoch 5/50\n",
            "80/80 [==============================] - 148s 2s/step - loss: 0.5505 - acc: 0.7467 - val_loss: 0.5845 - val_acc: 0.7208\n",
            "Epoch 6/50\n",
            "80/80 [==============================] - 149s 2s/step - loss: 0.5440 - acc: 0.7500 - val_loss: 0.5907 - val_acc: 0.7083\n",
            "Epoch 7/50\n",
            "80/80 [==============================] - 149s 2s/step - loss: 0.5229 - acc: 0.7502 - val_loss: 0.5970 - val_acc: 0.7167\n",
            "Epoch 8/50\n",
            "80/80 [==============================] - 149s 2s/step - loss: 0.5070 - acc: 0.7526 - val_loss: 0.6035 - val_acc: 0.7104\n",
            "Epoch 9/50\n",
            "80/80 [==============================] - 149s 2s/step - loss: 0.5017 - acc: 0.7565 - val_loss: 0.5576 - val_acc: 0.7104\n",
            "Epoch 10/50\n",
            "80/80 [==============================] - 148s 2s/step - loss: 0.4466 - acc: 0.7949 - val_loss: 0.5299 - val_acc: 0.7458\n",
            "Epoch 11/50\n",
            "80/80 [==============================] - 148s 2s/step - loss: 0.4933 - acc: 0.7618 - val_loss: 0.4846 - val_acc: 0.7354\n",
            "Epoch 12/50\n",
            "80/80 [==============================] - 147s 2s/step - loss: 0.4748 - acc: 0.7756 - val_loss: 0.4665 - val_acc: 0.7771\n",
            "Epoch 13/50\n",
            "80/80 [==============================] - 147s 2s/step - loss: 0.4900 - acc: 0.7655 - val_loss: 0.5119 - val_acc: 0.7208\n",
            "Epoch 14/50\n",
            "80/80 [==============================] - 148s 2s/step - loss: 0.4421 - acc: 0.7804 - val_loss: 0.5503 - val_acc: 0.7167\n",
            "Epoch 15/50\n",
            "80/80 [==============================] - 147s 2s/step - loss: 0.4575 - acc: 0.7905 - val_loss: 0.4577 - val_acc: 0.7604\n",
            "Epoch 16/50\n",
            "80/80 [==============================] - 148s 2s/step - loss: 0.4245 - acc: 0.8119 - val_loss: 0.5272 - val_acc: 0.7271\n",
            "Epoch 17/50\n",
            "80/80 [==============================] - 148s 2s/step - loss: 0.4333 - acc: 0.7903 - val_loss: 0.4518 - val_acc: 0.7688\n",
            "Epoch 18/50\n",
            "80/80 [==============================] - 147s 2s/step - loss: 0.4297 - acc: 0.7998 - val_loss: 0.4328 - val_acc: 0.7812\n",
            "Epoch 19/50\n",
            "80/80 [==============================] - 148s 2s/step - loss: 0.4219 - acc: 0.8007 - val_loss: 0.4891 - val_acc: 0.7333\n",
            "Epoch 20/50\n",
            "80/80 [==============================] - 149s 2s/step - loss: 0.4305 - acc: 0.8062 - val_loss: 0.4171 - val_acc: 0.8000\n",
            "Epoch 21/50\n",
            "80/80 [==============================] - 147s 2s/step - loss: 0.4231 - acc: 0.7934 - val_loss: 0.4355 - val_acc: 0.7667\n",
            "Epoch 22/50\n",
            "80/80 [==============================] - 148s 2s/step - loss: 0.3971 - acc: 0.8106 - val_loss: 0.4529 - val_acc: 0.7521\n",
            "Epoch 23/50\n",
            "80/80 [==============================] - 147s 2s/step - loss: 0.4020 - acc: 0.8169 - val_loss: 0.3869 - val_acc: 0.8083\n",
            "Epoch 24/50\n",
            "80/80 [==============================] - 147s 2s/step - loss: 0.4299 - acc: 0.8087 - val_loss: 0.3742 - val_acc: 0.8062\n",
            "Epoch 25/50\n",
            "80/80 [==============================] - 148s 2s/step - loss: 0.3808 - acc: 0.8218 - val_loss: 0.4366 - val_acc: 0.7708\n",
            "Epoch 26/50\n",
            "80/80 [==============================] - 148s 2s/step - loss: 0.4086 - acc: 0.8088 - val_loss: 0.4194 - val_acc: 0.7833\n",
            "Epoch 27/50\n",
            "80/80 [==============================] - 147s 2s/step - loss: 0.3546 - acc: 0.8377 - val_loss: 0.4024 - val_acc: 0.7979\n",
            "Epoch 28/50\n",
            "80/80 [==============================] - 148s 2s/step - loss: 0.3948 - acc: 0.8082 - val_loss: 0.4118 - val_acc: 0.8021\n",
            "Epoch 29/50\n",
            "80/80 [==============================] - 149s 2s/step - loss: 0.3964 - acc: 0.8177 - val_loss: 0.4013 - val_acc: 0.8083\n",
            "Epoch 30/50\n",
            "80/80 [==============================] - 148s 2s/step - loss: 0.3486 - acc: 0.8395 - val_loss: 0.4196 - val_acc: 0.7937\n",
            "Epoch 31/50\n",
            "80/80 [==============================] - 148s 2s/step - loss: 0.3619 - acc: 0.8199 - val_loss: 0.4208 - val_acc: 0.7750\n",
            "Epoch 32/50\n",
            "80/80 [==============================] - 148s 2s/step - loss: 0.3850 - acc: 0.8219 - val_loss: 0.3668 - val_acc: 0.8208\n",
            "Epoch 33/50\n",
            "80/80 [==============================] - 148s 2s/step - loss: 0.3623 - acc: 0.8239 - val_loss: 0.3705 - val_acc: 0.8229\n",
            "Epoch 34/50\n",
            "80/80 [==============================] - 148s 2s/step - loss: 0.3632 - acc: 0.8224 - val_loss: 0.4033 - val_acc: 0.8125\n",
            "Epoch 35/50\n",
            "80/80 [==============================] - 148s 2s/step - loss: 0.3720 - acc: 0.8333 - val_loss: 0.4639 - val_acc: 0.7792\n",
            "Epoch 36/50\n",
            "80/80 [==============================] - 148s 2s/step - loss: 0.3562 - acc: 0.8445 - val_loss: 0.4237 - val_acc: 0.7937\n",
            "Epoch 37/50\n",
            "80/80 [==============================] - 148s 2s/step - loss: 0.3430 - acc: 0.8501 - val_loss: 0.4625 - val_acc: 0.7688\n",
            "Epoch 38/50\n",
            "80/80 [==============================] - 149s 2s/step - loss: 0.3648 - acc: 0.8272 - val_loss: 0.4354 - val_acc: 0.7937\n",
            "Epoch 39/50\n",
            "80/80 [==============================] - 147s 2s/step - loss: 0.3496 - acc: 0.8359 - val_loss: 0.4258 - val_acc: 0.7958\n",
            "Epoch 40/50\n",
            "80/80 [==============================] - 150s 2s/step - loss: 0.3343 - acc: 0.8533 - val_loss: 0.5562 - val_acc: 0.7375\n",
            "Epoch 41/50\n",
            "80/80 [==============================] - 147s 2s/step - loss: 0.3600 - acc: 0.8328 - val_loss: 0.4513 - val_acc: 0.7812\n",
            "Epoch 42/50\n",
            "80/80 [==============================] - 147s 2s/step - loss: 0.3723 - acc: 0.8340 - val_loss: 0.4680 - val_acc: 0.7833\n",
            "Epoch 43/50\n",
            "80/80 [==============================] - 147s 2s/step - loss: 0.3359 - acc: 0.8493 - val_loss: 0.4717 - val_acc: 0.7917\n",
            "Epoch 44/50\n",
            "80/80 [==============================] - 147s 2s/step - loss: 0.3617 - acc: 0.8351 - val_loss: 0.3816 - val_acc: 0.8146\n",
            "Epoch 45/50\n",
            "80/80 [==============================] - 148s 2s/step - loss: 0.3257 - acc: 0.8527 - val_loss: 0.4117 - val_acc: 0.8000\n",
            "Epoch 46/50\n",
            "80/80 [==============================] - 149s 2s/step - loss: 0.3258 - acc: 0.8428 - val_loss: 0.3747 - val_acc: 0.8208\n",
            "Epoch 47/50\n",
            "80/80 [==============================] - 147s 2s/step - loss: 0.3406 - acc: 0.8520 - val_loss: 0.3925 - val_acc: 0.8062\n",
            "Epoch 48/50\n",
            "80/80 [==============================] - 147s 2s/step - loss: 0.3312 - acc: 0.8505 - val_loss: 0.3654 - val_acc: 0.8208\n",
            "Epoch 49/50\n",
            "80/80 [==============================] - 147s 2s/step - loss: 0.3072 - acc: 0.8571 - val_loss: 0.4055 - val_acc: 0.8042\n",
            "Epoch 50/50\n",
            "80/80 [==============================] - 147s 2s/step - loss: 0.3334 - acc: 0.8475 - val_loss: 0.3741 - val_acc: 0.8188\n"
          ],
          "name": "stdout"
        }
      ]
    },
    {
      "cell_type": "code",
      "metadata": {
        "id": "vtplowoW6fne",
        "colab": {
          "base_uri": "https://localhost:8080/"
        },
        "outputId": "87e43558-6e48-4ec8-b422-0c526b4fec23"
      },
      "source": [
        "target_names = []\n",
        "for key in trainGen.class_indices:\n",
        "    target_names.append(key)\n",
        "    \n",
        "print(target_names)\n"
      ],
      "execution_count": 27,
      "outputs": [
        {
          "output_type": "stream",
          "text": [
            "['background', 'snake']\n"
          ],
          "name": "stdout"
        }
      ]
    },
    {
      "cell_type": "code",
      "metadata": {
        "id": "9fv7cPST6fnf",
        "colab": {
          "base_uri": "https://localhost:8080/",
          "height": 573
        },
        "outputId": "9cc2d253-9c32-4d8a-d3c2-80d235ff0901"
      },
      "source": [
        "############################################\n",
        "#Plot the Graph\n",
        "\n",
        "acc = H.history['acc']\n",
        "val_acc = H.history['val_acc']\n",
        "loss = H.history['loss']\n",
        "val_loss = H.history['val_loss']\n",
        "epochs = range(1, len(acc) + 1)\n",
        "\n",
        "# Accuracy Curves\n",
        "\n",
        "plt.figure(1)\n",
        "# summarize history for accuracy\n",
        "plt.plot(H.history['acc'])\n",
        "plt.plot(H.history['val_acc'])\n",
        "plt.title('model accuracy of snake Vs Backgroud')\n",
        "plt.ylabel('accuracy')\n",
        "plt.xlabel('epoch')\n",
        "plt.legend(['train', 'validation'], loc='best')\n",
        "plt.savefig('acc.png')\n",
        "plt.show()\n",
        "\n",
        "plt.figure(2)\n",
        "# summarize history for loss\n",
        "plt.plot(H.history['loss'])\n",
        "plt.plot(H.history['val_loss'])\n",
        "plt.title('model loss of snake Vs Backgroud')\n",
        "plt.ylabel('loss')\n",
        "plt.xlabel('epoch')\n",
        "plt.legend(['train', 'validation'], loc='best')\n",
        "plt.savefig('loss.png')\n",
        "plt.show()"
      ],
      "execution_count": 28,
      "outputs": [
        {
          "output_type": "display_data",
          "data": {
            "image/png": "[encoded data removed]",
            "text/plain": [
              "<Figure size 432x288 with 1 Axes>"
            ]
          },
          "metadata": {
            "tags": [],
            "needs_background": "light"
          }
        },
        {
          "output_type": "display_data",
          "data": {
            "image/png": "[encoded data removed]",
            "text/plain": [
              "<Figure size 432x288 with 1 Axes>"
            ]
          },
          "metadata": {
            "tags": [],
            "needs_background": "light"
          }
        }
      ]
    },
    {
      "cell_type": "code",
      "metadata": {
        "id": "ptPpnqCh6fnf",
        "colab": {
          "base_uri": "https://localhost:8080/"
        },
        "outputId": "7fcc9043-198a-4f55-e65c-b2caa5b0039d"
      },
      "source": [
        "# reset the testing generator and evaluate the network after\n",
        "# fine-tuning just the network head\n",
        "print(\"evaluating after fine-tuning network head...\")\n",
        "\n",
        "totalTest=200\n",
        "testGen.reset()\n",
        "predIdxs = model.predict(x=testGen, steps=(totalTest // batch_size) + 1)\n",
        "predIdxs = np.argmax(predIdxs, axis=1)\n",
        "print(classification_report(testGen.classes, predIdxs,\n",
        "    target_names=testGen.class_indices.keys()))"
      ],
      "execution_count": 29,
      "outputs": [
        {
          "output_type": "stream",
          "text": [
            "evaluating after fine-tuning network head...\n",
            "              precision    recall  f1-score   support\n",
            "\n",
            "  background       0.85      0.71      0.77       100\n",
            "       snake       0.75      0.87      0.81       100\n",
            "\n",
            "    accuracy                           0.79       200\n",
            "   macro avg       0.80      0.79      0.79       200\n",
            "weighted avg       0.80      0.79      0.79       200\n",
            "\n"
          ],
          "name": "stdout"
        }
      ]
    },
    {
      "cell_type": "code",
      "metadata": {
        "id": "KDyxk1Ry6fng",
        "colab": {
          "base_uri": "https://localhost:8080/",
          "height": 313
        },
        "outputId": "bf45781b-b6a0-4f78-9994-1777da7f8a45"
      },
      "source": [
        "def plot_confusion_matrix(cm, classes, normalize=False, title='Confusion matrix of snake Vs background', cmap=plt.cm.Blues):\n",
        "    \"\"\"\n",
        "    This function prints and plots the confusion matrix.\n",
        "    Normalization can be applied by setting `normalize=True`.\n",
        "    \"\"\"\n",
        "    #plt.figure(figsize=(8,8))\n",
        "\n",
        "    plt.imshow(cm, interpolation='nearest', cmap=cmap)\n",
        "    plt.title(title)\n",
        "    #plt.colorbar()\n",
        "\n",
        "    tick_marks = np.arange(len(classes))\n",
        "    plt.xticks(tick_marks, classes)\n",
        "    plt.yticks(tick_marks, classes)\n",
        "\n",
        "    if normalize:\n",
        "        cm = cm.astype('float') / cm.sum(axis=1)[:, np.newaxis]\n",
        "        cm = np.around(cm, decimals=2)\n",
        "        cm[np.isnan(cm)] = 0.0\n",
        "        print(\"Normalized confusion matrix\")\n",
        "    else:\n",
        "        print('Confusion matrix, without normalization')\n",
        "    thresh = cm.max() / 2.\n",
        "    for i, j in itertools.product(range(cm.shape[0]), range(cm.shape[1])):\n",
        "        plt.text(j, i, cm[i, j],\n",
        "                 horizontalalignment=\"center\",\n",
        "                 color=\"white\" if cm[i, j] > thresh else \"black\")\n",
        "    #plt.tight_layout()\n",
        "    plt.ylabel('True label')\n",
        "    plt.xlabel('Predicted label')\n",
        "   \n",
        "\n",
        "#thresh = cm.max() / 2.\n",
        "#Matplotlib’s matshow\n",
        "cm = confusion_matrix(testGen.classes, predIdxs)\n",
        "\n",
        "plt.figure(3)\n",
        "plot_confusion_matrix(cm, target_names, title='Confusion matrix of snake Vs Backgroud')\n",
        "#print(cm)\n",
        "plt.savefig('snake_VGG16.png')\n",
        "plt.show()"
      ],
      "execution_count": 30,
      "outputs": [
        {
          "output_type": "stream",
          "text": [
            "Confusion matrix, without normalization\n"
          ],
          "name": "stdout"
        },
        {
          "output_type": "display_data",
          "data": {
            "image/png": "[encoded data removed]",
            "text/plain": [
              "<Figure size 432x288 with 1 Axes>"
            ]
          },
          "metadata": {
            "tags": [],
            "needs_background": "light"
          }
        }
      ]
    },
    {
      "cell_type": "code",
      "metadata": {
        "id": "spmBp5tG6fnh"
      },
      "source": [
        ""
      ],
      "execution_count": 30,
      "outputs": []
    }
  ]
}