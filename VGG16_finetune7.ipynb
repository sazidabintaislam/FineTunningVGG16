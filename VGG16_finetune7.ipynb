{
  "nbformat": 4,
  "nbformat_minor": 0,
  "metadata": {
    "accelerator": "GPU",
    "colab": {
      "name": "VGG16_finetune7.ipynb",
      "provenance": [],
      "collapsed_sections": [],
      "include_colab_link": true
    },
    "kernelspec": {
      "display_name": "Python 3",
      "language": "python",
      "name": "python3"
    },
    "language_info": {
      "codemirror_mode": {
        "name": "ipython",
        "version": 3
      },
      "file_extension": ".py",
      "mimetype": "text/x-python",
      "name": "python",
      "nbconvert_exporter": "python",
      "pygments_lexer": "ipython3",
      "version": "3.8.5"
    }
  },
  "cells": [
    {
      "cell_type": "markdown",
      "metadata": {
        "id": "view-in-github",
        "colab_type": "text"
      },
      "source": [
        "<a href=\"https://colab.research.google.com/github/sazidabintaislam/FineTunningVGG16/blob/main/VGG16_finetune7.ipynb\" target=\"_parent\"><img src=\"https://colab.research.google.com/assets/colab-badge.svg\" alt=\"Open In Colab\"/></a>"
      ]
    },
    {
      "cell_type": "code",
      "metadata": {
        "colab": {
          "base_uri": "https://localhost:8080/"
        },
        "id": "WBFTCDlpLz1r",
        "outputId": "3f98fe7d-ef4d-41e3-957a-71911a78a88b"
      },
      "source": [
        "from google.colab import drive\n",
        "drive.mount('/content/drive')"
      ],
      "execution_count": null,
      "outputs": [
        {
          "output_type": "stream",
          "text": [
            "Mounted at /content/drive\n"
          ],
          "name": "stdout"
        }
      ]
    },
    {
      "cell_type": "code",
      "metadata": {
        "id": "irChVjbrEdBN"
      },
      "source": [
        "#this code is inspired from this link: https://www.pyimagesearch.com/2019/06/03/fine-tuning-with-keras-and-deep-learning/"
      ],
      "execution_count": null,
      "outputs": []
    },
    {
      "cell_type": "code",
      "metadata": {
        "id": "dnrlHOOA6fnU"
      },
      "source": [
        "# define and move to dataset directory\n",
        "import os\n",
        "# import the needed packages\n",
        "import matplotlib.pyplot as plt\n",
        "import matplotlib.image as img\n",
        "import tensorflow.keras as keras\n",
        "import numpy as np\n",
        "from keras import backend as K\n",
        "from keras.models import Sequential\n",
        "from keras.preprocessing.image import ImageDataGenerator\n",
        "from keras.layers import Conv2D, MaxPooling2D\n",
        "from sklearn.metrics import classification_report, confusion_matrix\n",
        "import matplotlib.pyplot as plt\n",
        "from keras.layers import Dense, Dropout, Activation, Flatten, BatchNormalization\n",
        "from datetime import datetime\n",
        "import itertools \n",
        "from tensorflow.keras.callbacks import EarlyStopping"
      ],
      "execution_count": null,
      "outputs": []
    },
    {
      "cell_type": "code",
      "metadata": {
        "id": "4HQk9o8X6fnb"
      },
      "source": [
        "trainPath = '/content/drive/MyDrive/snake_background_CNN2/train'\n",
        "valPath = '/content/drive/MyDrive/snake_background_CNN2/valid'\n",
        "testPath = '/content/drive/MyDrive/snake_background_CNN2/test'"
      ],
      "execution_count": null,
      "outputs": []
    },
    {
      "cell_type": "code",
      "metadata": {
        "id": "rImyDYgs6fnc"
      },
      "source": [
        "trainAug = ImageDataGenerator(\n",
        "    rotation_range=40,\n",
        "    zoom_range=0.30,\n",
        "    width_shift_range=0.2,\n",
        "    height_shift_range=0.2,\n",
        "    shear_range=0.15,\n",
        "    horizontal_flip=True,\n",
        "    fill_mode=\"nearest\")\n",
        "# initialize the validation/testing data augmentation object (which\n",
        "# we'll be adding mean subtraction to)\n",
        "valAug = ImageDataGenerator()\n",
        "# define the ImageNet mean subtraction (in RGB order) and set the\n",
        "# the mean subtraction value for each of the data augmentation\n",
        "# objects\n",
        "testAug=ImageDataGenerator()\n",
        "mean = np.array([123.68, 116.779, 103.939], dtype=\"float32\")\n",
        "trainAug.mean = mean\n",
        "valAug.mean = mean\n",
        "testAug.mean = mean"
      ],
      "execution_count": null,
      "outputs": []
    },
    {
      "cell_type": "code",
      "metadata": {
        "colab": {
          "base_uri": "https://localhost:8080/"
        },
        "id": "iUyOR9BQ6fnc",
        "outputId": "14d4f74f-b0eb-4c65-cf8e-e447c9de23ef"
      },
      "source": [
        "# initialize the training generator\n",
        "batch_size = 32\n",
        "trainGen = trainAug.flow_from_directory(\n",
        "    trainPath,\n",
        "    class_mode=\"categorical\",\n",
        "    target_size=(224, 224),\n",
        "    color_mode=\"rgb\",\n",
        "    shuffle=True,\n",
        "    batch_size=batch_size)\n",
        "# initialize the validation generator\n",
        "valGen = valAug.flow_from_directory(\n",
        "    valPath,\n",
        "    class_mode=\"categorical\",\n",
        "    target_size=(224, 224),\n",
        "    color_mode=\"rgb\",\n",
        "    shuffle=False,\n",
        "    batch_size=batch_size)\n",
        "# initialize the testing generator\n",
        "testGen = testAug.flow_from_directory(\n",
        "    testPath,\n",
        "    class_mode=\"categorical\",\n",
        "    target_size=(224, 224),\n",
        "    color_mode=\"rgb\",\n",
        "    shuffle=False,\n",
        "    batch_size=batch_size)"
      ],
      "execution_count": null,
      "outputs": [
        {
          "output_type": "stream",
          "text": [
            "Found 2572 images belonging to 2 classes.\n",
            "Found 501 images belonging to 2 classes.\n",
            "Found 200 images belonging to 2 classes.\n"
          ],
          "name": "stdout"
        }
      ]
    },
    {
      "cell_type": "code",
      "metadata": {
        "colab": {
          "base_uri": "https://localhost:8080/"
        },
        "id": "grVn1svT6fnd",
        "outputId": "0e5ceec6-3949-438f-faf1-56d56fff77f7"
      },
      "source": [
        "# load the VGG16 network, ensuring the head FC layer sets are left\n",
        "# off\n",
        "#VGG16 = keras.applications.vgg16\n",
        "\n",
        "from keras.layers import Input\n",
        "from keras.applications import VGG16\n",
        "from keras.models import Model\n",
        "from keras.optimizers import Adam\n",
        "\n",
        "baseModel = VGG16(weights=\"imagenet\", include_top=False, input_tensor=Input(shape=(224, 224, 3)))\n",
        "# construct the head of the model that will be placed on top of the\n",
        "# the base model\n",
        "\n",
        "# Freeze four convolution blocks\n",
        "for layer in baseModel.layers[:11]:\n",
        "    layer.trainable = False\n",
        "    \n",
        "headModel = baseModel.output\n",
        "headModel = Flatten(name=\"flatten\")(headModel)\n",
        "#headModel = Dense(512, activation=\"relu\")(headModel)\n",
        "#headModel = Dropout(0.5)(headModel)\n",
        "headModel = Dense(256, activation=\"relu\")(headModel)\n",
        "headModel = Dropout(0.5)(headModel)\n",
        "headModel = Dense(2, activation=\"softmax\")(headModel)\n",
        "# place the head FC model on top of the base model (this will become\n",
        "# the actual model we will train)\n",
        "model = Model(inputs=baseModel.input, outputs=headModel)\n",
        "\n",
        "model.summary() \n",
        "\n",
        "# Make sure you have frozen the correct layers\n",
        "for i, layer in enumerate(model.layers):\n",
        "    print(i, layer.name, layer.trainable)\n",
        "    "
      ],
      "execution_count": null,
      "outputs": [
        {
          "output_type": "stream",
          "text": [
            "Downloading data from https://storage.googleapis.com/tensorflow/keras-applications/vgg16/vgg16_weights_tf_dim_ordering_tf_kernels_notop.h5\n",
            "58892288/58889256 [==============================] - 0s 0us/step\n",
            "Model: \"model\"\n",
            "_________________________________________________________________\n",
            "Layer (type)                 Output Shape              Param #   \n",
            "=================================================================\n",
            "input_1 (InputLayer)         [(None, 224, 224, 3)]     0         \n",
            "_________________________________________________________________\n",
            "block1_conv1 (Conv2D)        (None, 224, 224, 64)      1792      \n",
            "_________________________________________________________________\n",
            "block1_conv2 (Conv2D)        (None, 224, 224, 64)      36928     \n",
            "_________________________________________________________________\n",
            "block1_pool (MaxPooling2D)   (None, 112, 112, 64)      0         \n",
            "_________________________________________________________________\n",
            "block2_conv1 (Conv2D)        (None, 112, 112, 128)     73856     \n",
            "_________________________________________________________________\n",
            "block2_conv2 (Conv2D)        (None, 112, 112, 128)     147584    \n",
            "_________________________________________________________________\n",
            "block2_pool (MaxPooling2D)   (None, 56, 56, 128)       0         \n",
            "_________________________________________________________________\n",
            "block3_conv1 (Conv2D)        (None, 56, 56, 256)       295168    \n",
            "_________________________________________________________________\n",
            "block3_conv2 (Conv2D)        (None, 56, 56, 256)       590080    \n",
            "_________________________________________________________________\n",
            "block3_conv3 (Conv2D)        (None, 56, 56, 256)       590080    \n",
            "_________________________________________________________________\n",
            "block3_pool (MaxPooling2D)   (None, 28, 28, 256)       0         \n",
            "_________________________________________________________________\n",
            "block4_conv1 (Conv2D)        (None, 28, 28, 512)       1180160   \n",
            "_________________________________________________________________\n",
            "block4_conv2 (Conv2D)        (None, 28, 28, 512)       2359808   \n",
            "_________________________________________________________________\n",
            "block4_conv3 (Conv2D)        (None, 28, 28, 512)       2359808   \n",
            "_________________________________________________________________\n",
            "block4_pool (MaxPooling2D)   (None, 14, 14, 512)       0         \n",
            "_________________________________________________________________\n",
            "block5_conv1 (Conv2D)        (None, 14, 14, 512)       2359808   \n",
            "_________________________________________________________________\n",
            "block5_conv2 (Conv2D)        (None, 14, 14, 512)       2359808   \n",
            "_________________________________________________________________\n",
            "block5_conv3 (Conv2D)        (None, 14, 14, 512)       2359808   \n",
            "_________________________________________________________________\n",
            "block5_pool (MaxPooling2D)   (None, 7, 7, 512)         0         \n",
            "_________________________________________________________________\n",
            "flatten (Flatten)            (None, 25088)             0         \n",
            "_________________________________________________________________\n",
            "dense (Dense)                (None, 256)               6422784   \n",
            "_________________________________________________________________\n",
            "dropout (Dropout)            (None, 256)               0         \n",
            "_________________________________________________________________\n",
            "dense_1 (Dense)              (None, 2)                 514       \n",
            "=================================================================\n",
            "Total params: 21,137,986\n",
            "Trainable params: 19,402,498\n",
            "Non-trainable params: 1,735,488\n",
            "_________________________________________________________________\n",
            "0 input_1 False\n",
            "1 block1_conv1 False\n",
            "2 block1_conv2 False\n",
            "3 block1_pool False\n",
            "4 block2_conv1 False\n",
            "5 block2_conv2 False\n",
            "6 block2_pool False\n",
            "7 block3_conv1 False\n",
            "8 block3_conv2 False\n",
            "9 block3_conv3 False\n",
            "10 block3_pool False\n",
            "11 block4_conv1 True\n",
            "12 block4_conv2 True\n",
            "13 block4_conv3 True\n",
            "14 block4_pool True\n",
            "15 block5_conv1 True\n",
            "16 block5_conv2 True\n",
            "17 block5_conv3 True\n",
            "18 block5_pool True\n",
            "19 flatten True\n",
            "20 dense True\n",
            "21 dropout True\n",
            "22 dense_1 True\n"
          ],
          "name": "stdout"
        }
      ]
    },
    {
      "cell_type": "code",
      "metadata": {
        "colab": {
          "background_save": true,
          "base_uri": "https://localhost:8080/"
        },
        "id": "9F85mgpE6fne",
        "outputId": "251823d7-9ec9-4f7e-831d-630c7341b319"
      },
      "source": [
        "# compile our model (this needs to be done after our setting our\n",
        "# layers to being non-trainable\n",
        "\n",
        "totalTrain=2572\n",
        "totalVal=501\n",
        "print(\"compiling model...\")\n",
        "#opt = SGD(lr=1e-4, momentum=0.9)\n",
        "opt = Adam(learning_rate=0.0001)\n",
        "model.compile(loss=\"binary_crossentropy\", optimizer=opt,metrics=[\"acc\"])\n",
        "# train the head of the network for a few epochs (all other layers\n",
        "# are frozen) -- this will allow the new FC layers to start to become\n",
        "# initialized with actual \"learned\" values versus pure random\n",
        "print(\"training head...\")\n",
        "H = model.fit(\n",
        "    x=trainGen,\n",
        "    steps_per_epoch=totalTrain // batch_size,\n",
        "    validation_data=valGen,\n",
        "    validation_steps=totalVal // batch_size,\n",
        "    epochs=50)"
      ],
      "execution_count": null,
      "outputs": [
        {
          "output_type": "stream",
          "text": [
            "compiling model...\n",
            "training head...\n",
            "Epoch 1/50\n",
            "80/80 [==============================] - 2259s 28s/step - loss: 1.5870 - acc: 0.5232 - val_loss: 0.6506 - val_acc: 0.5979\n",
            "Epoch 2/50\n",
            "80/80 [==============================] - 170s 2s/step - loss: 0.6036 - acc: 0.6521 - val_loss: 0.9306 - val_acc: 0.4917\n",
            "Epoch 3/50\n",
            "80/80 [==============================] - 169s 2s/step - loss: 0.5265 - acc: 0.7134 - val_loss: 0.5400 - val_acc: 0.7417\n",
            "Epoch 4/50\n",
            "80/80 [==============================] - 170s 2s/step - loss: 0.5315 - acc: 0.7305 - val_loss: 0.5178 - val_acc: 0.7250\n",
            "Epoch 5/50\n",
            "80/80 [==============================] - 170s 2s/step - loss: 0.4491 - acc: 0.7792 - val_loss: 0.6064 - val_acc: 0.7229\n",
            "Epoch 6/50\n",
            "80/80 [==============================] - 169s 2s/step - loss: 0.4104 - acc: 0.8227 - val_loss: 0.6624 - val_acc: 0.6458\n",
            "Epoch 7/50\n",
            "80/80 [==============================] - 168s 2s/step - loss: 0.4398 - acc: 0.7954 - val_loss: 0.4396 - val_acc: 0.8604\n",
            "Epoch 8/50\n",
            "80/80 [==============================] - 168s 2s/step - loss: 0.3861 - acc: 0.8214 - val_loss: 0.3767 - val_acc: 0.8375\n",
            "Epoch 9/50\n",
            "80/80 [==============================] - 167s 2s/step - loss: 0.3407 - acc: 0.8557 - val_loss: 0.3966 - val_acc: 0.8500\n",
            "Epoch 10/50\n",
            "80/80 [==============================] - 168s 2s/step - loss: 0.2750 - acc: 0.8932 - val_loss: 0.2629 - val_acc: 0.8854\n",
            "Epoch 11/50\n",
            "80/80 [==============================] - 168s 2s/step - loss: 0.2603 - acc: 0.8914 - val_loss: 0.3122 - val_acc: 0.8854\n",
            "Epoch 12/50\n",
            "80/80 [==============================] - 169s 2s/step - loss: 0.2485 - acc: 0.9006 - val_loss: 0.4339 - val_acc: 0.8083\n",
            "Epoch 13/50\n",
            "80/80 [==============================] - 169s 2s/step - loss: 0.2089 - acc: 0.9098 - val_loss: 0.2068 - val_acc: 0.9208\n",
            "Epoch 14/50\n",
            "80/80 [==============================] - 168s 2s/step - loss: 0.2575 - acc: 0.8897 - val_loss: 0.2118 - val_acc: 0.8979\n",
            "Epoch 15/50\n",
            "80/80 [==============================] - 168s 2s/step - loss: 0.1928 - acc: 0.9222 - val_loss: 0.2692 - val_acc: 0.8813\n",
            "Epoch 16/50\n",
            "80/80 [==============================] - 168s 2s/step - loss: 0.1949 - acc: 0.9179 - val_loss: 0.1967 - val_acc: 0.9292\n",
            "Epoch 17/50\n",
            "80/80 [==============================] - 170s 2s/step - loss: 0.1552 - acc: 0.9439 - val_loss: 0.1792 - val_acc: 0.9208\n",
            "Epoch 18/50\n",
            "80/80 [==============================] - 169s 2s/step - loss: 0.1644 - acc: 0.9328 - val_loss: 0.2285 - val_acc: 0.9000\n",
            "Epoch 19/50\n",
            "80/80 [==============================] - 168s 2s/step - loss: 0.1658 - acc: 0.9341 - val_loss: 0.1245 - val_acc: 0.9583\n",
            "Epoch 20/50\n",
            "80/80 [==============================] - 168s 2s/step - loss: 0.1404 - acc: 0.9476 - val_loss: 0.1771 - val_acc: 0.9354\n",
            "Epoch 21/50\n",
            "80/80 [==============================] - 168s 2s/step - loss: 0.1453 - acc: 0.9327 - val_loss: 0.1901 - val_acc: 0.9417\n",
            "Epoch 22/50\n",
            "80/80 [==============================] - 168s 2s/step - loss: 0.1259 - acc: 0.9545 - val_loss: 0.1472 - val_acc: 0.9417\n",
            "Epoch 23/50\n",
            "80/80 [==============================] - 168s 2s/step - loss: 0.1361 - acc: 0.9547 - val_loss: 0.1571 - val_acc: 0.9375\n",
            "Epoch 24/50\n",
            "80/80 [==============================] - 169s 2s/step - loss: 0.1413 - acc: 0.9487 - val_loss: 0.1249 - val_acc: 0.9479\n",
            "Epoch 25/50\n",
            "80/80 [==============================] - 169s 2s/step - loss: 0.1138 - acc: 0.9630 - val_loss: 0.1008 - val_acc: 0.9625\n",
            "Epoch 26/50\n",
            "80/80 [==============================] - 168s 2s/step - loss: 0.1108 - acc: 0.9609 - val_loss: 0.0708 - val_acc: 0.9771\n",
            "Epoch 27/50\n",
            "80/80 [==============================] - 168s 2s/step - loss: 0.0929 - acc: 0.9645 - val_loss: 0.1343 - val_acc: 0.9479\n",
            "Epoch 28/50\n",
            "80/80 [==============================] - 167s 2s/step - loss: 0.1222 - acc: 0.9545 - val_loss: 0.0862 - val_acc: 0.9646\n",
            "Epoch 29/50\n",
            "80/80 [==============================] - 167s 2s/step - loss: 0.0800 - acc: 0.9722 - val_loss: 0.1187 - val_acc: 0.9458\n",
            "Epoch 30/50\n",
            "80/80 [==============================] - 168s 2s/step - loss: 0.1164 - acc: 0.9528 - val_loss: 0.0872 - val_acc: 0.9563\n",
            "Epoch 31/50\n",
            "80/80 [==============================] - 167s 2s/step - loss: 0.1046 - acc: 0.9573 - val_loss: 0.0597 - val_acc: 0.9812\n",
            "Epoch 32/50\n",
            "80/80 [==============================] - 167s 2s/step - loss: 0.0885 - acc: 0.9687 - val_loss: 0.0364 - val_acc: 0.9833\n",
            "Epoch 33/50\n",
            "80/80 [==============================] - 167s 2s/step - loss: 0.0952 - acc: 0.9663 - val_loss: 0.0311 - val_acc: 0.9875\n",
            "Epoch 34/50\n",
            "80/80 [==============================] - 167s 2s/step - loss: 0.1069 - acc: 0.9660 - val_loss: 0.0661 - val_acc: 0.9729\n",
            "Epoch 35/50\n",
            "80/80 [==============================] - 168s 2s/step - loss: 0.0735 - acc: 0.9718 - val_loss: 0.1081 - val_acc: 0.9583\n",
            "Epoch 36/50\n",
            "80/80 [==============================] - 167s 2s/step - loss: 0.0616 - acc: 0.9809 - val_loss: 0.1601 - val_acc: 0.9417\n",
            "Epoch 37/50\n",
            "80/80 [==============================] - 167s 2s/step - loss: 0.1035 - acc: 0.9642 - val_loss: 0.0813 - val_acc: 0.9729\n",
            "Epoch 38/50\n",
            "80/80 [==============================] - 166s 2s/step - loss: 0.0749 - acc: 0.9752 - val_loss: 0.0331 - val_acc: 0.9854\n",
            "Epoch 39/50\n",
            "80/80 [==============================] - 167s 2s/step - loss: 0.0578 - acc: 0.9799 - val_loss: 0.0554 - val_acc: 0.9812\n",
            "Epoch 40/50\n",
            "80/80 [==============================] - 167s 2s/step - loss: 0.1019 - acc: 0.9601 - val_loss: 0.0757 - val_acc: 0.9688\n",
            "Epoch 41/50\n",
            "80/80 [==============================] - 167s 2s/step - loss: 0.0984 - acc: 0.9704 - val_loss: 0.0858 - val_acc: 0.9646\n",
            "Epoch 42/50\n",
            "80/80 [==============================] - 167s 2s/step - loss: 0.0696 - acc: 0.9748 - val_loss: 0.0687 - val_acc: 0.9708\n",
            "Epoch 43/50\n",
            "80/80 [==============================] - 167s 2s/step - loss: 0.0474 - acc: 0.9863 - val_loss: 0.0276 - val_acc: 0.9896\n",
            "Epoch 44/50\n",
            "80/80 [==============================] - 166s 2s/step - loss: 0.0700 - acc: 0.9734 - val_loss: 0.0777 - val_acc: 0.9688\n",
            "Epoch 45/50\n",
            "80/80 [==============================] - 167s 2s/step - loss: 0.0726 - acc: 0.9731 - val_loss: 0.0163 - val_acc: 0.9958\n",
            "Epoch 46/50\n",
            "80/80 [==============================] - 166s 2s/step - loss: 0.0595 - acc: 0.9800 - val_loss: 0.1392 - val_acc: 0.9479\n",
            "Epoch 47/50\n",
            "80/80 [==============================] - 166s 2s/step - loss: 0.0975 - acc: 0.9697 - val_loss: 0.0671 - val_acc: 0.9750\n",
            "Epoch 48/50\n",
            "80/80 [==============================] - 166s 2s/step - loss: 0.0563 - acc: 0.9812 - val_loss: 0.0402 - val_acc: 0.9854\n",
            "Epoch 49/50\n",
            "80/80 [==============================] - 166s 2s/step - loss: 0.0505 - acc: 0.9834 - val_loss: 0.1027 - val_acc: 0.9583\n",
            "Epoch 50/50\n",
            "80/80 [==============================] - 166s 2s/step - loss: 0.0711 - acc: 0.9751 - val_loss: 0.0221 - val_acc: 0.9937\n"
          ],
          "name": "stdout"
        }
      ]
    },
    {
      "cell_type": "code",
      "metadata": {
        "colab": {
          "background_save": true,
          "base_uri": "https://localhost:8080/"
        },
        "id": "vtplowoW6fne",
        "outputId": "75044feb-7500-4820-ef2e-064c3e063cab"
      },
      "source": [
        "target_names = []\n",
        "for key in trainGen.class_indices:\n",
        "    target_names.append(key)\n",
        "    \n",
        "print(target_names)\n"
      ],
      "execution_count": null,
      "outputs": [
        {
          "output_type": "stream",
          "text": [
            "['background', 'snake']\n"
          ],
          "name": "stdout"
        }
      ]
    },
    {
      "cell_type": "code",
      "metadata": {
        "colab": {
          "background_save": true,
          "base_uri": "https://localhost:8080/",
          "height": 573
        },
        "id": "9fv7cPST6fnf",
        "outputId": "d7b4a0f6-fa10-4ade-df64-b4f4f4d8c258"
      },
      "source": [
        "############################################\n",
        "#Plot the Graph\n",
        "\n",
        "acc = H.history['acc']\n",
        "val_acc = H.history['val_acc']\n",
        "loss = H.history['loss']\n",
        "val_loss = H.history['val_loss']\n",
        "epochs = range(1, len(acc) + 1)\n",
        "\n",
        "# Accuracy Curves\n",
        "\n",
        "plt.figure(1)\n",
        "# summarize history for accuracy\n",
        "plt.plot(H.history['acc'])\n",
        "plt.plot(H.history['val_acc'])\n",
        "plt.title('model accuracy of snake Vs Backgroud')\n",
        "plt.ylabel('accuracy')\n",
        "plt.xlabel('epoch')\n",
        "plt.legend(['train', 'validation'], loc='best')\n",
        "plt.savefig('acc.png')\n",
        "plt.show()\n",
        "\n",
        "plt.figure(2)\n",
        "# summarize history for loss\n",
        "plt.plot(H.history['loss'])\n",
        "plt.plot(H.history['val_loss'])\n",
        "plt.title('model loss of snake Vs Backgroud')\n",
        "plt.ylabel('loss')\n",
        "plt.xlabel('epoch')\n",
        "plt.legend(['train', 'validation'], loc='best')\n",
        "plt.savefig('loss.png')\n",
        "plt.show()"
      ],
      "execution_count": null,
      "outputs": [
        {
          "output_type": "display_data",
          "data": {
            "image/png": "[encoded data removed]",
            "text/plain": [
              "<Figure size 432x288 with 1 Axes>"
            ]
          },
          "metadata": {
            "tags": []
          }
        },
        {
          "output_type": "display_data",
          "data": {
            "image/png": "[encoded data removed]",
            "text/plain": [
              "<Figure size 432x288 with 1 Axes>"
            ]
          },
          "metadata": {
            "tags": []
          }
        }
      ]
    },
    {
      "cell_type": "code",
      "metadata": {
        "colab": {
          "base_uri": "https://localhost:8080/"
        },
        "id": "ptPpnqCh6fnf",
        "outputId": "38b2503e-61d7-4cda-9d70-98d5008fc52b"
      },
      "source": [
        "# reset the testing generator and evaluate the network after\n",
        "# fine-tuning just the network head\n",
        "print(\"evaluating after fine-tuning network head...\")\n",
        "\n",
        "totalTest=200\n",
        "testGen.reset()\n",
        "predIdxs = model.predict(x=testGen, steps=(totalTest // batch_size) + 1)\n",
        "predIdxs = np.argmax(predIdxs, axis=1)\n",
        "print(classification_report(testGen.classes, predIdxs,\n",
        "    target_names=testGen.class_indices.keys()))"
      ],
      "execution_count": null,
      "outputs": [
        {
          "output_type": "stream",
          "text": [
            "evaluating after fine-tuning network head...\n"
          ],
          "name": "stdout"
        }
      ]
    },
    {
      "cell_type": "code",
      "metadata": {
        "colab": {
          "background_save": true
        },
        "id": "KDyxk1Ry6fng",
        "outputId": "0a72ad57-7ea1-4858-8633-6c70766c5087"
      },
      "source": [
        "def plot_confusion_matrix(cm, classes, normalize=False, title='Confusion matrix of snake Vs background', cmap=plt.cm.Blues):\n",
        "    \"\"\"\n",
        "    This function prints and plots the confusion matrix.\n",
        "    Normalization can be applied by setting `normalize=True`.\n",
        "    \"\"\"\n",
        "    #plt.figure(figsize=(8,8))\n",
        "\n",
        "    plt.imshow(cm, interpolation='nearest', cmap=cmap)\n",
        "    plt.title(title)\n",
        "    #plt.colorbar()\n",
        "\n",
        "    tick_marks = np.arange(len(classes))\n",
        "    plt.xticks(tick_marks, classes)\n",
        "    plt.yticks(tick_marks, classes)\n",
        "\n",
        "    if normalize:\n",
        "        cm = cm.astype('float') / cm.sum(axis=1)[:, np.newaxis]\n",
        "        cm = np.around(cm, decimals=2)\n",
        "        cm[np.isnan(cm)] = 0.0\n",
        "        print(\"Normalized confusion matrix\")\n",
        "    else:\n",
        "        print('Confusion matrix, without normalization')\n",
        "    thresh = cm.max() / 2.\n",
        "    for i, j in itertools.product(range(cm.shape[0]), range(cm.shape[1])):\n",
        "        plt.text(j, i, cm[i, j],\n",
        "                 horizontalalignment=\"center\",\n",
        "                 color=\"white\" if cm[i, j] > thresh else \"black\")\n",
        "    #plt.tight_layout()\n",
        "    plt.ylabel('True label')\n",
        "    plt.xlabel('Predicted label')\n",
        "   \n",
        "\n",
        "#thresh = cm.max() / 2.\n",
        "#Matplotlib’s matshow\n",
        "cm = confusion_matrix(testGen.classes, predIdxs)\n",
        "\n",
        "plt.figure(3)\n",
        "plot_confusion_matrix(cm, target_names, title='Confusion matrix of snake Vs Backgroud')\n",
        "#print(cm)\n",
        "plt.savefig('snake_VGG16.png')\n",
        "plt.show()"
      ],
      "execution_count": null,
      "outputs": [
        {
          "output_type": "stream",
          "text": [
            "Confusion matrix, without normalization\n"
          ],
          "name": "stdout"
        },
        {
          "output_type": "display_data",
          "data": {
            "image/png": "[encoded data removed]",
            "text/plain": [
              "<Figure size 432x288 with 1 Axes>"
            ]
          },
          "metadata": {
            "tags": []
          }
        }
      ]
    },
    {
      "cell_type": "code",
      "metadata": {
        "id": "spmBp5tG6fnh"
      },
      "source": [
        ""
      ],
      "execution_count": null,
      "outputs": []
    }
  ]
}